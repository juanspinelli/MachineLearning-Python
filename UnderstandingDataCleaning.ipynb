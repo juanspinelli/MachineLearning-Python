{
 "cells": [
  {
   "cell_type": "code",
   "execution_count": 35,
   "metadata": {},
   "outputs": [],
   "source": [
    "import numpy as np\n",
    "import pandas as pd"
   ]
  },
  {
   "cell_type": "code",
   "execution_count": 36,
   "metadata": {},
   "outputs": [],
   "source": [
    "df = pd.read_csv('C:/Users/rvaish/Documents/Python Scripts/MachineLearningPython-DataCleaning/MachineLearningPython-DataCleaning/Loan/Loan.csv', skiprows=1, low_memory=False) "
   ]
  },
  {
   "cell_type": "code",
   "execution_count": 37,
   "metadata": {},
   "outputs": [
    {
     "name": "stdout",
     "output_type": "stream",
     "text": [
      "Index(['id', 'member_id', 'loan_amnt', 'funded_amnt', 'funded_amnt_inv',\n",
      "       'term', 'int_rate', 'installment', 'grade', 'sub_grade',\n",
      "       ...\n",
      "       'hardship_payoff_balance_amount', 'hardship_last_payment_amount',\n",
      "       'disbursement_method', 'debt_settlement_flag',\n",
      "       'debt_settlement_flag_date', 'settlement_status', 'settlement_date',\n",
      "       'settlement_amount', 'settlement_percentage', 'settlement_term'],\n",
      "      dtype='object', length=145)\n",
      "145\n"
     ]
    }
   ],
   "source": [
    "print(df.columns)\n",
    "print(len(df.columns))"
   ]
  },
  {
   "cell_type": "code",
   "execution_count": 38,
   "metadata": {},
   "outputs": [],
   "source": [
    "#df[['loan_amnt','settlement_date']]"
   ]
  },
  {
   "cell_type": "code",
   "execution_count": 39,
   "metadata": {},
   "outputs": [],
   "source": [
    "#Drop the useless columns, on first instance we noticed URL and DESCRIPTION."
   ]
  },
  {
   "cell_type": "code",
   "execution_count": 40,
   "metadata": {},
   "outputs": [],
   "source": [
    "df = df.drop(['url','desc'],axis=1) "
   ]
  },
  {
   "cell_type": "code",
   "execution_count": 41,
   "metadata": {},
   "outputs": [
    {
     "name": "stdout",
     "output_type": "stream",
     "text": [
      "143\n"
     ]
    }
   ],
   "source": [
    "print(len(df.columns))"
   ]
  },
  {
   "cell_type": "code",
   "execution_count": 42,
   "metadata": {},
   "outputs": [
    {
     "name": "stdout",
     "output_type": "stream",
     "text": [
      "inq_last_12m                      42538\n",
      "total_bal_il                      42538\n",
      "mths_since_recent_bc_dlq          42538\n",
      "mths_since_recent_inq             42538\n",
      "mths_since_recent_revol_delinq    42538\n",
      "num_accts_ever_120_pd             42538\n",
      "num_actv_bc_tl                    42538\n",
      "num_actv_rev_tl                   42538\n",
      "num_bc_sats                       42538\n",
      "num_bc_tl                         42538\n",
      "num_il_tl                         42538\n",
      "num_op_rev_tl                     42538\n",
      "num_rev_accts                     42538\n",
      "num_rev_tl_bal_gt_0               42538\n",
      "num_sats                          42538\n",
      "num_tl_120dpd_2m                  42538\n",
      "num_tl_30dpd                      42538\n",
      "num_tl_90g_dpd_24m                42538\n",
      "num_tl_op_past_12m                42538\n",
      "mths_since_recent_bc              42538\n",
      "mort_acc                          42538\n",
      "mo_sin_rcnt_tl                    42538\n",
      "mths_since_rcnt_il                42538\n",
      "open_rv_12m                       42538\n",
      "open_rv_24m                       42538\n",
      "max_bal_bc                        42538\n",
      "all_util                          42538\n",
      "total_rev_hi_lim                  42538\n",
      "inq_fi                            42538\n",
      "total_cu_tl                       42538\n",
      "                                  ...  \n",
      "issue_d                               3\n",
      "funded_amnt                           3\n",
      "home_ownership                        3\n",
      "loan_amnt                             3\n",
      "sub_grade                             3\n",
      "grade                                 3\n",
      "installment                           3\n",
      "int_rate                              3\n",
      "term                                  3\n",
      "purpose                               3\n",
      "disbursement_method                   3\n",
      "zip_code                              3\n",
      "total_rec_late_fee                    3\n",
      "debt_settlement_flag                  3\n",
      "hardship_flag                         3\n",
      "application_type                      3\n",
      "policy_code                           3\n",
      "last_pymnt_amnt                       3\n",
      "collection_recovery_fee               3\n",
      "recoveries                            3\n",
      "total_rec_int                         3\n",
      "addr_state                            3\n",
      "total_rec_prncp                       3\n",
      "total_pymnt_inv                       3\n",
      "total_pymnt                           3\n",
      "out_prncp_inv                         3\n",
      "out_prncp                             3\n",
      "initial_list_status                   3\n",
      "dti                                   3\n",
      "revol_bal                             3\n",
      "Length: 143, dtype: int64\n"
     ]
    }
   ],
   "source": [
    "#Understanding NULL values and sorting them !\n",
    "Isnull=df.isnull().sum()\n",
    "Isnull.sort_values(inplace=True, ascending=False)\n",
    "print(Isnull)"
   ]
  },
  {
   "cell_type": "code",
   "execution_count": 43,
   "metadata": {},
   "outputs": [],
   "source": [
    "#Calculating 50% of the data. We will use this output to set our threshold point."
   ]
  },
  {
   "cell_type": "code",
   "execution_count": 44,
   "metadata": {},
   "outputs": [],
   "source": [
    "half_count = len(df) / 2\n",
    "df = df.dropna(thresh=half_count,axis=1) # Drop any column with more than 50% missing values"
   ]
  },
  {
   "cell_type": "code",
   "execution_count": 45,
   "metadata": {},
   "outputs": [
    {
     "name": "stdout",
     "output_type": "stream",
     "text": [
      "53\n"
     ]
    }
   ],
   "source": [
    "print(len(df.columns))"
   ]
  },
  {
   "cell_type": "code",
   "execution_count": 46,
   "metadata": {},
   "outputs": [
    {
     "name": "stdout",
     "output_type": "stream",
     "text": [
      "emp_title                     2629\n",
      "pub_rec_bankruptcies          1368\n",
      "emp_length                    1115\n",
      "chargeoff_within_12_mths       148\n",
      "collections_12_mths_ex_med     148\n",
      "tax_liens                      108\n",
      "revol_util                      93\n",
      "last_pymnt_d                    86\n",
      "delinq_2yrs                     32\n",
      "delinq_amnt                     32\n",
      "acc_now_delinq                  32\n",
      "earliest_cr_line                32\n",
      "inq_last_6mths                  32\n",
      "open_acc                        32\n",
      "pub_rec                         32\n",
      "total_acc                       32\n",
      "title                           16\n",
      "annual_inc                       7\n",
      "last_credit_pull_d               7\n",
      "zip_code                         3\n",
      "pymnt_plan                       3\n",
      "purpose                          3\n",
      "funded_amnt                      3\n",
      "funded_amnt_inv                  3\n",
      "term                             3\n",
      "int_rate                         3\n",
      "installment                      3\n",
      "sub_grade                        3\n",
      "grade                            3\n",
      "loan_status                      3\n",
      "issue_d                          3\n",
      "verification_status              3\n",
      "home_ownership                   3\n",
      "debt_settlement_flag             3\n",
      "revol_bal                        3\n",
      "addr_state                       3\n",
      "dti                              3\n",
      "hardship_flag                    3\n",
      "application_type                 3\n",
      "policy_code                      3\n",
      "last_pymnt_amnt                  3\n",
      "collection_recovery_fee          3\n",
      "recoveries                       3\n",
      "total_rec_late_fee               3\n",
      "total_rec_int                    3\n",
      "total_rec_prncp                  3\n",
      "total_pymnt_inv                  3\n",
      "total_pymnt                      3\n",
      "out_prncp_inv                    3\n",
      "out_prncp                        3\n",
      "initial_list_status              3\n",
      "disbursement_method              3\n",
      "loan_amnt                        3\n",
      "dtype: int64\n"
     ]
    }
   ],
   "source": [
    "#Re-Checking NULL values and sorting them !\n",
    "Isnull=df.isnull().sum()\n",
    "Isnull.sort_values(inplace=True, ascending=False)\n",
    "print(Isnull)"
   ]
  },
  {
   "cell_type": "code",
   "execution_count": null,
   "metadata": {},
   "outputs": [],
   "source": [
    "#Talking about Missing Values"
   ]
  },
  {
   "cell_type": "code",
   "execution_count": null,
   "metadata": {},
   "outputs": [],
   "source": []
  }
 ],
 "metadata": {
  "kernelspec": {
   "display_name": "Python 3",
   "language": "python",
   "name": "python3"
  },
  "language_info": {
   "codemirror_mode": {
    "name": "ipython",
    "version": 3
   },
   "file_extension": ".py",
   "mimetype": "text/x-python",
   "name": "python",
   "nbconvert_exporter": "python",
   "pygments_lexer": "ipython3",
   "version": "3.6.5"
  }
 },
 "nbformat": 4,
 "nbformat_minor": 2
}
