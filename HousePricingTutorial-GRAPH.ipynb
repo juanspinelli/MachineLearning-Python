{
 "cells": [
  {
   "cell_type": "code",
   "execution_count": 99,
   "metadata": {},
   "outputs": [],
   "source": [
    "import numpy as np\n",
    "import seaborn as sns\n",
    "import pandas as pd\n",
    "import matplotlib.pyplot as plt\n",
    "from scipy import stats"
   ]
  },
  {
   "cell_type": "code",
   "execution_count": 100,
   "metadata": {},
   "outputs": [],
   "source": [
    "#Loading training Dataset\n",
    "data = pd.read_csv('C:/Users/Lenovo/Desktop/IPY/home/MachineLearningPython-HousePriceCompetition/Data/HousePricingTutorial.csv')"
   ]
  },
  {
   "cell_type": "code",
   "execution_count": 101,
   "metadata": {},
   "outputs": [],
   "source": [
    "##The meaning of all the columns are...\n",
    "\n",
    "\n",
    "\n",
    "##SalePrice - the property's sale price in dollars. This is the target variable that you're trying to predict.\n",
    "##MSSubClass: The building class\n",
    "##MSZoning: The general zoning classification\n",
    "##LotFrontage: Linear feet of street connected to property\n",
    "##LotArea: Lot size in square feet\n",
    "##Street: Type of road access\n",
    "##Alley: Type of alley access\n",
    "##LotShape: General shape of property\n",
    "##LandContour: Flatness of the property\n",
    "##Utilities: Type of utilities available\n",
    "##LotConfig: Lot configuration\n",
    "##LandSlope: Slope of property\n",
    "##Neighborhood: Physical locations within Ames city limits\n",
    "##Condition1: Proximity to main road or railroad\n",
    "##Condition2: Proximity to main road or railroad (if a second is present)\n",
    "##BldgType: Type of dwelling\n",
    "##HouseStyle: Style of dwelling\n",
    "##OverallQual: Overall material and finish quality\n",
    "##OverallCond: Overall condition rating\n",
    "##YearBuilt: Original construction date\n",
    "##YearRemodAdd: Remodel date\n",
    "##RoofStyle: Type of roof\n",
    "##RoofMatl: Roof material\n",
    "##Exterior1st: Exterior covering on house\n",
    "##Exterior2nd: Exterior covering on house (if more than one material)\n",
    "##MasVnrType: Masonry veneer type\n",
    "##MasVnrArea: Masonry veneer area in square feet\n",
    "##ExterQual: Exterior material quality\n",
    "##ExterCond: Present condition of the material on the exterior\n",
    "##Foundation: Type of foundation\n",
    "##BsmtQual: Height of the basement\n",
    "##BsmtCond: General condition of the basement\n",
    "##BsmtExposure: Walkout or garden level basement walls\n",
    "##BsmtFinType1: Quality of basement finished area\n",
    "##BsmtFinSF1: Type 1 finished square feet\n",
    "##BsmtFinType2: Quality of second finished area (if present)\n",
    "##BsmtFinSF2: Type 2 finished square feet\n",
    "##BsmtUnfSF: Unfinished square feet of basement area\n",
    "##TotalBsmtSF: Total square feet of basement area\n",
    "##Heating: Type of heating\n",
    "##HeatingQC: Heating quality and condition\n",
    "##CentralAir: Central air conditioning\n",
    "##Electrical: Electrical system\n",
    "##1stFlrSF: First Floor square feet\n",
    "##2ndFlrSF: Second floor square feet\n",
    "##LowQualFinSF: Low quality finished square feet (all floors)\n",
    "##GrLivArea: Above grade (ground) living area square feet\n",
    "##BsmtFullBath: Basement full bathrooms\n",
    "##BsmtHalfBath: Basement half bathrooms\n",
    "##FullBath: Full bathrooms above grade\n",
    "##HalfBath: Half baths above grade\n",
    "##Bedroom: Number of bedrooms above basement level\n",
    "##Kitchen: Number of kitchens\n",
    "##KitchenQual: Kitchen quality\n",
    "##TotRmsAbvGrd: Total rooms above grade (does not include bathrooms)\n",
    "##Functional: Home functionality rating\n",
    "##Fireplaces: Number of fireplaces\n",
    "##FireplaceQu: Fireplace quality\n",
    "##GarageType: Garage location\n",
    "##GarageYrBlt: Year garage was built\n",
    "##GarageFinish: Interior finish of the garage\n",
    "##GarageCars: Size of garage in car capacity\n",
    "##GarageArea: Size of garage in square feet\n",
    "##GarageQual: Garage quality\n",
    "##GarageCond: Garage condition\n",
    "##PavedDrive: Paved driveway\n",
    "##WoodDeckSF: Wood deck area in square feet\n",
    "##OpenPorchSF: Open porch area in square feet\n",
    "##EnclosedPorch: Enclosed porch area in square feet\n",
    "##3SsnPorch: Three season porch area in square feet\n",
    "##ScreenPorch: Screen porch area in square feet\n",
    "##PoolArea: Pool area in square feet\n",
    "##PoolQC: Pool quality\n",
    "##Fence: Fence quality\n",
    "##MiscFeature: Miscellaneous feature not covered in other categories\n",
    "##MiscVal: $Value of miscellaneous feature\n",
    "##MoSold: Month Sold\n",
    "##YrSold: Year Sold\n",
    "##SaleType: Type of sale\n",
    "##SaleCondition: Condition of sale"
   ]
  },
  {
   "cell_type": "code",
   "execution_count": 102,
   "metadata": {},
   "outputs": [
    {
     "name": "stdout",
     "output_type": "stream",
     "text": [
      "(1460, 81)\n"
     ]
    }
   ],
   "source": [
    "#Shape of the data\n",
    "print(data.shape)"
   ]
  },
  {
   "cell_type": "code",
   "execution_count": 103,
   "metadata": {},
   "outputs": [
    {
     "name": "stdout",
     "output_type": "stream",
     "text": [
      "Skew is: 0.12134661989685333\n"
     ]
    },
    {
     "data": {
      "image/png": "[encoded data removed]",
      "text/plain": [
       "<Figure size 432x288 with 1 Axes>"
      ]
     },
     "metadata": {},
     "output_type": "display_data"
    }
   ],
   "source": [
    "data['SalePrice'] = np.log1p(data['SalePrice'])\n",
    "\n",
    "target = data['SalePrice']\n",
    "print (\"Skew is:\", target.skew())\n",
    "plt.hist(target, color='green')\n",
    "plt.show()"
   ]
  },
  {
   "cell_type": "code",
   "execution_count": 104,
   "metadata": {},
   "outputs": [],
   "source": [
    "#Finding all the Numerical columns\n",
    "numeric_features = data.select_dtypes(include=[np.number])"
   ]
  },
  {
   "cell_type": "code",
   "execution_count": 105,
   "metadata": {},
   "outputs": [
    {
     "name": "stdout",
     "output_type": "stream",
     "text": [
      "SalePrice      1.000000\n",
      "OverallQual    0.817185\n",
      "GrLivArea      0.700927\n",
      "GarageCars     0.680625\n",
      "GarageArea     0.650888\n",
      "Name: SalePrice, dtype: float64 \n",
      "\n"
     ]
    }
   ],
   "source": [
    "#Finding the first five features that are most positively correlated with SalePrice\n",
    "corr = numeric_features.corr()\n",
    "print (corr['SalePrice'].sort_values(ascending=False)[:5], '\\n')"
   ]
  },
  {
   "cell_type": "code",
   "execution_count": 106,
   "metadata": {},
   "outputs": [
    {
     "data": {
      "image/png": "[encoded data removed]",
      "text/plain": [
       "<Figure size 432x288 with 1 Axes>"
      ]
     },
     "metadata": {},
     "output_type": "display_data"
    }
   ],
   "source": [
    "#print(data['OverallQual'].unique())\n",
    "\n",
    "\n",
    "plt.scatter(x=data['OverallQual'], y=target)\n",
    "plt.ylabel('Sale Price')\n",
    "plt.xlabel('OverallQual')\n",
    "plt.show()"
   ]
  },
  {
   "cell_type": "code",
   "execution_count": 107,
   "metadata": {},
   "outputs": [
    {
     "data": {
      "image/png": "[encoded data removed]",
      "text/plain": [
       "<Figure size 432x288 with 1 Axes>"
      ]
     },
     "metadata": {},
     "output_type": "display_data"
    }
   ],
   "source": [
    "#REMOVING OUTLINER\n",
    "data = data[data['OverallQual']>2]\n",
    "\n",
    "\n",
    "plt.scatter(x=data['OverallQual'], y=np.log1p(data.SalePrice))\n",
    "plt.ylabel('Sale Price')\n",
    "plt.xlabel('OverallQual')\n",
    "plt.show()"
   ]
  },
  {
   "cell_type": "code",
   "execution_count": 108,
   "metadata": {},
   "outputs": [
    {
     "data": {
      "image/png": "[encoded data removed]",
      "text/plain": [
       "<Figure size 432x288 with 1 Axes>"
      ]
     },
     "metadata": {},
     "output_type": "display_data"
    }
   ],
   "source": [
    "#print(data['GrLivArea'].unique())\n",
    "\n",
    "\n",
    "plt.scatter(x=data['GrLivArea'], y=np.log(data.SalePrice))\n",
    "plt.ylabel('Sale Price')\n",
    "plt.xlabel('GrLivArea')\n",
    "plt.show()"
   ]
  },
  {
   "cell_type": "code",
   "execution_count": 109,
   "metadata": {},
   "outputs": [
    {
     "data": {
      "image/png": "[encoded data removed]",
      "text/plain": [
       "<Figure size 432x288 with 1 Axes>"
      ]
     },
     "metadata": {},
     "output_type": "display_data"
    }
   ],
   "source": [
    "#REMOVING OUTLINER\n",
    "data = data[data['GrLivArea'] < 4500]\n",
    "\n",
    "\n",
    "plt.scatter(x=data['GrLivArea'],  y=np.log(data.SalePrice))\n",
    "plt.ylabel('Sale Price')\n",
    "plt.xlabel('GrLivArea')\n",
    "plt.show()"
   ]
  },
  {
   "cell_type": "code",
   "execution_count": 110,
   "metadata": {},
   "outputs": [
    {
     "data": {
      "image/png": "[encoded data removed]",
      "text/plain": [
       "<Figure size 432x288 with 1 Axes>"
      ]
     },
     "metadata": {},
     "output_type": "display_data"
    }
   ],
   "source": [
    "#print(data['GarageCars'].unique())\n",
    "\n",
    "\n",
    "plt.scatter(x=data['GarageCars'], y=np.log1p(data.SalePrice))\n",
    "plt.ylabel('Sale Price')\n",
    "plt.xlabel('GarageCars')\n",
    "plt.show()"
   ]
  },
  {
   "cell_type": "code",
   "execution_count": 111,
   "metadata": {},
   "outputs": [
    {
     "data": {
      "image/png": "[encoded data removed]",
      "text/plain": [
       "<Figure size 432x288 with 1 Axes>"
      ]
     },
     "metadata": {},
     "output_type": "display_data"
    }
   ],
   "source": [
    "#REMOVING OUTLINER\n",
    "data = data[data['GarageCars'] < 3.5]\n",
    "\n",
    "\n",
    "plt.scatter(x=data['GarageCars'],  y=np.log1p(data.SalePrice))\n",
    "plt.ylabel('Sale Price')\n",
    "plt.xlabel('GarageCars')\n",
    "plt.show()"
   ]
  },
  {
   "cell_type": "code",
   "execution_count": 112,
   "metadata": {},
   "outputs": [
    {
     "data": {
      "image/png": "[encoded data removed]",
      "text/plain": [
       "<Figure size 432x288 with 1 Axes>"
      ]
     },
     "metadata": {},
     "output_type": "display_data"
    }
   ],
   "source": [
    "#print(data['GarageArea'].unique())\n",
    "\n",
    "\n",
    "plt.scatter(x=data['GarageArea'], y=np.log1p(data.SalePrice))\n",
    "plt.ylabel('Sale Price')\n",
    "plt.xlabel('GarageArea')\n",
    "plt.show()"
   ]
  },
  {
   "cell_type": "code",
   "execution_count": 113,
   "metadata": {},
   "outputs": [
    {
     "data": {
      "image/png": "[encoded data removed]",
      "text/plain": [
       "<Figure size 432x288 with 1 Axes>"
      ]
     },
     "metadata": {},
     "output_type": "display_data"
    }
   ],
   "source": [
    "#REMOVING OUTLINER\n",
    "data = data[data['GarageArea'] < 1200]\n",
    "\n",
    "\n",
    "plt.scatter(x=data['GarageArea'],  y=np.log1p(data.SalePrice))\n",
    "plt.ylabel('Sale Price')\n",
    "plt.xlabel('GarageArea')\n",
    "plt.show()"
   ]
  },
  {
   "cell_type": "code",
   "execution_count": 114,
   "metadata": {},
   "outputs": [
    {
     "data": {
      "text/plain": [
       "(1445, 81)"
      ]
     },
     "execution_count": 114,
     "metadata": {},
     "output_type": "execute_result"
    }
   ],
   "source": [
    "data.shape"
   ]
  },
  {
   "cell_type": "code",
   "execution_count": 115,
   "metadata": {},
   "outputs": [
    {
     "name": "stdout",
     "output_type": "stream",
     "text": [
      "PoolQC           1439\n",
      "MiscFeature      1392\n",
      "Alley            1355\n",
      "Fence            1165\n",
      "FireplaceQu       682\n",
      "LotFrontage       257\n",
      "GarageCond         78\n",
      "GarageType         78\n",
      "GarageYrBlt        78\n",
      "GarageFinish       78\n",
      "GarageQual         78\n",
      "BsmtExposure       37\n",
      "BsmtFinType2       37\n",
      "BsmtFinType1       36\n",
      "BsmtCond           36\n",
      "BsmtQual           36\n",
      "MasVnrArea          8\n",
      "MasVnrType          8\n",
      "Electrical          1\n",
      "Utilities           0\n",
      "YearRemodAdd        0\n",
      "MSSubClass          0\n",
      "Foundation          0\n",
      "ExterCond           0\n",
      "ExterQual           0\n",
      "Exterior2nd         0\n",
      "Exterior1st         0\n",
      "RoofMatl            0\n",
      "RoofStyle           0\n",
      "YearBuilt           0\n",
      "                 ... \n",
      "GarageArea          0\n",
      "PavedDrive          0\n",
      "WoodDeckSF          0\n",
      "OpenPorchSF         0\n",
      "3SsnPorch           0\n",
      "BsmtUnfSF           0\n",
      "ScreenPorch         0\n",
      "PoolArea            0\n",
      "MiscVal             0\n",
      "MoSold              0\n",
      "YrSold              0\n",
      "SaleType            0\n",
      "Functional          0\n",
      "TotRmsAbvGrd        0\n",
      "KitchenQual         0\n",
      "KitchenAbvGr        0\n",
      "BedroomAbvGr        0\n",
      "HalfBath            0\n",
      "FullBath            0\n",
      "BsmtHalfBath        0\n",
      "BsmtFullBath        0\n",
      "GrLivArea           0\n",
      "LowQualFinSF        0\n",
      "2ndFlrSF            0\n",
      "1stFlrSF            0\n",
      "CentralAir          0\n",
      "SaleCondition       0\n",
      "Heating             0\n",
      "TotalBsmtSF         0\n",
      "Id                  0\n",
      "Length: 81, dtype: int64\n"
     ]
    }
   ],
   "source": [
    "#Understanding NULL values and sorting them !\n",
    "Isnull=data.isnull().sum()\n",
    "Isnull.sort_values(inplace=True, ascending=False)\n",
    "print(Isnull)"
   ]
  },
  {
   "cell_type": "code",
   "execution_count": 116,
   "metadata": {},
   "outputs": [],
   "source": [
    "#Examining the NULL values and filling with appropriate values:\n",
    "#There are 19 columns with NULLs.\n",
    "\n",
    "# PoolQC           1453\n",
    "# MiscFeature      1406\n",
    "# Alley            1369\n",
    "# Fence            1179\n",
    "# FireplaceQu       690\n",
    "# LotFrontage       259\n",
    "# GarageCond         81\n",
    "# GarageType         81\n",
    "# GarageYrBlt        81\n",
    "# GarageFinish       81\n",
    "# GarageQual         81\n",
    "# BsmtExposure       38\n",
    "# BsmtFinType2       38\n",
    "# BsmtFinType1       37\n",
    "# BsmtCond           37\n",
    "# BsmtQual           37\n",
    "# MasVnrArea          8\n",
    "# MasVnrType          8\n",
    "# Electrical          1\n",
    "\n",
    "\n",
    "data['PoolQC'] = data['PoolQC'].fillna('None')\n",
    "data['MiscFeature'] = data['MiscFeature'].fillna('None')\n",
    "data['Alley'] = data['Alley'].fillna('None')\n",
    "data['Fence'] = data['Fence'].fillna('None')\n",
    "data['FireplaceQu'] = data['FireplaceQu'].fillna('None')\n",
    "data['GarageType'] = data['GarageType'].fillna('None')\n",
    "data['GarageFinish'] = data['GarageFinish'].fillna('None')\n",
    "data['GarageCond'] = data['GarageCond'].fillna('None')\n",
    "data['BsmtFinType2'] = data['BsmtFinType2'].fillna('None')\n",
    "data['BsmtExposure'] = data['BsmtExposure'].fillna('None')\n",
    "data['BsmtFinType1'] = data['BsmtFinType1'].fillna('None')\n",
    "data['BsmtCond'] = data['BsmtCond'].fillna('None')\n",
    "data['BsmtQual'] = data['BsmtQual'].fillna('None')\n",
    "data['GarageQual'] = data['GarageQual'].fillna('None')\n",
    "data['MasVnrType'] = data['MasVnrType'].fillna('None')\n",
    "\n"
   ]
  },
  {
   "cell_type": "code",
   "execution_count": 117,
   "metadata": {},
   "outputs": [],
   "source": [
    "data['GarageYrBlt'] = data['GarageYrBlt'].fillna(int(0))\n",
    "data['GarageArea'] = data['GarageArea'].fillna(int(0))\n",
    "data['GarageCars'] = data['GarageCars'].fillna(int(0))\n",
    "data['MasVnrArea'] = data['MasVnrArea'].fillna(int(0))\n"
   ]
  },
  {
   "cell_type": "code",
   "execution_count": 118,
   "metadata": {},
   "outputs": [],
   "source": [
    "#########################################################################################################"
   ]
  },
  {
   "cell_type": "code",
   "execution_count": 119,
   "metadata": {},
   "outputs": [],
   "source": [
    "#Can Experiment-\n",
    "#Group by neighborhood and fill in missing value by the median LotFrontage of all the neighborhood\n",
    "#train['LotFrontage'] = train.groupby(\"Neighborhood\")[\"LotFrontage\"].transform(lambda x: x.fillna(x.median()))"
   ]
  },
  {
   "cell_type": "code",
   "execution_count": 120,
   "metadata": {},
   "outputs": [],
   "source": [
    "#Can Experiment-\n",
    "#train['Electrical'] = train['Electrical'].fillna(train['Electrical']).mode()[0]"
   ]
  },
  {
   "cell_type": "code",
   "execution_count": 121,
   "metadata": {},
   "outputs": [],
   "source": [
    "data['LotFrontage'] = data['LotFrontage'].fillna(int(0))\n",
    "data['Electrical'] = data['Electrical'].fillna(int (0))\n"
   ]
  },
  {
   "cell_type": "code",
   "execution_count": 122,
   "metadata": {},
   "outputs": [],
   "source": [
    "#########################################################################################################"
   ]
  },
  {
   "cell_type": "code",
   "execution_count": 123,
   "metadata": {},
   "outputs": [
    {
     "data": {
      "text/plain": [
       "Index(['Id', 'MSSubClass', 'MSZoning', 'LotFrontage', 'LotArea', 'Street',\n",
       "       'Alley', 'LotShape', 'LandContour', 'Utilities', 'LotConfig',\n",
       "       'LandSlope', 'Neighborhood', 'Condition1', 'Condition2', 'BldgType',\n",
       "       'HouseStyle', 'OverallQual', 'OverallCond', 'YearBuilt', 'YearRemodAdd',\n",
       "       'RoofStyle', 'RoofMatl', 'Exterior1st', 'Exterior2nd', 'MasVnrType',\n",
       "       'MasVnrArea', 'ExterQual', 'ExterCond', 'Foundation', 'BsmtQual',\n",
       "       'BsmtCond', 'BsmtExposure', 'BsmtFinType1', 'BsmtFinSF1',\n",
       "       'BsmtFinType2', 'BsmtFinSF2', 'BsmtUnfSF', 'TotalBsmtSF', 'Heating',\n",
       "       'HeatingQC', 'CentralAir', 'Electrical', '1stFlrSF', '2ndFlrSF',\n",
       "       'LowQualFinSF', 'GrLivArea', 'BsmtFullBath', 'BsmtHalfBath', 'FullBath',\n",
       "       'HalfBath', 'BedroomAbvGr', 'KitchenAbvGr', 'KitchenQual',\n",
       "       'TotRmsAbvGrd', 'Functional', 'Fireplaces', 'FireplaceQu', 'GarageType',\n",
       "       'GarageYrBlt', 'GarageFinish', 'GarageCars', 'GarageArea', 'GarageQual',\n",
       "       'GarageCond', 'PavedDrive', 'WoodDeckSF', 'OpenPorchSF',\n",
       "       'EnclosedPorch', '3SsnPorch', 'ScreenPorch', 'PoolArea', 'PoolQC',\n",
       "       'Fence', 'MiscFeature', 'MiscVal', 'MoSold', 'YrSold', 'SaleType',\n",
       "       'SaleCondition', 'SalePrice'],\n",
       "      dtype='object')"
      ]
     },
     "execution_count": 123,
     "metadata": {},
     "output_type": "execute_result"
    }
   ],
   "source": [
    "#The total number of columns = 81\n",
    "data.columns"
   ]
  },
  {
   "cell_type": "code",
   "execution_count": 124,
   "metadata": {},
   "outputs": [
    {
     "name": "stdout",
     "output_type": "stream",
     "text": [
      "81\n"
     ]
    }
   ],
   "source": [
    "#Total columns in data:\n",
    "print(len(data.columns))\n"
   ]
  },
  {
   "cell_type": "code",
   "execution_count": 125,
   "metadata": {},
   "outputs": [
    {
     "name": "stdout",
     "output_type": "stream",
     "text": [
      "38\n"
     ]
    }
   ],
   "source": [
    "#Numerical Columns in data = 38\n",
    "print(len(data.select_dtypes(include=[np.number]).columns.tolist()))"
   ]
  },
  {
   "cell_type": "code",
   "execution_count": 126,
   "metadata": {},
   "outputs": [
    {
     "name": "stdout",
     "output_type": "stream",
     "text": [
      "43\n"
     ]
    }
   ],
   "source": [
    "#Non-Numerical Columns in data = 43\n",
    "print(len(data.select_dtypes(exclude=[np.number]).columns.tolist()))"
   ]
  },
  {
   "cell_type": "code",
   "execution_count": 127,
   "metadata": {},
   "outputs": [],
   "source": [
    "#data = 43+38 = 81"
   ]
  },
  {
   "cell_type": "code",
   "execution_count": 128,
   "metadata": {},
   "outputs": [],
   "source": [
    "nonNumColumns = data.select_dtypes(exclude=[np.number]).columns.tolist();"
   ]
  },
  {
   "cell_type": "code",
   "execution_count": 129,
   "metadata": {},
   "outputs": [],
   "source": [
    "#Converting  Dataframe  ---> Numerical + NonNumerical + Sparse\n",
    "def create_dummies(df,column_name):\n",
    "    dummies = pd.get_dummies(df[column_name],prefix=column_name)\n",
    "    df = pd.concat([df,dummies],axis=1)\n",
    "    return df\n",
    "\n",
    "for column in nonNumColumns:\n",
    "    data = create_dummies(data,column)"
   ]
  },
  {
   "cell_type": "code",
   "execution_count": 130,
   "metadata": {},
   "outputs": [
    {
     "data": {
      "text/plain": [
       "(1445, 346)"
      ]
     },
     "execution_count": 130,
     "metadata": {},
     "output_type": "execute_result"
    }
   ],
   "source": [
    "#Before split- checking the shape:\n",
    "data.shape"
   ]
  },
  {
   "cell_type": "code",
   "execution_count": 131,
   "metadata": {},
   "outputs": [],
   "source": [
    "train= data.tail(1435)\n",
    "test=data.head(10)"
   ]
  },
  {
   "cell_type": "code",
   "execution_count": 132,
   "metadata": {},
   "outputs": [],
   "source": [
    "#CO-RELATION BETWEEN NUMERICS IS FOUND\n",
    "#NULL FILLED\n",
    "#NON-NUMERIC IS CONVERTED\n",
    "#TRAIN-TEST IS DIVIDED\n",
    "#TIME TO APPLY MODEL"
   ]
  },
  {
   "cell_type": "code",
   "execution_count": 133,
   "metadata": {},
   "outputs": [
    {
     "name": "stderr",
     "output_type": "stream",
     "text": [
      "C:\\Users\\Lenovo\\Anaconda3\\lib\\site-packages\\sklearn\\cross_validation.py:41: DeprecationWarning: This module was deprecated in version 0.18 in favor of the model_selection module into which all the refactored classes and functions are moved. Also note that the interface of the new CV iterators are different from that of this module. This module will be removed in 0.20.\n",
      "  \"This module will be removed in 0.20.\", DeprecationWarning)\n"
     ]
    }
   ],
   "source": [
    "from sklearn import linear_model\n",
    "from sklearn.cross_validation import train_test_split\n",
    "from sklearn.model_selection import cross_val_score"
   ]
  },
  {
   "cell_type": "code",
   "execution_count": 134,
   "metadata": {},
   "outputs": [],
   "source": [
    "model = linear_model.LinearRegression()"
   ]
  },
  {
   "cell_type": "code",
   "execution_count": 135,
   "metadata": {},
   "outputs": [],
   "source": [
    "#I picked up quality + Co-realation variables.\n",
    "selectdColumns =  ['OverallQual','OverallCond','ExterQual_Ex', 'ExterQual_Fa', 'ExterQual_Gd', 'ExterQual_TA', 'ExterCond_Ex','ExterCond_Fa', 'ExterCond_Gd', 'ExterCond_Po', 'ExterCond_TA','BsmtQual_TA','BsmtQual_Ex', 'BsmtQual_Fa', 'BsmtQual_Gd', 'BsmtQual_None', 'BsmtQual_TA','BsmtCond_Fa', 'BsmtCond_Gd', 'BsmtCond_None', 'BsmtCond_Po', 'BsmtCond_TA','BsmtFinType1_ALQ', 'BsmtFinType1_BLQ', 'BsmtFinType1_GLQ', 'BsmtFinType1_LwQ', 'BsmtFinType1_None', 'BsmtFinType1_Rec', 'BsmtFinType1_Unf','BsmtFinType2_ALQ', 'BsmtFinType2_BLQ', 'BsmtFinType2_GLQ', 'BsmtFinType2_LwQ', 'BsmtFinType2_None', 'BsmtFinType2_Rec', 'BsmtFinType2_Unf', 'HeatingQC_Ex', 'HeatingQC_Fa', 'HeatingQC_Gd', 'HeatingQC_Po', 'HeatingQC_TA','LowQualFinSF',\n",
    "                 'KitchenQual_Ex', 'KitchenQual_Fa', 'KitchenQual_Gd', 'KitchenQual_TA','FireplaceQu_Ex', 'FireplaceQu_Fa', 'FireplaceQu_Gd', 'FireplaceQu_None', 'FireplaceQu_Po', 'FireplaceQu_TA','GarageQual_Ex', 'GarageQual_Fa', 'GarageQual_Gd', 'GarageQual_None', 'GarageQual_Po', 'GarageQual_TA','GarageCond_Ex', 'GarageCond_Fa', 'GarageCond_Gd', 'GarageCond_None', 'GarageCond_Po', 'GarageCond_TA', 'PoolQC_Ex', 'PoolQC_Fa', 'PoolQC_Gd', 'PoolQC_None', 'Fence_GdPrv', 'Fence_GdWo', 'Fence_MnPrv', 'Fence_MnWw', 'Fence_None','MiscFeature_Gar2', 'MiscFeature_None', 'MiscFeature_Othr', 'MiscFeature_Shed', 'MiscFeature_TenC','MoSold','YrSold','SaleType_COD', 'SaleType_CWD', 'SaleType_Con', 'SaleType_ConLD', 'SaleType_ConLI', 'SaleType_ConLw', 'SaleType_New', 'SaleType_Oth', 'SaleType_WD','SaleCondition_Abnorml', 'SaleCondition_AdjLand', 'SaleCondition_Alloca', 'SaleCondition_Family', 'SaleCondition_Normal', 'SaleCondition_Partial',\n",
    "                 'OverallQual','GrLivArea','GarageCars','GarageArea']"
   ]
  },
  {
   "cell_type": "code",
   "execution_count": 136,
   "metadata": {},
   "outputs": [
    {
     "data": {
      "text/plain": [
       "LinearRegression(copy_X=True, fit_intercept=True, n_jobs=1, normalize=False)"
      ]
     },
     "execution_count": 136,
     "metadata": {},
     "output_type": "execute_result"
    }
   ],
   "source": [
    "model.fit(train[selectdColumns], train[\"SalePrice\"])"
   ]
  },
  {
   "cell_type": "code",
   "execution_count": 137,
   "metadata": {},
   "outputs": [
    {
     "name": "stdout",
     "output_type": "stream",
     "text": [
      "[12.25900688 12.65908546 11.43104308 11.97150844 11.28207814 11.53570816\n",
      " 12.14456044 11.8238804  11.75972653 11.67479239 11.99092915 11.79991037\n",
      " 11.86384792 12.01394431 11.95632339 11.73040131 11.97659869 11.70859337\n",
      " 12.50427677 12.21696592 11.94973788 11.66504552 11.89393298 12.16653702\n",
      " 12.87759823 12.67122959 11.84915076 11.99645993 12.11963181 11.92336996\n",
      " 12.80097616 12.50154278 11.84374134 12.20720848 12.49763653 11.42543832\n",
      " 12.22741912 11.82709969 12.08060778 12.62609868 12.60752275 12.06835414\n",
      " 12.27451227 12.3277471  11.74437138 11.94854215 11.52070516 11.88956836\n",
      " 11.8114868  12.48234451 12.18338959 11.87419309 12.37874942 12.09139394\n",
      " 12.05999959 12.12777474 12.23653189 11.64257135 11.67786051 11.73062669\n",
      " 12.09864098 12.10272727 12.08553125 12.44624947 11.91368426 12.2517962\n",
      " 11.84704082 11.6908671  12.4076243  11.5951211  11.71646981 11.96778524\n",
      " 12.28108209 12.04214859 12.32593248 11.84948474 12.20141228 12.49139968\n",
      " 11.72067734 12.14325365 11.63756303 11.65217926 12.08934873 11.56117807\n",
      " 12.52928319 12.30323798 11.87172953 11.78286669 12.14736494 11.766614\n",
      " 12.23941499 11.47561098 12.22001858 11.54476481 11.75135441 12.21693758\n",
      " 11.84375645 12.4115405  12.29619623 11.99657306 12.17688857 11.77414567\n",
      " 11.71414604 11.40313183 11.52478275 11.98745079 12.33470373 12.61500019\n",
      " 12.64872639 11.93259262 11.85928929 12.06231291 12.39353609 12.63609588\n",
      " 12.67516881 12.09349105 11.51794965 11.80218359 11.56505194 12.15922547\n",
      " 12.2793493  12.03802374 11.65930646 11.61468543 12.42375119 12.62682419\n",
      " 12.20413576 11.89829401 11.11885794 11.75150068 12.71721856 11.74609768\n",
      " 11.55059815 11.99761557 12.20630923 12.64436707 11.72621952 12.32755789\n",
      " 12.81929836 12.39013226 11.90342965 12.13172037 11.98827084 12.18493443\n",
      " 11.69947145 11.96873222 12.4264247  11.91804932 12.34472999 12.55963948\n",
      " 11.81245105 11.65608422 12.09763188 12.1213191  11.89016868 11.25645558\n",
      " 11.67460197 11.5721248  11.71611086 12.04328706 11.86386192 11.85578164\n",
      " 12.98370353 11.89844026 11.64051109 12.26767376 11.95574064 12.40708281\n",
      " 11.89068672 12.15653701 11.94506296 11.77779385 12.00757678 11.6392727\n",
      " 12.20811949 11.81270029 12.01937353 11.60908841 11.69212154 11.85347988\n",
      " 12.37101445 11.81966685 11.9089518  11.7408336  12.62456554 11.5149518\n",
      " 11.96653084 11.66384139 12.97974086 11.7758737  11.80013182 11.6300391\n",
      " 11.74641979 12.51646488 11.69129908 12.33070585 11.39259476 11.27291512\n",
      " 11.96254418 12.22505947 11.79960256 11.59252058 12.4503425  12.34112643\n",
      " 11.92449754 11.6584141  12.23026728 12.14235869 11.75030479 11.7136425\n",
      " 11.51425348 12.17635436 12.03485431 12.1680119  12.41423667 11.34172214\n",
      " 11.97266902 11.70392971 12.19523147 12.63126241 12.27904409 12.1691691\n",
      " 12.25757955 12.07391045 12.73769714 12.22109517 12.26599583 11.99937526\n",
      " 12.35191585 12.35039589 11.76571478 11.71271182 11.87916071 11.59432437\n",
      " 13.17165981 12.07492589 11.69008404 11.49341383 12.32183931 11.79684867\n",
      " 12.1471537  12.21073066 11.94266614 11.21315315 11.46697578 12.22659093\n",
      " 11.95172121 12.12150269 11.98365153 12.03256464 11.89159879 11.81705563\n",
      " 12.04269379 12.50909959 12.17297629 11.46549844 11.81840028 11.60845975\n",
      " 12.13444194 11.31800632 11.59124495 12.42988298 12.74082066 12.13549044\n",
      " 12.02141154 11.90620529 12.45045039 11.94832872 12.16775857 12.05226731\n",
      " 12.2438864  12.09197103 12.2021942  12.06709902 12.6967489  11.88620373\n",
      " 11.87334078 11.49702429 11.74693289 11.71113426 12.17704551 11.71874361\n",
      " 12.04109289 12.65620103 12.2264902  11.6556315  12.58459154]\n"
     ]
    }
   ],
   "source": [
    "all_X = train[selectdColumns]\n",
    "all_y = train['SalePrice']\n",
    "\n",
    "train_X, test_X, train_y, test_y = train_test_split(\n",
    "    all_X, all_y, test_size=0.20,random_state=0)\n",
    "\n",
    "model.fit(train_X, train_y)\n",
    "predictions = model.predict(test_X)\n",
    "print(predictions)"
   ]
  },
  {
   "cell_type": "code",
   "execution_count": 138,
   "metadata": {},
   "outputs": [
    {
     "name": "stdout",
     "output_type": "stream",
     "text": [
      "[0.82992999 0.83664728 0.84730659 0.84819748 0.85052198 0.85362457\n",
      " 0.87041801 0.87128283 0.87857453 0.88421059]\n",
      "----\n",
      "0.8570713849504555\n"
     ]
    }
   ],
   "source": [
    "scores = cross_val_score(model, all_X, all_y, cv=10)\n",
    "scores.sort()\n",
    "accuracy = scores.mean()\n",
    "\n",
    "print(scores)\n",
    "print('----')\n",
    "print(accuracy)"
   ]
  },
  {
   "cell_type": "code",
   "execution_count": 139,
   "metadata": {},
   "outputs": [],
   "source": [
    "############  NOW TIME TO USE UNSEEN DATA #################"
   ]
  },
  {
   "cell_type": "code",
   "execution_count": 140,
   "metadata": {},
   "outputs": [
    {
     "data": {
      "text/html": [
       "<div>\n",
       "<style scoped>\n",
       "    .dataframe tbody tr th:only-of-type {\n",
       "        vertical-align: middle;\n",
       "    }\n",
       "\n",
       "    .dataframe tbody tr th {\n",
       "        vertical-align: top;\n",
       "    }\n",
       "\n",
       "    .dataframe thead th {\n",
       "        text-align: right;\n",
       "    }\n",
       "</style>\n",
       "<table border=\"1\" class=\"dataframe\">\n",
       "  <thead>\n",
       "    <tr style=\"text-align: right;\">\n",
       "      <th></th>\n",
       "      <th>OverallQual</th>\n",
       "      <th>OverallCond</th>\n",
       "      <th>ExterQual_Ex</th>\n",
       "      <th>ExterQual_Fa</th>\n",
       "      <th>ExterQual_Gd</th>\n",
       "      <th>ExterQual_TA</th>\n",
       "      <th>ExterCond_Ex</th>\n",
       "      <th>ExterCond_Fa</th>\n",
       "      <th>ExterCond_Gd</th>\n",
       "      <th>ExterCond_Po</th>\n",
       "      <th>...</th>\n",
       "      <th>SaleCondition_Abnorml</th>\n",
       "      <th>SaleCondition_AdjLand</th>\n",
       "      <th>SaleCondition_Alloca</th>\n",
       "      <th>SaleCondition_Family</th>\n",
       "      <th>SaleCondition_Normal</th>\n",
       "      <th>SaleCondition_Partial</th>\n",
       "      <th>OverallQual</th>\n",
       "      <th>GrLivArea</th>\n",
       "      <th>GarageCars</th>\n",
       "      <th>GarageArea</th>\n",
       "    </tr>\n",
       "  </thead>\n",
       "  <tbody>\n",
       "    <tr>\n",
       "      <th>0</th>\n",
       "      <td>7</td>\n",
       "      <td>5</td>\n",
       "      <td>0</td>\n",
       "      <td>0</td>\n",
       "      <td>1</td>\n",
       "      <td>0</td>\n",
       "      <td>0</td>\n",
       "      <td>0</td>\n",
       "      <td>0</td>\n",
       "      <td>0</td>\n",
       "      <td>...</td>\n",
       "      <td>0</td>\n",
       "      <td>0</td>\n",
       "      <td>0</td>\n",
       "      <td>0</td>\n",
       "      <td>1</td>\n",
       "      <td>0</td>\n",
       "      <td>7</td>\n",
       "      <td>1710</td>\n",
       "      <td>2</td>\n",
       "      <td>548</td>\n",
       "    </tr>\n",
       "    <tr>\n",
       "      <th>1</th>\n",
       "      <td>6</td>\n",
       "      <td>8</td>\n",
       "      <td>0</td>\n",
       "      <td>0</td>\n",
       "      <td>0</td>\n",
       "      <td>1</td>\n",
       "      <td>0</td>\n",
       "      <td>0</td>\n",
       "      <td>0</td>\n",
       "      <td>0</td>\n",
       "      <td>...</td>\n",
       "      <td>0</td>\n",
       "      <td>0</td>\n",
       "      <td>0</td>\n",
       "      <td>0</td>\n",
       "      <td>1</td>\n",
       "      <td>0</td>\n",
       "      <td>6</td>\n",
       "      <td>1262</td>\n",
       "      <td>2</td>\n",
       "      <td>460</td>\n",
       "    </tr>\n",
       "    <tr>\n",
       "      <th>2</th>\n",
       "      <td>7</td>\n",
       "      <td>5</td>\n",
       "      <td>0</td>\n",
       "      <td>0</td>\n",
       "      <td>1</td>\n",
       "      <td>0</td>\n",
       "      <td>0</td>\n",
       "      <td>0</td>\n",
       "      <td>0</td>\n",
       "      <td>0</td>\n",
       "      <td>...</td>\n",
       "      <td>0</td>\n",
       "      <td>0</td>\n",
       "      <td>0</td>\n",
       "      <td>0</td>\n",
       "      <td>1</td>\n",
       "      <td>0</td>\n",
       "      <td>7</td>\n",
       "      <td>1786</td>\n",
       "      <td>2</td>\n",
       "      <td>608</td>\n",
       "    </tr>\n",
       "    <tr>\n",
       "      <th>3</th>\n",
       "      <td>7</td>\n",
       "      <td>5</td>\n",
       "      <td>0</td>\n",
       "      <td>0</td>\n",
       "      <td>0</td>\n",
       "      <td>1</td>\n",
       "      <td>0</td>\n",
       "      <td>0</td>\n",
       "      <td>0</td>\n",
       "      <td>0</td>\n",
       "      <td>...</td>\n",
       "      <td>1</td>\n",
       "      <td>0</td>\n",
       "      <td>0</td>\n",
       "      <td>0</td>\n",
       "      <td>0</td>\n",
       "      <td>0</td>\n",
       "      <td>7</td>\n",
       "      <td>1717</td>\n",
       "      <td>3</td>\n",
       "      <td>642</td>\n",
       "    </tr>\n",
       "    <tr>\n",
       "      <th>4</th>\n",
       "      <td>8</td>\n",
       "      <td>5</td>\n",
       "      <td>0</td>\n",
       "      <td>0</td>\n",
       "      <td>1</td>\n",
       "      <td>0</td>\n",
       "      <td>0</td>\n",
       "      <td>0</td>\n",
       "      <td>0</td>\n",
       "      <td>0</td>\n",
       "      <td>...</td>\n",
       "      <td>0</td>\n",
       "      <td>0</td>\n",
       "      <td>0</td>\n",
       "      <td>0</td>\n",
       "      <td>1</td>\n",
       "      <td>0</td>\n",
       "      <td>8</td>\n",
       "      <td>2198</td>\n",
       "      <td>3</td>\n",
       "      <td>836</td>\n",
       "    </tr>\n",
       "    <tr>\n",
       "      <th>5</th>\n",
       "      <td>5</td>\n",
       "      <td>5</td>\n",
       "      <td>0</td>\n",
       "      <td>0</td>\n",
       "      <td>0</td>\n",
       "      <td>1</td>\n",
       "      <td>0</td>\n",
       "      <td>0</td>\n",
       "      <td>0</td>\n",
       "      <td>0</td>\n",
       "      <td>...</td>\n",
       "      <td>0</td>\n",
       "      <td>0</td>\n",
       "      <td>0</td>\n",
       "      <td>0</td>\n",
       "      <td>1</td>\n",
       "      <td>0</td>\n",
       "      <td>5</td>\n",
       "      <td>1362</td>\n",
       "      <td>2</td>\n",
       "      <td>480</td>\n",
       "    </tr>\n",
       "    <tr>\n",
       "      <th>6</th>\n",
       "      <td>8</td>\n",
       "      <td>5</td>\n",
       "      <td>0</td>\n",
       "      <td>0</td>\n",
       "      <td>1</td>\n",
       "      <td>0</td>\n",
       "      <td>0</td>\n",
       "      <td>0</td>\n",
       "      <td>0</td>\n",
       "      <td>0</td>\n",
       "      <td>...</td>\n",
       "      <td>0</td>\n",
       "      <td>0</td>\n",
       "      <td>0</td>\n",
       "      <td>0</td>\n",
       "      <td>1</td>\n",
       "      <td>0</td>\n",
       "      <td>8</td>\n",
       "      <td>1694</td>\n",
       "      <td>2</td>\n",
       "      <td>636</td>\n",
       "    </tr>\n",
       "    <tr>\n",
       "      <th>7</th>\n",
       "      <td>7</td>\n",
       "      <td>6</td>\n",
       "      <td>0</td>\n",
       "      <td>0</td>\n",
       "      <td>0</td>\n",
       "      <td>1</td>\n",
       "      <td>0</td>\n",
       "      <td>0</td>\n",
       "      <td>0</td>\n",
       "      <td>0</td>\n",
       "      <td>...</td>\n",
       "      <td>0</td>\n",
       "      <td>0</td>\n",
       "      <td>0</td>\n",
       "      <td>0</td>\n",
       "      <td>1</td>\n",
       "      <td>0</td>\n",
       "      <td>7</td>\n",
       "      <td>2090</td>\n",
       "      <td>2</td>\n",
       "      <td>484</td>\n",
       "    </tr>\n",
       "    <tr>\n",
       "      <th>8</th>\n",
       "      <td>7</td>\n",
       "      <td>5</td>\n",
       "      <td>0</td>\n",
       "      <td>0</td>\n",
       "      <td>0</td>\n",
       "      <td>1</td>\n",
       "      <td>0</td>\n",
       "      <td>0</td>\n",
       "      <td>0</td>\n",
       "      <td>0</td>\n",
       "      <td>...</td>\n",
       "      <td>1</td>\n",
       "      <td>0</td>\n",
       "      <td>0</td>\n",
       "      <td>0</td>\n",
       "      <td>0</td>\n",
       "      <td>0</td>\n",
       "      <td>7</td>\n",
       "      <td>1774</td>\n",
       "      <td>2</td>\n",
       "      <td>468</td>\n",
       "    </tr>\n",
       "    <tr>\n",
       "      <th>9</th>\n",
       "      <td>5</td>\n",
       "      <td>6</td>\n",
       "      <td>0</td>\n",
       "      <td>0</td>\n",
       "      <td>0</td>\n",
       "      <td>1</td>\n",
       "      <td>0</td>\n",
       "      <td>0</td>\n",
       "      <td>0</td>\n",
       "      <td>0</td>\n",
       "      <td>...</td>\n",
       "      <td>0</td>\n",
       "      <td>0</td>\n",
       "      <td>0</td>\n",
       "      <td>0</td>\n",
       "      <td>1</td>\n",
       "      <td>0</td>\n",
       "      <td>5</td>\n",
       "      <td>1077</td>\n",
       "      <td>1</td>\n",
       "      <td>205</td>\n",
       "    </tr>\n",
       "  </tbody>\n",
       "</table>\n",
       "<p>10 rows × 99 columns</p>\n",
       "</div>"
      ],
      "text/plain": [
       "   OverallQual  OverallCond  ExterQual_Ex  ExterQual_Fa  ExterQual_Gd  \\\n",
       "0            7            5             0             0             1   \n",
       "1            6            8             0             0             0   \n",
       "2            7            5             0             0             1   \n",
       "3            7            5             0             0             0   \n",
       "4            8            5             0             0             1   \n",
       "5            5            5             0             0             0   \n",
       "6            8            5             0             0             1   \n",
       "7            7            6             0             0             0   \n",
       "8            7            5             0             0             0   \n",
       "9            5            6             0             0             0   \n",
       "\n",
       "   ExterQual_TA  ExterCond_Ex  ExterCond_Fa  ExterCond_Gd  ExterCond_Po  \\\n",
       "0             0             0             0             0             0   \n",
       "1             1             0             0             0             0   \n",
       "2             0             0             0             0             0   \n",
       "3             1             0             0             0             0   \n",
       "4             0             0             0             0             0   \n",
       "5             1             0             0             0             0   \n",
       "6             0             0             0             0             0   \n",
       "7             1             0             0             0             0   \n",
       "8             1             0             0             0             0   \n",
       "9             1             0             0             0             0   \n",
       "\n",
       "      ...      SaleCondition_Abnorml  SaleCondition_AdjLand  \\\n",
       "0     ...                          0                      0   \n",
       "1     ...                          0                      0   \n",
       "2     ...                          0                      0   \n",
       "3     ...                          1                      0   \n",
       "4     ...                          0                      0   \n",
       "5     ...                          0                      0   \n",
       "6     ...                          0                      0   \n",
       "7     ...                          0                      0   \n",
       "8     ...                          1                      0   \n",
       "9     ...                          0                      0   \n",
       "\n",
       "   SaleCondition_Alloca  SaleCondition_Family  SaleCondition_Normal  \\\n",
       "0                     0                     0                     1   \n",
       "1                     0                     0                     1   \n",
       "2                     0                     0                     1   \n",
       "3                     0                     0                     0   \n",
       "4                     0                     0                     1   \n",
       "5                     0                     0                     1   \n",
       "6                     0                     0                     1   \n",
       "7                     0                     0                     1   \n",
       "8                     0                     0                     0   \n",
       "9                     0                     0                     1   \n",
       "\n",
       "   SaleCondition_Partial  OverallQual  GrLivArea  GarageCars  GarageArea  \n",
       "0                      0            7       1710           2         548  \n",
       "1                      0            6       1262           2         460  \n",
       "2                      0            7       1786           2         608  \n",
       "3                      0            7       1717           3         642  \n",
       "4                      0            8       2198           3         836  \n",
       "5                      0            5       1362           2         480  \n",
       "6                      0            8       1694           2         636  \n",
       "7                      0            7       2090           2         484  \n",
       "8                      0            7       1774           2         468  \n",
       "9                      0            5       1077           1         205  \n",
       "\n",
       "[10 rows x 99 columns]"
      ]
     },
     "execution_count": 140,
     "metadata": {},
     "output_type": "execute_result"
    }
   ],
   "source": [
    "test[selectdColumns]"
   ]
  },
  {
   "cell_type": "code",
   "execution_count": 141,
   "metadata": {},
   "outputs": [
    {
     "data": {
      "text/html": [
       "<div>\n",
       "<style scoped>\n",
       "    .dataframe tbody tr th:only-of-type {\n",
       "        vertical-align: middle;\n",
       "    }\n",
       "\n",
       "    .dataframe tbody tr th {\n",
       "        vertical-align: top;\n",
       "    }\n",
       "\n",
       "    .dataframe thead th {\n",
       "        text-align: right;\n",
       "    }\n",
       "</style>\n",
       "<table border=\"1\" class=\"dataframe\">\n",
       "  <thead>\n",
       "    <tr style=\"text-align: right;\">\n",
       "      <th></th>\n",
       "      <th>OverallQual</th>\n",
       "      <th>OverallCond</th>\n",
       "      <th>ExterQual_Ex</th>\n",
       "      <th>ExterQual_Fa</th>\n",
       "      <th>ExterQual_Gd</th>\n",
       "      <th>ExterQual_TA</th>\n",
       "      <th>ExterCond_Ex</th>\n",
       "      <th>ExterCond_Fa</th>\n",
       "      <th>ExterCond_Gd</th>\n",
       "      <th>ExterCond_Po</th>\n",
       "      <th>...</th>\n",
       "      <th>SaleCondition_Abnorml</th>\n",
       "      <th>SaleCondition_AdjLand</th>\n",
       "      <th>SaleCondition_Alloca</th>\n",
       "      <th>SaleCondition_Family</th>\n",
       "      <th>SaleCondition_Normal</th>\n",
       "      <th>SaleCondition_Partial</th>\n",
       "      <th>OverallQual</th>\n",
       "      <th>GrLivArea</th>\n",
       "      <th>GarageCars</th>\n",
       "      <th>GarageArea</th>\n",
       "    </tr>\n",
       "  </thead>\n",
       "  <tbody>\n",
       "    <tr>\n",
       "      <th>0</th>\n",
       "      <td>7</td>\n",
       "      <td>5</td>\n",
       "      <td>0</td>\n",
       "      <td>0</td>\n",
       "      <td>1</td>\n",
       "      <td>0</td>\n",
       "      <td>0</td>\n",
       "      <td>0</td>\n",
       "      <td>0</td>\n",
       "      <td>0</td>\n",
       "      <td>...</td>\n",
       "      <td>0</td>\n",
       "      <td>0</td>\n",
       "      <td>0</td>\n",
       "      <td>0</td>\n",
       "      <td>1</td>\n",
       "      <td>0</td>\n",
       "      <td>7</td>\n",
       "      <td>1710</td>\n",
       "      <td>2</td>\n",
       "      <td>548</td>\n",
       "    </tr>\n",
       "  </tbody>\n",
       "</table>\n",
       "<p>1 rows × 99 columns</p>\n",
       "</div>"
      ],
      "text/plain": [
       "   OverallQual  OverallCond  ExterQual_Ex  ExterQual_Fa  ExterQual_Gd  \\\n",
       "0            7            5             0             0             1   \n",
       "\n",
       "   ExterQual_TA  ExterCond_Ex  ExterCond_Fa  ExterCond_Gd  ExterCond_Po  \\\n",
       "0             0             0             0             0             0   \n",
       "\n",
       "      ...      SaleCondition_Abnorml  SaleCondition_AdjLand  \\\n",
       "0     ...                          0                      0   \n",
       "\n",
       "   SaleCondition_Alloca  SaleCondition_Family  SaleCondition_Normal  \\\n",
       "0                     0                     0                     1   \n",
       "\n",
       "   SaleCondition_Partial  OverallQual  GrLivArea  GarageCars  GarageArea  \n",
       "0                      0            7       1710           2         548  \n",
       "\n",
       "[1 rows x 99 columns]"
      ]
     },
     "execution_count": 141,
     "metadata": {},
     "output_type": "execute_result"
    }
   ],
   "source": [
    "test[selectdColumns].iloc[0:1,:]"
   ]
  },
  {
   "cell_type": "code",
   "execution_count": null,
   "metadata": {},
   "outputs": [],
   "source": []
  },
  {
   "cell_type": "code",
   "execution_count": 142,
   "metadata": {
    "scrolled": true
   },
   "outputs": [],
   "source": [
    "prediction = model.predict(test[selectdColumns].iloc[0:1,:])"
   ]
  },
  {
   "cell_type": "code",
   "execution_count": 143,
   "metadata": {},
   "outputs": [
    {
     "name": "stdout",
     "output_type": "stream",
     "text": [
      "[12.25359359]\n"
     ]
    }
   ],
   "source": [
    "print(prediction)"
   ]
  },
  {
   "cell_type": "code",
   "execution_count": 144,
   "metadata": {},
   "outputs": [
    {
     "name": "stdout",
     "output_type": "stream",
     "text": [
      "[209732.63215399]\n"
     ]
    }
   ],
   "source": [
    "print(np.expm1(prediction))\n"
   ]
  },
  {
   "cell_type": "code",
   "execution_count": 145,
   "metadata": {},
   "outputs": [],
   "source": [
    "#The 'actual cost' versus the 'predicted value's':"
   ]
  },
  {
   "cell_type": "code",
   "execution_count": 39,
   "metadata": {},
   "outputs": [],
   "source": [
    "#ACTUAL = 208500\n",
    "#PREDICTED = 209732.63215399\n",
    "\n"
   ]
  },
  {
   "cell_type": "code",
   "execution_count": null,
   "metadata": {},
   "outputs": [],
   "source": []
  },
  {
   "cell_type": "code",
   "execution_count": 40,
   "metadata": {},
   "outputs": [],
   "source": [
    "#THE END"
   ]
  },
  {
   "cell_type": "code",
   "execution_count": null,
   "metadata": {},
   "outputs": [],
   "source": []
  }
 ],
 "metadata": {
  "kernelspec": {
   "display_name": "Python 3",
   "language": "python",
   "name": "python3"
  },
  "language_info": {
   "codemirror_mode": {
    "name": "ipython",
    "version": 3
   },
   "file_extension": ".py",
   "mimetype": "text/x-python",
   "name": "python",
   "nbconvert_exporter": "python",
   "pygments_lexer": "ipython3",
   "version": "3.6.4"
  }
 },
 "nbformat": 4,
 "nbformat_minor": 2
}
