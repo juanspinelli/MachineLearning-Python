{
 "cells": [
  {
   "cell_type": "markdown",
   "metadata": {},
   "source": [
    "### CONFUSION MATRIX | ACCURACY | PRECISION | RECALL | F1-SCORE | ROC-AUC"
   ]
  },
  {
   "cell_type": "code",
   "execution_count": 7,
   "metadata": {},
   "outputs": [
    {
     "name": "stdout",
     "output_type": "stream",
     "text": [
      "Confusion Matrix :\n",
      "[[4 2]\n",
      " [1 3]]\n",
      "____________________\n",
      "Accuracy Score :\n",
      "0.7\n",
      "____________________\n",
      "Report :\n",
      "             precision    recall  f1-score   support\n",
      "\n",
      "          0       0.80      0.67      0.73         6\n",
      "          1       0.60      0.75      0.67         4\n",
      "\n",
      "avg / total       0.72      0.70      0.70        10\n",
      "\n"
     ]
    }
   ],
   "source": [
    "from sklearn.metrics import confusion_matrix \n",
    "from sklearn.metrics import accuracy_score \n",
    "from sklearn.metrics import classification_report \n",
    "actual = [1, 1, 0, 1, 0, 0, 1, 0, 0, 0] \n",
    "predicted = [1, 0, 0, 1, 0, 0, 1, 1, 1, 0] \n",
    "results = confusion_matrix(actual, predicted) \n",
    "print('Confusion Matrix :')\n",
    "print(results) \n",
    "print('____________________')\n",
    "print('Accuracy Score :')\n",
    "print(accuracy_score(actual, predicted)) \n",
    "print('____________________')\n",
    "print('Report :')\n",
    "print(classification_report(actual, predicted))\n"
   ]
  },
  {
   "cell_type": "markdown",
   "metadata": {},
   "source": [
    "### Let's understand the theory and mathematical formulas behind these metics."
   ]
  },
  {
   "cell_type": "markdown",
   "metadata": {},
   "source": [
    "![image](https://user-images.githubusercontent.com/45539698/52319099-e8b9f600-29ed-11e9-8f34-c7f4ffad57f6.png)\n"
   ]
  },
  {
   "cell_type": "markdown",
   "metadata": {},
   "source": [
    "![image](https://user-images.githubusercontent.com/45539698/52319290-eefca200-29ee-11e9-94d6-429bb4dd4454.png)\n"
   ]
  },
  {
   "cell_type": "markdown",
   "metadata": {},
   "source": [
    "<hr>"
   ]
  },
  {
   "cell_type": "markdown",
   "metadata": {},
   "source": [
    "#### Precision-Recall Relationship\n",
    "![image](https://user-images.githubusercontent.com/45539698/52319375-574b8380-29ef-11e9-9712-7622a8328622.png)"
   ]
  },
  {
   "cell_type": "markdown",
   "metadata": {},
   "source": [
    "<hr>"
   ]
  },
  {
   "cell_type": "markdown",
   "metadata": {},
   "source": [
    "#### F1-Score is Harmonic Mean\n",
    "![image](https://user-images.githubusercontent.com/45539698/52319465-ccb75400-29ef-11e9-84d6-bc214ed07239.png)"
   ]
  },
  {
   "cell_type": "markdown",
   "metadata": {},
   "source": [
    "<hr>"
   ]
  },
  {
   "cell_type": "markdown",
   "metadata": {},
   "source": [
    "### ROC - Area Under the Curve"
   ]
  },
  {
   "cell_type": "markdown",
   "metadata": {},
   "source": [
    "Lets assume we are classifying rats as **obese [1]** and **non obese[0]** on the basis of their weights.For classification purpose we are choosing **Logistic regression**.\n",
    "\n",
    " - The **RED** curve in the below diagram represents **NON-OBESITY**.\n",
    " - **BLUE** represents **OBESITY** \n",
    " - **NON-OBESITY** means weights less than theshold (0.5)\n",
    " - **OBESITY** means weights above the threshold.\n",
    " \n",
    "![image](https://user-images.githubusercontent.com/45539698/52516971-98df6700-2c59-11e9-8ea4-fc8d734c6943.png)\n"
   ]
  },
  {
   "cell_type": "markdown",
   "metadata": {},
   "source": [
    "If we decrease the threshold (< 0.5) the **RED** part of the curve will minimise, and **BLUE** part increase. If we increase  the threshold (> 0.5) the **RED** part of the curve will increase, and **BLUE** part decrease.\n",
    "\n",
    "#### Hence, for each threshod value, the classification will be impacted at each step. Some of those which are non-obese will be classified as obese and  some of those which are obese will be classified as non-obese. Therefore, for different  thresholds, there will be different  **Confusion Matricies**"
   ]
  },
  {
   "cell_type": "markdown",
   "metadata": {},
   "source": [
    "![image](https://user-images.githubusercontent.com/45539698/52517037-bc56e180-2c5a-11e9-8d65-f34bb7960511.png)\n"
   ]
  },
  {
   "cell_type": "markdown",
   "metadata": {},
   "source": [
    "As we can see - For different thresholds (T1, T2, T3), there will be different Confusion Matricies. Example for **T5**:\n",
    "![image](https://user-images.githubusercontent.com/45539698/52518688-8fafc380-2c74-11e9-8055-04f63da0e71d.png)\n"
   ]
  },
  {
   "cell_type": "markdown",
   "metadata": {},
   "source": [
    "Similarly, for each threshold, there will be numerous Confusion Matricies."
   ]
  },
  {
   "cell_type": "markdown",
   "metadata": {},
   "source": [
    "![image](https://user-images.githubusercontent.com/45539698/52518233-80794780-2c6d-11e9-8fe9-4e11a0f424d9.png)\n"
   ]
  },
  {
   "cell_type": "markdown",
   "metadata": {},
   "source": [
    "#### Now, the question arises that which threshold should be chosen ? To make this clear we plot ROC Curves. The fundamental of ROC cuves depend upon the two important Formulas - TPR(True Positive Rate) and FPR(False Positive Rate), because ROC curves are plotted between TPR vs. FPR. "
   ]
  },
  {
   "cell_type": "markdown",
   "metadata": {},
   "source": [
    "![image](https://user-images.githubusercontent.com/45539698/52517258-d5fa2800-2c5e-11e9-82dc-2990c9f9f0ef.png)\n"
   ]
  },
  {
   "cell_type": "markdown",
   "metadata": {},
   "source": [
    "As we have seen this confusion Matrix earlier, let's now see how we calculate TPR and FPR and how we plot it on ROC Curve:"
   ]
  },
  {
   "cell_type": "markdown",
   "metadata": {},
   "source": [
    "![image](https://user-images.githubusercontent.com/45539698/52518688-8fafc380-2c74-11e9-8055-04f63da0e71d.png)\n"
   ]
  },
  {
   "cell_type": "markdown",
   "metadata": {},
   "source": [
    "![image](https://user-images.githubusercontent.com/45539698/52518294-7f94e580-2c6e-11e9-8e0e-36615fbd9c0f.png)\n"
   ]
  },
  {
   "cell_type": "markdown",
   "metadata": {},
   "source": [
    "After the ploting is done, we get a ROC curve as below:"
   ]
  },
  {
   "cell_type": "markdown",
   "metadata": {},
   "source": [
    "![image](https://user-images.githubusercontent.com/45539698/52518753-b6222e80-2c75-11e9-852b-ab9d58024b2b.png)\n"
   ]
  },
  {
   "cell_type": "markdown",
   "metadata": {},
   "source": [
    "On first glance we can say that:"
   ]
  },
  {
   "cell_type": "markdown",
   "metadata": {},
   "source": [
    "![image](https://user-images.githubusercontent.com/45539698/52518774-23ce5a80-2c76-11e9-9c90-f13f772a9af6.png)\n"
   ]
  },
  {
   "cell_type": "markdown",
   "metadata": {},
   "source": [
    "Now we can plot various ROC Curves (like above) for different Classification Algorithms, and then compare the Area Under The Curve to choose which algorithm to pick. the hight the AUC, the better the algorithm."
   ]
  },
  {
   "cell_type": "markdown",
   "metadata": {},
   "source": [
    "![image](https://user-images.githubusercontent.com/45539698/52518824-36955f00-2c77-11e9-9f46-c41c76b99500.png)\n"
   ]
  },
  {
   "cell_type": "code",
   "execution_count": null,
   "metadata": {},
   "outputs": [],
   "source": []
  },
  {
   "cell_type": "code",
   "execution_count": null,
   "metadata": {},
   "outputs": [],
   "source": []
  },
  {
   "cell_type": "markdown",
   "metadata": {},
   "source": [
    "### Miscellaneous"
   ]
  },
  {
   "cell_type": "markdown",
   "metadata": {},
   "source": [
    "Relationships between each of them:\n",
    "![image](https://user-images.githubusercontent.com/45539698/52517292-751f1f80-2c5f-11e9-9ac8-7dbac7f8f8a1.png)\n"
   ]
  },
  {
   "cell_type": "code",
   "execution_count": null,
   "metadata": {},
   "outputs": [],
   "source": []
  }
 ],
 "metadata": {
  "kernelspec": {
   "display_name": "Python 3",
   "language": "python",
   "name": "python3"
  },
  "language_info": {
   "codemirror_mode": {
    "name": "ipython",
    "version": 3
   },
   "file_extension": ".py",
   "mimetype": "text/x-python",
   "name": "python",
   "nbconvert_exporter": "python",
   "pygments_lexer": "ipython3",
   "version": "3.6.4"
  }
 },
 "nbformat": 4,
 "nbformat_minor": 2
}
