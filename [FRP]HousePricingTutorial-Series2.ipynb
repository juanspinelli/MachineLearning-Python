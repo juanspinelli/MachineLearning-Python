{
 "cells": [
  {
   "cell_type": "code",
   "execution_count": 1,
   "metadata": {},
   "outputs": [],
   "source": [
    "import numpy as np\n",
    "import seaborn as sns\n",
    "import pandas as pd\n",
    "import matplotlib.pyplot as plt\n",
    "from scipy import stats"
   ]
  },
  {
   "cell_type": "code",
   "execution_count": 2,
   "metadata": {},
   "outputs": [],
   "source": [
    "#Loading training Dataset\n",
    "train = pd.read_csv('C:/Users/Lenovo/Desktop/IPY/HousePriceProblem/HousePricingTutorial_train.csv')"
   ]
  },
  {
   "cell_type": "code",
   "execution_count": 3,
   "metadata": {},
   "outputs": [],
   "source": [
    "##The meaning of all the columns are...\n",
    "\n",
    "\n",
    "\n",
    "##SalePrice - the property's sale price in dollars. This is the target variable that you're trying to predict.\n",
    "##MSSubClass: The building class\n",
    "##MSZoning: The general zoning classification\n",
    "##LotFrontage: Linear feet of street connected to property\n",
    "##LotArea: Lot size in square feet\n",
    "##Street: Type of road access\n",
    "##Alley: Type of alley access\n",
    "##LotShape: General shape of property\n",
    "##LandContour: Flatness of the property\n",
    "##Utilities: Type of utilities available\n",
    "##LotConfig: Lot configuration\n",
    "##LandSlope: Slope of property\n",
    "##Neighborhood: Physical locations within Ames city limits\n",
    "##Condition1: Proximity to main road or railroad\n",
    "##Condition2: Proximity to main road or railroad (if a second is present)\n",
    "##BldgType: Type of dwelling\n",
    "##HouseStyle: Style of dwelling\n",
    "##OverallQual: Overall material and finish quality\n",
    "##OverallCond: Overall condition rating\n",
    "##YearBuilt: Original construction date\n",
    "##YearRemodAdd: Remodel date\n",
    "##RoofStyle: Type of roof\n",
    "##RoofMatl: Roof material\n",
    "##Exterior1st: Exterior covering on house\n",
    "##Exterior2nd: Exterior covering on house (if more than one material)\n",
    "##MasVnrType: Masonry veneer type\n",
    "##MasVnrArea: Masonry veneer area in square feet\n",
    "##ExterQual: Exterior material quality\n",
    "##ExterCond: Present condition of the material on the exterior\n",
    "##Foundation: Type of foundation\n",
    "##BsmtQual: Height of the basement\n",
    "##BsmtCond: General condition of the basement\n",
    "##BsmtExposure: Walkout or garden level basement walls\n",
    "##BsmtFinType1: Quality of basement finished area\n",
    "##BsmtFinSF1: Type 1 finished square feet\n",
    "##BsmtFinType2: Quality of second finished area (if present)\n",
    "##BsmtFinSF2: Type 2 finished square feet\n",
    "##BsmtUnfSF: Unfinished square feet of basement area\n",
    "##TotalBsmtSF: Total square feet of basement area\n",
    "##Heating: Type of heating\n",
    "##HeatingQC: Heating quality and condition\n",
    "##CentralAir: Central air conditioning\n",
    "##Electrical: Electrical system\n",
    "##1stFlrSF: First Floor square feet\n",
    "##2ndFlrSF: Second floor square feet\n",
    "##LowQualFinSF: Low quality finished square feet (all floors)\n",
    "##GrLivArea: Above grade (ground) living area square feet\n",
    "##BsmtFullBath: Basement full bathrooms\n",
    "##BsmtHalfBath: Basement half bathrooms\n",
    "##FullBath: Full bathrooms above grade\n",
    "##HalfBath: Half baths above grade\n",
    "##Bedroom: Number of bedrooms above basement level\n",
    "##Kitchen: Number of kitchens\n",
    "##KitchenQual: Kitchen quality\n",
    "##TotRmsAbvGrd: Total rooms above grade (does not include bathrooms)\n",
    "##Functional: Home functionality rating\n",
    "##Fireplaces: Number of fireplaces\n",
    "##FireplaceQu: Fireplace quality\n",
    "##GarageType: Garage location\n",
    "##GarageYrBlt: Year garage was built\n",
    "##GarageFinish: Interior finish of the garage\n",
    "##GarageCars: Size of garage in car capacity\n",
    "##GarageArea: Size of garage in square feet\n",
    "##GarageQual: Garage quality\n",
    "##GarageCond: Garage condition\n",
    "##PavedDrive: Paved driveway\n",
    "##WoodDeckSF: Wood deck area in square feet\n",
    "##OpenPorchSF: Open porch area in square feet\n",
    "##EnclosedPorch: Enclosed porch area in square feet\n",
    "##3SsnPorch: Three season porch area in square feet\n",
    "##ScreenPorch: Screen porch area in square feet\n",
    "##PoolArea: Pool area in square feet\n",
    "##PoolQC: Pool quality\n",
    "##Fence: Fence quality\n",
    "##MiscFeature: Miscellaneous feature not covered in other categories\n",
    "##MiscVal: $Value of miscellaneous feature\n",
    "##MoSold: Month Sold\n",
    "##YrSold: Year Sold\n",
    "##SaleType: Type of sale\n",
    "##SaleCondition: Condition of sale"
   ]
  },
  {
   "cell_type": "code",
   "execution_count": 4,
   "metadata": {},
   "outputs": [
    {
     "data": {
      "text/plain": [
       "(1458, 81)"
      ]
     },
     "execution_count": 4,
     "metadata": {},
     "output_type": "execute_result"
    }
   ],
   "source": [
    "#Shape of train data\n",
    "train.shape"
   ]
  },
  {
   "cell_type": "code",
   "execution_count": 5,
   "metadata": {},
   "outputs": [
    {
     "name": "stdout",
     "output_type": "stream",
     "text": [
      "Skew is: 0.12173541793810867\n"
     ]
    },
    {
     "data": {
      "image/png": "[encoded data removed]",
      "text/plain": [
       "<Figure size 432x288 with 1 Axes>"
      ]
     },
     "metadata": {},
     "output_type": "display_data"
    }
   ],
   "source": [
    "train['SalePrice'] = np.log1p(train['SalePrice'])\n",
    "\n",
    "target = train['SalePrice']\n",
    "print (\"Skew is:\", target.skew())\n",
    "plt.hist(target, color='green')\n",
    "plt.show()"
   ]
  },
  {
   "cell_type": "code",
   "execution_count": 6,
   "metadata": {},
   "outputs": [],
   "source": [
    "#Finding all the Numerical columns\n",
    "numeric_features = train.select_dtypes(include=[np.number])"
   ]
  },
  {
   "cell_type": "code",
   "execution_count": 7,
   "metadata": {},
   "outputs": [
    {
     "name": "stdout",
     "output_type": "stream",
     "text": [
      "SalePrice      1.000000\n",
      "OverallQual    0.817178\n",
      "GrLivArea      0.700871\n",
      "GarageCars     0.680653\n",
      "GarageArea     0.650867\n",
      "Name: SalePrice, dtype: float64 \n",
      "\n"
     ]
    }
   ],
   "source": [
    "#Finding the first five features that are most positively correlated with SalePrice\n",
    "corr = numeric_features.corr()\n",
    "print (corr['SalePrice'].sort_values(ascending=False)[:5], '\\n')"
   ]
  },
  {
   "cell_type": "code",
   "execution_count": 8,
   "metadata": {},
   "outputs": [
    {
     "name": "stdout",
     "output_type": "stream",
     "text": [
      "PoolQC           1451\n",
      "MiscFeature      1404\n",
      "Alley            1367\n",
      "Fence            1177\n",
      "FireplaceQu       688\n",
      "LotFrontage       259\n",
      "GarageCond         81\n",
      "GarageType         81\n",
      "GarageYrBlt        81\n",
      "GarageFinish       81\n",
      "GarageQual         81\n",
      "BsmtExposure       38\n",
      "BsmtFinType2       38\n",
      "BsmtFinType1       37\n",
      "BsmtCond           37\n",
      "BsmtQual           37\n",
      "MasVnrArea          8\n",
      "MasVnrType          8\n",
      "Electrical          1\n",
      "Utilities           0\n",
      "YearRemodAdd        0\n",
      "MSSubClass          0\n",
      "Foundation          0\n",
      "ExterCond           0\n",
      "ExterQual           0\n",
      "Exterior2nd         0\n",
      "Exterior1st         0\n",
      "RoofMatl            0\n",
      "RoofStyle           0\n",
      "YearBuilt           0\n",
      "                 ... \n",
      "GarageArea          0\n",
      "PavedDrive          0\n",
      "WoodDeckSF          0\n",
      "OpenPorchSF         0\n",
      "3SsnPorch           0\n",
      "BsmtUnfSF           0\n",
      "ScreenPorch         0\n",
      "PoolArea            0\n",
      "MiscVal             0\n",
      "MoSold              0\n",
      "YrSold              0\n",
      "SaleType            0\n",
      "Functional          0\n",
      "TotRmsAbvGrd        0\n",
      "KitchenQual         0\n",
      "KitchenAbvGr        0\n",
      "BedroomAbvGr        0\n",
      "HalfBath            0\n",
      "FullBath            0\n",
      "BsmtHalfBath        0\n",
      "BsmtFullBath        0\n",
      "GrLivArea           0\n",
      "LowQualFinSF        0\n",
      "2ndFlrSF            0\n",
      "1stFlrSF            0\n",
      "CentralAir          0\n",
      "SaleCondition       0\n",
      "Heating             0\n",
      "TotalBsmtSF         0\n",
      "Id                  0\n",
      "Length: 81, dtype: int64\n"
     ]
    }
   ],
   "source": [
    "#Understanding NULL values and sorting them !\n",
    "Isnull=train.isnull().sum()\n",
    "Isnull.sort_values(inplace=True, ascending=False)\n",
    "print(Isnull)"
   ]
  },
  {
   "cell_type": "code",
   "execution_count": 9,
   "metadata": {},
   "outputs": [],
   "source": [
    "#Examining the NULL values and filling with appropriate values:\n",
    "#There are 19 columns with NULLs.\n",
    "\n",
    "# PoolQC           1453\n",
    "# MiscFeature      1406\n",
    "# Alley            1369\n",
    "# Fence            1179\n",
    "# FireplaceQu       690\n",
    "# LotFrontage       259\n",
    "# GarageCond         81\n",
    "# GarageType         81\n",
    "# GarageYrBlt        81\n",
    "# GarageFinish       81\n",
    "# GarageQual         81\n",
    "# BsmtExposure       38\n",
    "# BsmtFinType2       38\n",
    "# BsmtFinType1       37\n",
    "# BsmtCond           37\n",
    "# BsmtQual           37\n",
    "# MasVnrArea          8\n",
    "# MasVnrType          8\n",
    "# Electrical          1\n",
    "\n",
    "\n",
    "train['PoolQC'] = train['PoolQC'].fillna('None')\n",
    "train['MiscFeature'] = train['MiscFeature'].fillna('None')\n",
    "train['Alley'] = train['Alley'].fillna('None')\n",
    "train['Fence'] = train['Fence'].fillna('None')\n",
    "train['FireplaceQu'] = train['FireplaceQu'].fillna('None')\n",
    "train['GarageType'] = train['GarageType'].fillna('None')\n",
    "train['GarageFinish'] = train['GarageFinish'].fillna('None')\n",
    "train['GarageCond'] = train['GarageCond'].fillna('None')\n",
    "train['BsmtFinType2'] = train['BsmtFinType2'].fillna('None')\n",
    "train['BsmtExposure'] = train['BsmtExposure'].fillna('None')\n",
    "train['BsmtFinType1'] = train['BsmtFinType1'].fillna('None')\n",
    "train['BsmtCond'] = train['BsmtCond'].fillna('None')\n",
    "train['BsmtQual'] = train['BsmtQual'].fillna('None')\n",
    "train['GarageQual'] = train['GarageQual'].fillna('None')\n",
    "train['MasVnrType'] = train['MasVnrType'].fillna('None')"
   ]
  },
  {
   "cell_type": "code",
   "execution_count": 10,
   "metadata": {},
   "outputs": [],
   "source": [
    "train['GarageYrBlt'] = train['GarageYrBlt'].fillna(int(0))\n",
    "train['GarageArea'] = train['GarageArea'].fillna(int(0))\n",
    "train['GarageCars'] = train['GarageCars'].fillna(int(0))\n",
    "train['MasVnrArea'] = train['MasVnrArea'].fillna(int(0))"
   ]
  },
  {
   "cell_type": "code",
   "execution_count": 11,
   "metadata": {},
   "outputs": [],
   "source": [
    "#########################################################################################################"
   ]
  },
  {
   "cell_type": "code",
   "execution_count": 12,
   "metadata": {},
   "outputs": [],
   "source": [
    "#Can Experiment-\n",
    "#Group by neighborhood and fill in missing value by the median LotFrontage of all the neighborhood\n",
    "#train['LotFrontage'] = train.groupby(\"Neighborhood\")[\"LotFrontage\"].transform(lambda x: x.fillna(x.median()))"
   ]
  },
  {
   "cell_type": "code",
   "execution_count": 13,
   "metadata": {},
   "outputs": [],
   "source": [
    "#Can Experiment-\n",
    "#train['Electrical'] = train['Electrical'].fillna(train['Electrical']).mode()[0]"
   ]
  },
  {
   "cell_type": "code",
   "execution_count": 14,
   "metadata": {},
   "outputs": [],
   "source": [
    "train['LotFrontage'] = train['LotFrontage'].fillna(int(0))\n",
    "train['Electrical'] = train['Electrical'].fillna(int (0))"
   ]
  },
  {
   "cell_type": "code",
   "execution_count": 15,
   "metadata": {},
   "outputs": [],
   "source": [
    "#########################################################################################################"
   ]
  },
  {
   "cell_type": "code",
   "execution_count": 16,
   "metadata": {},
   "outputs": [
    {
     "data": {
      "text/plain": [
       "Index(['Id', 'MSSubClass', 'MSZoning', 'LotFrontage', 'LotArea', 'Street',\n",
       "       'Alley', 'LotShape', 'LandContour', 'Utilities', 'LotConfig',\n",
       "       'LandSlope', 'Neighborhood', 'Condition1', 'Condition2', 'BldgType',\n",
       "       'HouseStyle', 'OverallQual', 'OverallCond', 'YearBuilt', 'YearRemodAdd',\n",
       "       'RoofStyle', 'RoofMatl', 'Exterior1st', 'Exterior2nd', 'MasVnrType',\n",
       "       'MasVnrArea', 'ExterQual', 'ExterCond', 'Foundation', 'BsmtQual',\n",
       "       'BsmtCond', 'BsmtExposure', 'BsmtFinType1', 'BsmtFinSF1',\n",
       "       'BsmtFinType2', 'BsmtFinSF2', 'BsmtUnfSF', 'TotalBsmtSF', 'Heating',\n",
       "       'HeatingQC', 'CentralAir', 'Electrical', '1stFlrSF', '2ndFlrSF',\n",
       "       'LowQualFinSF', 'GrLivArea', 'BsmtFullBath', 'BsmtHalfBath', 'FullBath',\n",
       "       'HalfBath', 'BedroomAbvGr', 'KitchenAbvGr', 'KitchenQual',\n",
       "       'TotRmsAbvGrd', 'Functional', 'Fireplaces', 'FireplaceQu', 'GarageType',\n",
       "       'GarageYrBlt', 'GarageFinish', 'GarageCars', 'GarageArea', 'GarageQual',\n",
       "       'GarageCond', 'PavedDrive', 'WoodDeckSF', 'OpenPorchSF',\n",
       "       'EnclosedPorch', '3SsnPorch', 'ScreenPorch', 'PoolArea', 'PoolQC',\n",
       "       'Fence', 'MiscFeature', 'MiscVal', 'MoSold', 'YrSold', 'SaleType',\n",
       "       'SaleCondition', 'SalePrice'],\n",
       "      dtype='object')"
      ]
     },
     "execution_count": 16,
     "metadata": {},
     "output_type": "execute_result"
    }
   ],
   "source": [
    "#The total number of columns = 81\n",
    "train.columns"
   ]
  },
  {
   "cell_type": "code",
   "execution_count": 17,
   "metadata": {},
   "outputs": [
    {
     "data": {
      "text/plain": [
       "81"
      ]
     },
     "execution_count": 17,
     "metadata": {},
     "output_type": "execute_result"
    }
   ],
   "source": [
    "len(train.columns)"
   ]
  },
  {
   "cell_type": "code",
   "execution_count": 18,
   "metadata": {},
   "outputs": [
    {
     "data": {
      "text/plain": [
       "38"
      ]
     },
     "execution_count": 18,
     "metadata": {},
     "output_type": "execute_result"
    }
   ],
   "source": [
    "#Numerical Columns = 38\n",
    "len(train.select_dtypes(include=[np.number]).columns.tolist())"
   ]
  },
  {
   "cell_type": "code",
   "execution_count": 19,
   "metadata": {},
   "outputs": [
    {
     "data": {
      "text/plain": [
       "43"
      ]
     },
     "execution_count": 19,
     "metadata": {},
     "output_type": "execute_result"
    }
   ],
   "source": [
    "#Non-Numerical Columns = 43\n",
    "len(train.select_dtypes(exclude=[np.number]).columns.tolist())"
   ]
  },
  {
   "cell_type": "code",
   "execution_count": 41,
   "metadata": {},
   "outputs": [
    {
     "data": {
      "text/plain": [
       "81"
      ]
     },
     "execution_count": 41,
     "metadata": {},
     "output_type": "execute_result"
    }
   ],
   "source": [
    "38+43"
   ]
  },
  {
   "cell_type": "code",
   "execution_count": 20,
   "metadata": {},
   "outputs": [],
   "source": [
    "#Converting  Non-Numerical (COUNT=43) ---> Numerical (COUNT=43)\n",
    "nonNumColumns = ('FireplaceQu', 'BsmtQual', 'BsmtCond', 'GarageQual', 'GarageCond', \n",
    "        'ExterQual', 'ExterCond','HeatingQC', 'PoolQC', 'KitchenQual', 'BsmtFinType1', \n",
    "        'BsmtFinType2', 'Functional', 'Fence', 'BsmtExposure', 'GarageFinish', 'LandSlope',\n",
    "        'LotShape', 'PavedDrive', 'Street', 'Alley', 'CentralAir',  \n",
    "        'MSZoning', 'LandContour', 'LotConfig', 'Neighborhood',\n",
    "        'Condition1', 'Condition2', 'BldgType', 'HouseStyle', 'RoofStyle', 'RoofMatl', 'Exterior1st',\n",
    "        'Exterior2nd', 'MasVnrType', 'Foundation', 'GarageType', 'MiscFeature', \n",
    "        'SaleType', 'SaleCondition', 'Electrical', 'Heating','Utilities')"
   ]
  },
  {
   "cell_type": "code",
   "execution_count": 22,
   "metadata": {},
   "outputs": [
    {
     "data": {
      "text/plain": [
       "array(['TA', 'Fa', 'Gd', 'None', 'Ex', 'Po'], dtype=object)"
      ]
     },
     "execution_count": 22,
     "metadata": {},
     "output_type": "execute_result"
    }
   ],
   "source": [
    "#Before Labeling Example\n",
    "train['GarageQual'].unique()"
   ]
  },
  {
   "cell_type": "code",
   "execution_count": 23,
   "metadata": {},
   "outputs": [],
   "source": [
    "from sklearn.preprocessing import LabelEncoder\n",
    "for column in nonNumColumns:\n",
    "    label = LabelEncoder() \n",
    "    label.fit(list(train[column].values)) \n",
    "    train[column] = label.transform(list(train[column].values))    "
   ]
  },
  {
   "cell_type": "code",
   "execution_count": 24,
   "metadata": {},
   "outputs": [
    {
     "data": {
      "text/plain": [
       "array([5, 1, 2, 3, 0, 4], dtype=int64)"
      ]
     },
     "execution_count": 24,
     "metadata": {},
     "output_type": "execute_result"
    }
   ],
   "source": [
    "#After Labeling Example\n",
    "train['GarageQual'].unique()"
   ]
  },
  {
   "cell_type": "code",
   "execution_count": 25,
   "metadata": {},
   "outputs": [],
   "source": [
    "#CO-RELATION BETWEEN NUMERICS IS FOUND\n",
    "#NULL FILLED\n",
    "#NON-NUMERIC IS CONVERTED\n",
    "#TIME TO APPLY MODEL"
   ]
  },
  {
   "cell_type": "code",
   "execution_count": 26,
   "metadata": {},
   "outputs": [
    {
     "name": "stderr",
     "output_type": "stream",
     "text": [
      "C:\\Users\\Lenovo\\Anaconda3\\lib\\site-packages\\sklearn\\cross_validation.py:41: DeprecationWarning: This module was deprecated in version 0.18 in favor of the model_selection module into which all the refactored classes and functions are moved. Also note that the interface of the new CV iterators are different from that of this module. This module will be removed in 0.20.\n",
      "  \"This module will be removed in 0.20.\", DeprecationWarning)\n"
     ]
    }
   ],
   "source": [
    "from sklearn import linear_model\n",
    "from sklearn.cross_validation import train_test_split\n",
    "from sklearn.model_selection import cross_val_score"
   ]
  },
  {
   "cell_type": "code",
   "execution_count": 27,
   "metadata": {},
   "outputs": [],
   "source": [
    "model = linear_model.LinearRegression()"
   ]
  },
  {
   "cell_type": "code",
   "execution_count": 28,
   "metadata": {},
   "outputs": [],
   "source": [
    "#I picked up quality + Co-realation variables.\n",
    "selectdColumns = ['OverallQual','OverallCond','ExterQual','ExterCond','BsmtQual','BsmtCond','BsmtFinType1','BsmtFinType2','HeatingQC','LowQualFinSF',\n",
    "                 'KitchenQual','FireplaceQu','GarageQual','GarageCond','PoolQC','Fence','MiscFeature','MoSold','YrSold','SaleType','SaleCondition',\n",
    "                 'OverallQual','GrLivArea','GarageCars','GarageArea']"
   ]
  },
  {
   "cell_type": "code",
   "execution_count": 29,
   "metadata": {},
   "outputs": [
    {
     "data": {
      "text/plain": [
       "LinearRegression(copy_X=True, fit_intercept=True, n_jobs=1, normalize=False)"
      ]
     },
     "execution_count": 29,
     "metadata": {},
     "output_type": "execute_result"
    }
   ],
   "source": [
    "model.fit(train[selectdColumns], train[\"SalePrice\"])"
   ]
  },
  {
   "cell_type": "code",
   "execution_count": 30,
   "metadata": {},
   "outputs": [
    {
     "name": "stdout",
     "output_type": "stream",
     "text": [
      "[12.28850024 12.32329331 12.60176331 12.78745685 12.00637242 11.78304255\n",
      " 12.2560505  12.21354069 12.33843509 12.31816493 12.2189567  11.5209833\n",
      " 11.70290664 12.22699121 11.40481213 11.05735449 12.34703279 11.64935221\n",
      " 11.81478188 12.95133211 12.63923365 11.82690752 11.68352672 12.65555306\n",
      " 12.97415274 12.27229647 12.02640327 11.66230974 12.02573389 13.01800453\n",
      " 11.75486096 11.82794357 12.03443376 12.16897034 11.55860038 11.4403416\n",
      " 12.27117903 12.25019829 11.65717173 11.44734519 11.99577954 12.08348419\n",
      " 11.90907091 11.7526968  11.81176886 11.91314428 12.52820046 12.68361355\n",
      " 12.95999251 12.08315871 12.32990082 12.76864658 11.77855898 11.92551355\n",
      " 12.52866274 11.6978037  11.9232952  12.27061692 12.09823749 12.21469229\n",
      " 11.88727123 13.03871459 11.73279801 12.43167242 11.64334131 12.8067848\n",
      " 12.5328932  12.44886342 11.80816448 11.583076   11.75121645 12.0447169\n",
      " 12.42155584 12.13798452 12.26020096 12.01179879 11.29024594 12.24312915\n",
      " 12.19305529 12.44446638 12.07937813 11.7676106  12.58986752 12.36966062\n",
      " 12.15378153 11.79483299 11.73612887 11.99404169 11.54976348 11.41033655\n",
      " 11.78172921 12.37587896 12.29170384 12.41814864 11.66479825 11.64549841\n",
      " 12.03200708 12.4390733  11.97811742 11.46928979 12.11148073 12.1311603\n",
      " 12.18458044 11.72543758 11.99207739 12.09393112 12.0203499  12.06858372\n",
      " 12.30412431 11.70123519 11.71819992 11.96128609 11.46704011 12.66783088\n",
      " 11.72893496 11.95107706 12.65903378 12.13020356 12.55247191 12.04128269\n",
      " 11.95097213 11.26388682 11.62723203 11.08000751 11.12002996 12.06458301\n",
      " 11.6167546  12.45125366 12.30876708 11.61954201 12.70501962 11.79772993\n",
      " 12.21519613 12.20593034 12.31615365 12.04712765 11.72205194 11.6429978\n",
      " 12.22852566 11.77576778 12.34240652 12.57567959 12.28628124 11.86038762\n",
      " 12.08861442 12.20348223 12.07874904 11.69160847 11.67191212 11.80916795\n",
      " 11.56643615 12.07090242 12.48111249 12.10495186 12.43598679 11.63752361\n",
      " 12.17048754 12.21163825 11.5522458  11.52052007 11.58276028 12.25326691\n",
      " 11.53069075 11.81506654 11.97068974 11.82514595 11.74939377 11.93779511\n",
      " 11.65572106 11.76482322 12.43561607 11.58132675 12.47147462 11.85311137\n",
      " 12.97994366 11.64214033 12.20261259 11.95512373 11.7139042  11.55316434\n",
      " 12.25722133 12.4365672  12.2105491  11.84202146 12.53379892 11.8936965\n",
      " 12.2595158  12.3020493  11.88905035 12.64896324 12.01697851 12.44986378\n",
      " 11.86147663 11.40826293 12.02296485 11.5553312  12.17663619 12.68207155\n",
      " 12.39723756 11.64032705 12.62879279 12.27535308 12.25645956 11.87624429\n",
      " 12.25501591 12.0505657  12.49488297 11.44078109 11.54058976 12.481215\n",
      " 12.24138164 12.44023462 11.74666513 11.94563289 12.70842743 11.89205298\n",
      " 12.55098937 12.37195447 12.2117893  12.13800015 12.29255538 12.32064536\n",
      " 12.19910176 11.95512373 12.02439921 11.88988613 11.84582233 12.13580249\n",
      " 12.07546138 12.34091    12.39231694 12.20084228 12.29499502 12.16984976\n",
      " 12.79477177 11.65938297 11.83263052 12.1946639  12.21904596 11.69698414\n",
      " 12.27549854 11.75452938 12.00937866 12.32160107 11.61172385 12.75400166\n",
      " 11.93196743 12.62921414 12.2263021  11.59293258 12.20326131 11.89379725\n",
      " 11.71242315 12.86469118 11.93578392 12.2145013  12.2744602  12.2366181\n",
      " 12.11425277 12.022695   11.35565686 11.75467748 12.15477354 12.37886218\n",
      " 12.33326455 11.67007795 11.56520114 12.58795824 11.34537638 12.08961762\n",
      " 11.85923669 11.61957305 12.23750868 11.8817129  11.83613155 12.03818299\n",
      " 12.32222008 12.10626237 12.02973976 12.21281169 12.76158467 12.30797596\n",
      " 12.14853871 12.01854079 12.25883895 11.14622937 12.37729335 12.13746802\n",
      " 11.95606231 11.80345086 11.60494844 11.76159348]\n"
     ]
    }
   ],
   "source": [
    "all_X = train[selectdColumns]\n",
    "all_y = train['SalePrice']\n",
    "\n",
    "train_X, test_X, train_y, test_y = train_test_split(\n",
    "    all_X, all_y, test_size=0.20,random_state=0)\n",
    "\n",
    "model.fit(train_X, train_y)\n",
    "predictions = model.predict(test_X)\n",
    "print(predictions)"
   ]
  },
  {
   "cell_type": "code",
   "execution_count": 31,
   "metadata": {},
   "outputs": [
    {
     "name": "stdout",
     "output_type": "stream",
     "text": [
      "[0.63166185 0.77591923 0.80436632 0.80627104 0.8259072  0.84184312\n",
      " 0.85232549 0.86041892 0.86843155 0.87523158]\n",
      "----\n",
      "0.814237630193446\n"
     ]
    }
   ],
   "source": [
    "scores = cross_val_score(model, all_X, all_y, cv=10)\n",
    "scores.sort()\n",
    "accuracy = scores.mean()\n",
    "\n",
    "print(scores)\n",
    "print('----')\n",
    "print(accuracy)"
   ]
  },
  {
   "cell_type": "code",
   "execution_count": 32,
   "metadata": {},
   "outputs": [],
   "source": [
    "############  NOW TIME TO USE UNSEEN DATA #################"
   ]
  },
  {
   "cell_type": "code",
   "execution_count": 33,
   "metadata": {},
   "outputs": [],
   "source": [
    "#Loading testing Dataset\n",
    "test = pd.read_csv('C:/Users/Lenovo/Desktop/IPY/HousePriceProblem/HousePricingTutorial.csv')"
   ]
  },
  {
   "cell_type": "code",
   "execution_count": 34,
   "metadata": {},
   "outputs": [],
   "source": [
    "predictions =model.predict(test[selectdColumns])"
   ]
  },
  {
   "cell_type": "code",
   "execution_count": 35,
   "metadata": {},
   "outputs": [
    {
     "name": "stdout",
     "output_type": "stream",
     "text": [
      "[12.27033742 11.79744226]\n"
     ]
    }
   ],
   "source": [
    "print(predictions)"
   ]
  },
  {
   "cell_type": "code",
   "execution_count": 36,
   "metadata": {},
   "outputs": [],
   "source": [
    "# The above value means in $ as:"
   ]
  },
  {
   "cell_type": "code",
   "execution_count": 37,
   "metadata": {},
   "outputs": [
    {
     "name": "stdout",
     "output_type": "stream",
     "text": [
      "[213273.94110526 132910.96344037]\n"
     ]
    }
   ],
   "source": [
    "realvalues = np.expm1(predictions)\n",
    "print(realvalues)"
   ]
  },
  {
   "cell_type": "code",
   "execution_count": 38,
   "metadata": {},
   "outputs": [],
   "source": [
    "#The 'actual cost' versus the 'predicted value's':"
   ]
  },
  {
   "cell_type": "code",
   "execution_count": 39,
   "metadata": {},
   "outputs": [],
   "source": [
    "#ACTUAL = 208500\n",
    "#PREDICTED = 213273.94110526\n",
    "\n",
    "\n",
    "#ACTUAL = 147500\n",
    "#PREDICTED = 132910.96344037"
   ]
  },
  {
   "cell_type": "code",
   "execution_count": null,
   "metadata": {},
   "outputs": [],
   "source": []
  },
  {
   "cell_type": "code",
   "execution_count": 40,
   "metadata": {},
   "outputs": [],
   "source": [
    "#THE END"
   ]
  },
  {
   "cell_type": "code",
   "execution_count": null,
   "metadata": {},
   "outputs": [],
   "source": []
  }
 ],
 "metadata": {
  "kernelspec": {
   "display_name": "Python 3",
   "language": "python",
   "name": "python3"
  },
  "language_info": {
   "codemirror_mode": {
    "name": "ipython",
    "version": 3
   },
   "file_extension": ".py",
   "mimetype": "text/x-python",
   "name": "python",
   "nbconvert_exporter": "python",
   "pygments_lexer": "ipython3",
   "version": "3.6.4"
  }
 },
 "nbformat": 4,
 "nbformat_minor": 2
}
