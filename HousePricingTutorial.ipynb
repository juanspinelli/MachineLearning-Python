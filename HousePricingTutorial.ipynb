{
 "cells": [
  {
   "cell_type": "code",
   "execution_count": 276,
   "metadata": {},
   "outputs": [],
   "source": [
    "import numpy as np\n",
    "import seaborn as sns\n",
    "import pandas as pd\n",
    "import matplotlib.pyplot as plt\n",
    "from scipy import stats"
   ]
  },
  {
   "cell_type": "code",
   "execution_count": 277,
   "metadata": {},
   "outputs": [],
   "source": [
    "#Loading training Dataset\n",
    "train = pd.read_csv('C:/Users/rvaish/Documents/Python Scripts/MachineLearningPython-HousePriceCompetition/Data/HousePricingTutorial_train.csv')"
   ]
  },
  {
   "cell_type": "code",
   "execution_count": 278,
   "metadata": {},
   "outputs": [],
   "source": [
    "#Loading testing Dataset\n",
    "test = pd.read_csv('C:/Users/rvaish/Documents/Python Scripts/MachineLearningPython-HousePriceCompetition/Data/HousePricingTutorial_test.csv')"
   ]
  },
  {
   "cell_type": "code",
   "execution_count": 279,
   "metadata": {},
   "outputs": [],
   "source": [
    "##The meaning of all the columns are...\n",
    "\n",
    "\n",
    "\n",
    "##SalePrice - the property's sale price in dollars. This is the target variable that you're trying to predict.\n",
    "##MSSubClass: The building class\n",
    "##MSZoning: The general zoning classification\n",
    "##LotFrontage: Linear feet of street connected to property\n",
    "##LotArea: Lot size in square feet\n",
    "##Street: Type of road access\n",
    "##Alley: Type of alley access\n",
    "##LotShape: General shape of property\n",
    "##LandContour: Flatness of the property\n",
    "##Utilities: Type of utilities available\n",
    "##LotConfig: Lot configuration\n",
    "##LandSlope: Slope of property\n",
    "##Neighborhood: Physical locations within Ames city limits\n",
    "##Condition1: Proximity to main road or railroad\n",
    "##Condition2: Proximity to main road or railroad (if a second is present)\n",
    "##BldgType: Type of dwelling\n",
    "##HouseStyle: Style of dwelling\n",
    "##OverallQual: Overall material and finish quality\n",
    "##OverallCond: Overall condition rating\n",
    "##YearBuilt: Original construction date\n",
    "##YearRemodAdd: Remodel date\n",
    "##RoofStyle: Type of roof\n",
    "##RoofMatl: Roof material\n",
    "##Exterior1st: Exterior covering on house\n",
    "##Exterior2nd: Exterior covering on house (if more than one material)\n",
    "##MasVnrType: Masonry veneer type\n",
    "##MasVnrArea: Masonry veneer area in square feet\n",
    "##ExterQual: Exterior material quality\n",
    "##ExterCond: Present condition of the material on the exterior\n",
    "##Foundation: Type of foundation\n",
    "##BsmtQual: Height of the basement\n",
    "##BsmtCond: General condition of the basement\n",
    "##BsmtExposure: Walkout or garden level basement walls\n",
    "##BsmtFinType1: Quality of basement finished area\n",
    "##BsmtFinSF1: Type 1 finished square feet\n",
    "##BsmtFinType2: Quality of second finished area (if present)\n",
    "##BsmtFinSF2: Type 2 finished square feet\n",
    "##BsmtUnfSF: Unfinished square feet of basement area\n",
    "##TotalBsmtSF: Total square feet of basement area\n",
    "##Heating: Type of heating\n",
    "##HeatingQC: Heating quality and condition\n",
    "##CentralAir: Central air conditioning\n",
    "##Electrical: Electrical system\n",
    "##1stFlrSF: First Floor square feet\n",
    "##2ndFlrSF: Second floor square feet\n",
    "##LowQualFinSF: Low quality finished square feet (all floors)\n",
    "##GrLivArea: Above grade (ground) living area square feet\n",
    "##BsmtFullBath: Basement full bathrooms\n",
    "##BsmtHalfBath: Basement half bathrooms\n",
    "##FullBath: Full bathrooms above grade\n",
    "##HalfBath: Half baths above grade\n",
    "##Bedroom: Number of bedrooms above basement level\n",
    "##Kitchen: Number of kitchens\n",
    "##KitchenQual: Kitchen quality\n",
    "##TotRmsAbvGrd: Total rooms above grade (does not include bathrooms)\n",
    "##Functional: Home functionality rating\n",
    "##Fireplaces: Number of fireplaces\n",
    "##FireplaceQu: Fireplace quality\n",
    "##GarageType: Garage location\n",
    "##GarageYrBlt: Year garage was built\n",
    "##GarageFinish: Interior finish of the garage\n",
    "##GarageCars: Size of garage in car capacity\n",
    "##GarageArea: Size of garage in square feet\n",
    "##GarageQual: Garage quality\n",
    "##GarageCond: Garage condition\n",
    "##PavedDrive: Paved driveway\n",
    "##WoodDeckSF: Wood deck area in square feet\n",
    "##OpenPorchSF: Open porch area in square feet\n",
    "##EnclosedPorch: Enclosed porch area in square feet\n",
    "##3SsnPorch: Three season porch area in square feet\n",
    "##ScreenPorch: Screen porch area in square feet\n",
    "##PoolArea: Pool area in square feet\n",
    "##PoolQC: Pool quality\n",
    "##Fence: Fence quality\n",
    "##MiscFeature: Miscellaneous feature not covered in other categories\n",
    "##MiscVal: $Value of miscellaneous feature\n",
    "##MoSold: Month Sold\n",
    "##YrSold: Year Sold\n",
    "##SaleType: Type of sale\n",
    "##SaleCondition: Condition of sale"
   ]
  },
  {
   "cell_type": "code",
   "execution_count": 280,
   "metadata": {},
   "outputs": [
    {
     "name": "stdout",
     "output_type": "stream",
     "text": [
      "(1443, 81)\n",
      "(17, 80)\n"
     ]
    }
   ],
   "source": [
    "#Shape of train  data\n",
    "print(train.shape)\n",
    "print(test.shape)"
   ]
  },
  {
   "cell_type": "code",
   "execution_count": 281,
   "metadata": {},
   "outputs": [
    {
     "name": "stdout",
     "output_type": "stream",
     "text": [
      "Skew is: 0.12004842292003634\n"
     ]
    },
    {
     "data": {
      "image/png": "[encoded data removed]",
      "text/plain": [
       "<Figure size 432x288 with 1 Axes>"
      ]
     },
     "metadata": {},
     "output_type": "display_data"
    }
   ],
   "source": [
    "train['SalePrice'] = np.log1p(train['SalePrice'])\n",
    "\n",
    "target = train['SalePrice']\n",
    "print (\"Skew is:\", target.skew())\n",
    "plt.hist(target, color='green')\n",
    "plt.show()"
   ]
  },
  {
   "cell_type": "code",
   "execution_count": 282,
   "metadata": {},
   "outputs": [],
   "source": [
    "#Finding all the Numerical columns\n",
    "numeric_features = train.select_dtypes(include=[np.number])"
   ]
  },
  {
   "cell_type": "code",
   "execution_count": 283,
   "metadata": {},
   "outputs": [
    {
     "name": "stdout",
     "output_type": "stream",
     "text": [
      "SalePrice      1.000000\n",
      "OverallQual    0.817339\n",
      "GrLivArea      0.700460\n",
      "GarageCars     0.680535\n",
      "GarageArea     0.650589\n",
      "Name: SalePrice, dtype: float64 \n",
      "\n"
     ]
    }
   ],
   "source": [
    "#Finding the first five features that are most positively correlated with SalePrice\n",
    "corr = numeric_features.corr()\n",
    "print (corr['SalePrice'].sort_values(ascending=False)[:5], '\\n')"
   ]
  },
  {
   "cell_type": "code",
   "execution_count": 284,
   "metadata": {},
   "outputs": [
    {
     "name": "stdout",
     "output_type": "stream",
     "text": [
      "PoolQC           1436\n",
      "MiscFeature      1390\n",
      "Alley            1353\n",
      "Fence            1165\n",
      "FireplaceQu       679\n",
      "LotFrontage       257\n",
      "GarageCond         78\n",
      "GarageType         78\n",
      "GarageYrBlt        78\n",
      "GarageFinish       78\n",
      "GarageQual         78\n",
      "BsmtExposure       38\n",
      "BsmtFinType2       38\n",
      "BsmtFinType1       37\n",
      "BsmtCond           37\n",
      "BsmtQual           37\n",
      "MasVnrArea          8\n",
      "MasVnrType          8\n",
      "Electrical          1\n",
      "Utilities           0\n",
      "YearRemodAdd        0\n",
      "MSSubClass          0\n",
      "Foundation          0\n",
      "ExterCond           0\n",
      "ExterQual           0\n",
      "Exterior2nd         0\n",
      "Exterior1st         0\n",
      "RoofMatl            0\n",
      "RoofStyle           0\n",
      "YearBuilt           0\n",
      "                 ... \n",
      "GarageArea          0\n",
      "PavedDrive          0\n",
      "WoodDeckSF          0\n",
      "OpenPorchSF         0\n",
      "3SsnPorch           0\n",
      "BsmtUnfSF           0\n",
      "ScreenPorch         0\n",
      "PoolArea            0\n",
      "MiscVal             0\n",
      "MoSold              0\n",
      "YrSold              0\n",
      "SaleType            0\n",
      "Functional          0\n",
      "TotRmsAbvGrd        0\n",
      "KitchenQual         0\n",
      "KitchenAbvGr        0\n",
      "BedroomAbvGr        0\n",
      "HalfBath            0\n",
      "FullBath            0\n",
      "BsmtHalfBath        0\n",
      "BsmtFullBath        0\n",
      "GrLivArea           0\n",
      "LowQualFinSF        0\n",
      "2ndFlrSF            0\n",
      "1stFlrSF            0\n",
      "CentralAir          0\n",
      "SaleCondition       0\n",
      "Heating             0\n",
      "TotalBsmtSF         0\n",
      "Id                  0\n",
      "Length: 81, dtype: int64\n"
     ]
    }
   ],
   "source": [
    "#Understanding NULL values and sorting them !\n",
    "Isnull=train.isnull().sum()\n",
    "Isnull.sort_values(inplace=True, ascending=False)\n",
    "print(Isnull)"
   ]
  },
  {
   "cell_type": "code",
   "execution_count": 285,
   "metadata": {},
   "outputs": [],
   "source": [
    "#Examining the NULL values and filling with appropriate values:\n",
    "#There are 19 columns with NULLs.\n",
    "\n",
    "# PoolQC           1453\n",
    "# MiscFeature      1406\n",
    "# Alley            1369\n",
    "# Fence            1179\n",
    "# FireplaceQu       690\n",
    "# LotFrontage       259\n",
    "# GarageCond         81\n",
    "# GarageType         81\n",
    "# GarageYrBlt        81\n",
    "# GarageFinish       81\n",
    "# GarageQual         81\n",
    "# BsmtExposure       38\n",
    "# BsmtFinType2       38\n",
    "# BsmtFinType1       37\n",
    "# BsmtCond           37\n",
    "# BsmtQual           37\n",
    "# MasVnrArea          8\n",
    "# MasVnrType          8\n",
    "# Electrical          1\n",
    "\n",
    "\n",
    "train['PoolQC'] = train['PoolQC'].fillna('None')\n",
    "train['MiscFeature'] = train['MiscFeature'].fillna('None')\n",
    "train['Alley'] = train['Alley'].fillna('None')\n",
    "train['Fence'] = train['Fence'].fillna('None')\n",
    "train['FireplaceQu'] = train['FireplaceQu'].fillna('None')\n",
    "train['GarageType'] = train['GarageType'].fillna('None')\n",
    "train['GarageFinish'] = train['GarageFinish'].fillna('None')\n",
    "train['GarageCond'] = train['GarageCond'].fillna('None')\n",
    "train['BsmtFinType2'] = train['BsmtFinType2'].fillna('None')\n",
    "train['BsmtExposure'] = train['BsmtExposure'].fillna('None')\n",
    "train['BsmtFinType1'] = train['BsmtFinType1'].fillna('None')\n",
    "train['BsmtCond'] = train['BsmtCond'].fillna('None')\n",
    "train['BsmtQual'] = train['BsmtQual'].fillna('None')\n",
    "train['GarageQual'] = train['GarageQual'].fillna('None')\n",
    "train['MasVnrType'] = train['MasVnrType'].fillna('None')\n",
    "\n",
    "\n",
    "\n",
    "\n",
    "test['PoolQC'] = test['PoolQC'].fillna('None')\n",
    "test['MiscFeature'] = test['MiscFeature'].fillna('None')\n",
    "test['Alley'] = test['Alley'].fillna('None')\n",
    "test['Fence'] = test['Fence'].fillna('None')\n",
    "test['FireplaceQu'] = test['FireplaceQu'].fillna('None')\n",
    "test['GarageType'] = test['GarageType'].fillna('None')\n",
    "test['GarageFinish'] = test['GarageFinish'].fillna('None')\n",
    "test['GarageCond'] = test['GarageCond'].fillna('None')\n",
    "test['BsmtFinType2'] = test['BsmtFinType2'].fillna('None')\n",
    "test['BsmtExposure'] = test['BsmtExposure'].fillna('None')\n",
    "test['BsmtFinType1'] = test['BsmtFinType1'].fillna('None')\n",
    "test['BsmtCond'] = test['BsmtCond'].fillna('None')\n",
    "test['BsmtQual'] = test['BsmtQual'].fillna('None')\n",
    "test['GarageQual'] = test['GarageQual'].fillna('None')\n",
    "test['MasVnrType'] = test['MasVnrType'].fillna('None')"
   ]
  },
  {
   "cell_type": "code",
   "execution_count": 286,
   "metadata": {},
   "outputs": [],
   "source": [
    "train['GarageYrBlt'] = train['GarageYrBlt'].fillna(int(0))\n",
    "train['GarageArea'] = train['GarageArea'].fillna(int(0))\n",
    "train['GarageCars'] = train['GarageCars'].fillna(int(0))\n",
    "train['MasVnrArea'] = train['MasVnrArea'].fillna(int(0))\n",
    "\n",
    "\n",
    "test['GarageYrBlt'] = test['GarageYrBlt'].fillna(int(0))\n",
    "test['GarageArea'] = test['GarageArea'].fillna(int(0))\n",
    "test['GarageCars'] = test['GarageCars'].fillna(int(0))\n",
    "test['MasVnrArea'] = test['MasVnrArea'].fillna(int(0))"
   ]
  },
  {
   "cell_type": "code",
   "execution_count": 287,
   "metadata": {},
   "outputs": [],
   "source": [
    "#########################################################################################################"
   ]
  },
  {
   "cell_type": "code",
   "execution_count": 288,
   "metadata": {},
   "outputs": [],
   "source": [
    "#Can Experiment-\n",
    "#Group by neighborhood and fill in missing value by the median LotFrontage of all the neighborhood\n",
    "#train['LotFrontage'] = train.groupby(\"Neighborhood\")[\"LotFrontage\"].transform(lambda x: x.fillna(x.median()))"
   ]
  },
  {
   "cell_type": "code",
   "execution_count": 289,
   "metadata": {},
   "outputs": [],
   "source": [
    "#Can Experiment-\n",
    "#train['Electrical'] = train['Electrical'].fillna(train['Electrical']).mode()[0]"
   ]
  },
  {
   "cell_type": "code",
   "execution_count": 290,
   "metadata": {},
   "outputs": [],
   "source": [
    "train['LotFrontage'] = train['LotFrontage'].fillna(int(0))\n",
    "train['Electrical'] = train['Electrical'].fillna(int (0))\n",
    "\n",
    "test['LotFrontage'] = test['LotFrontage'].fillna(int(0))\n",
    "test['Electrical'] = test['Electrical'].fillna(int (0))"
   ]
  },
  {
   "cell_type": "code",
   "execution_count": 291,
   "metadata": {},
   "outputs": [],
   "source": [
    "#########################################################################################################"
   ]
  },
  {
   "cell_type": "code",
   "execution_count": 292,
   "metadata": {},
   "outputs": [
    {
     "data": {
      "text/plain": [
       "Index(['Id', 'MSSubClass', 'MSZoning', 'LotFrontage', 'LotArea', 'Street',\n",
       "       'Alley', 'LotShape', 'LandContour', 'Utilities', 'LotConfig',\n",
       "       'LandSlope', 'Neighborhood', 'Condition1', 'Condition2', 'BldgType',\n",
       "       'HouseStyle', 'OverallQual', 'OverallCond', 'YearBuilt', 'YearRemodAdd',\n",
       "       'RoofStyle', 'RoofMatl', 'Exterior1st', 'Exterior2nd', 'MasVnrType',\n",
       "       'MasVnrArea', 'ExterQual', 'ExterCond', 'Foundation', 'BsmtQual',\n",
       "       'BsmtCond', 'BsmtExposure', 'BsmtFinType1', 'BsmtFinSF1',\n",
       "       'BsmtFinType2', 'BsmtFinSF2', 'BsmtUnfSF', 'TotalBsmtSF', 'Heating',\n",
       "       'HeatingQC', 'CentralAir', 'Electrical', '1stFlrSF', '2ndFlrSF',\n",
       "       'LowQualFinSF', 'GrLivArea', 'BsmtFullBath', 'BsmtHalfBath', 'FullBath',\n",
       "       'HalfBath', 'BedroomAbvGr', 'KitchenAbvGr', 'KitchenQual',\n",
       "       'TotRmsAbvGrd', 'Functional', 'Fireplaces', 'FireplaceQu', 'GarageType',\n",
       "       'GarageYrBlt', 'GarageFinish', 'GarageCars', 'GarageArea', 'GarageQual',\n",
       "       'GarageCond', 'PavedDrive', 'WoodDeckSF', 'OpenPorchSF',\n",
       "       'EnclosedPorch', '3SsnPorch', 'ScreenPorch', 'PoolArea', 'PoolQC',\n",
       "       'Fence', 'MiscFeature', 'MiscVal', 'MoSold', 'YrSold', 'SaleType',\n",
       "       'SaleCondition', 'SalePrice'],\n",
       "      dtype='object')"
      ]
     },
     "execution_count": 292,
     "metadata": {},
     "output_type": "execute_result"
    }
   ],
   "source": [
    "#The total number of columns = 81\n",
    "train.columns"
   ]
  },
  {
   "cell_type": "code",
   "execution_count": 293,
   "metadata": {},
   "outputs": [
    {
     "name": "stdout",
     "output_type": "stream",
     "text": [
      "81\n",
      "80\n"
     ]
    }
   ],
   "source": [
    "#Total columns in train:\n",
    "print(len(train.columns))\n",
    "#Total columns in test:\n",
    "print(len(test.columns))"
   ]
  },
  {
   "cell_type": "code",
   "execution_count": 294,
   "metadata": {},
   "outputs": [
    {
     "name": "stdout",
     "output_type": "stream",
     "text": [
      "38\n",
      "37\n"
     ]
    }
   ],
   "source": [
    "#Numerical Columns in train = 38\n",
    "print(len(train.select_dtypes(include=[np.number]).columns.tolist()))\n",
    "\n",
    "#Numerical Columns in test = 37\n",
    "print(len(test.select_dtypes(include=[np.number]).columns.tolist()))"
   ]
  },
  {
   "cell_type": "code",
   "execution_count": 295,
   "metadata": {},
   "outputs": [
    {
     "name": "stdout",
     "output_type": "stream",
     "text": [
      "43\n",
      "43\n"
     ]
    }
   ],
   "source": [
    "#Non-Numerical Columns in train = 43\n",
    "print(len(train.select_dtypes(exclude=[np.number]).columns.tolist()))\n",
    "\n",
    "#Non-Numerical Columns in test = 43\n",
    "print(len(test.select_dtypes(exclude=[np.number]).columns.tolist()))"
   ]
  },
  {
   "cell_type": "code",
   "execution_count": 296,
   "metadata": {},
   "outputs": [],
   "source": [
    "#Train = 43+38 = 81\n",
    "#Test = 43+37 =80"
   ]
  },
  {
   "cell_type": "code",
   "execution_count": 297,
   "metadata": {},
   "outputs": [],
   "source": [
    "nonNumColumns = train.select_dtypes(exclude=[np.number]).columns.tolist();"
   ]
  },
  {
   "cell_type": "code",
   "execution_count": 301,
   "metadata": {},
   "outputs": [
    {
     "data": {
      "text/plain": [
       "43"
      ]
     },
     "execution_count": 301,
     "metadata": {},
     "output_type": "execute_result"
    }
   ],
   "source": [
    "len(nonNumColumns)"
   ]
  },
  {
   "cell_type": "code",
   "execution_count": 302,
   "metadata": {},
   "outputs": [],
   "source": [
    "nonNumColumnss = test.select_dtypes(exclude=[np.number]).columns.tolist();"
   ]
  },
  {
   "cell_type": "code",
   "execution_count": 303,
   "metadata": {},
   "outputs": [
    {
     "data": {
      "text/plain": [
       "43"
      ]
     },
     "execution_count": 303,
     "metadata": {},
     "output_type": "execute_result"
    }
   ],
   "source": [
    "len(nonNumColumnss)"
   ]
  },
  {
   "cell_type": "code",
   "execution_count": 298,
   "metadata": {},
   "outputs": [],
   "source": [
    "#Converting  Dataframe(train)  ---> Numerical + NonNumerical + Sparse\n",
    "def create_dummies(df,column_name):\n",
    "    dummies = pd.get_dummies(df[column_name],prefix=column_name)\n",
    "    df = pd.concat([df,dummies],axis=1)\n",
    "    return df\n",
    "\n",
    "for column in nonNumColumns:\n",
    "    test = create_dummies(test,column)  \n",
    "    train = create_dummies(train,column)"
   ]
  },
  {
   "cell_type": "code",
   "execution_count": 300,
   "metadata": {},
   "outputs": [
    {
     "name": "stdout",
     "output_type": "stream",
     "text": [
      "(17, 210)\n",
      "(1443, 348)\n"
     ]
    }
   ],
   "source": [
    "print(test.shape)\n",
    "print(train.shape)"
   ]
  },
  {
   "cell_type": "code",
   "execution_count": 248,
   "metadata": {},
   "outputs": [
    {
     "name": "stdout",
     "output_type": "stream",
     "text": [
      "['Id', 'MSSubClass', 'MSZoning', 'LotFrontage', 'LotArea', 'Street', 'Alley', 'LotShape', 'LandContour', 'Utilities', 'LotConfig', 'LandSlope', 'Neighborhood', 'Condition1', 'Condition2', 'BldgType', 'HouseStyle', 'OverallQual', 'OverallCond', 'YearBuilt', 'YearRemodAdd', 'RoofStyle', 'RoofMatl', 'Exterior1st', 'Exterior2nd', 'MasVnrType', 'MasVnrArea', 'ExterQual', 'ExterCond', 'Foundation', 'BsmtQual', 'BsmtCond', 'BsmtExposure', 'BsmtFinType1', 'BsmtFinSF1', 'BsmtFinType2', 'BsmtFinSF2', 'BsmtUnfSF', 'TotalBsmtSF', 'Heating', 'HeatingQC', 'CentralAir', 'Electrical', '1stFlrSF', '2ndFlrSF', 'LowQualFinSF', 'GrLivArea', 'BsmtFullBath', 'BsmtHalfBath', 'FullBath', 'HalfBath', 'BedroomAbvGr', 'KitchenAbvGr', 'KitchenQual', 'TotRmsAbvGrd', 'Functional', 'Fireplaces', 'FireplaceQu', 'GarageType', 'GarageYrBlt', 'GarageFinish', 'GarageCars', 'GarageArea', 'GarageQual', 'GarageCond', 'PavedDrive', 'WoodDeckSF', 'OpenPorchSF', 'EnclosedPorch', '3SsnPorch', 'ScreenPorch', 'PoolArea', 'PoolQC', 'Fence', 'MiscFeature', 'MiscVal', 'MoSold', 'YrSold', 'SaleType', 'SaleCondition', 'SalePrice', 'MSZoning_C (all)', 'MSZoning_FV', 'MSZoning_RH', 'MSZoning_RL', 'MSZoning_RM', 'Street_Grvl', 'Street_Pave', 'Alley_Grvl', 'Alley_None', 'Alley_Pave', 'LotShape_IR1', 'LotShape_IR2', 'LotShape_IR3', 'LotShape_Reg', 'LandContour_Bnk', 'LandContour_HLS', 'LandContour_Low', 'LandContour_Lvl', 'Utilities_AllPub', 'Utilities_NoSeWa', 'LotConfig_Corner', 'LotConfig_CulDSac', 'LotConfig_FR2', 'LotConfig_FR3', 'LotConfig_Inside', 'LandSlope_Gtl', 'LandSlope_Mod', 'LandSlope_Sev', 'Neighborhood_Blmngtn', 'Neighborhood_Blueste', 'Neighborhood_BrDale', 'Neighborhood_BrkSide', 'Neighborhood_ClearCr', 'Neighborhood_CollgCr', 'Neighborhood_Crawfor', 'Neighborhood_Edwards', 'Neighborhood_Gilbert', 'Neighborhood_IDOTRR', 'Neighborhood_MeadowV', 'Neighborhood_Mitchel', 'Neighborhood_NAmes', 'Neighborhood_NPkVill', 'Neighborhood_NWAmes', 'Neighborhood_NoRidge', 'Neighborhood_NridgHt', 'Neighborhood_OldTown', 'Neighborhood_SWISU', 'Neighborhood_Sawyer', 'Neighborhood_SawyerW', 'Neighborhood_Somerst', 'Neighborhood_StoneBr', 'Neighborhood_Timber', 'Neighborhood_Veenker', 'Condition1_Artery', 'Condition1_Feedr', 'Condition1_Norm', 'Condition1_PosA', 'Condition1_PosN', 'Condition1_RRAe', 'Condition1_RRAn', 'Condition1_RRNe', 'Condition1_RRNn', 'Condition2_Artery', 'Condition2_Feedr', 'Condition2_Norm', 'Condition2_PosA', 'Condition2_PosN', 'Condition2_RRAe', 'Condition2_RRAn', 'Condition2_RRNn', 'BldgType_1Fam', 'BldgType_2fmCon', 'BldgType_Duplex', 'BldgType_Twnhs', 'BldgType_TwnhsE', 'HouseStyle_1.5Fin', 'HouseStyle_1.5Unf', 'HouseStyle_1Story', 'HouseStyle_2.5Fin', 'HouseStyle_2.5Unf', 'HouseStyle_2Story', 'HouseStyle_SFoyer', 'HouseStyle_SLvl', 'RoofStyle_Flat', 'RoofStyle_Gable', 'RoofStyle_Gambrel', 'RoofStyle_Hip', 'RoofStyle_Mansard', 'RoofStyle_Shed', 'RoofMatl_ClyTile', 'RoofMatl_CompShg', 'RoofMatl_Membran', 'RoofMatl_Metal', 'RoofMatl_Roll', 'RoofMatl_Tar&Grv', 'RoofMatl_WdShake', 'RoofMatl_WdShngl', 'Exterior1st_AsbShng', 'Exterior1st_AsphShn', 'Exterior1st_BrkComm', 'Exterior1st_BrkFace', 'Exterior1st_CBlock', 'Exterior1st_CemntBd', 'Exterior1st_HdBoard', 'Exterior1st_ImStucc', 'Exterior1st_MetalSd', 'Exterior1st_Plywood', 'Exterior1st_Stone', 'Exterior1st_Stucco', 'Exterior1st_VinylSd', 'Exterior1st_Wd Sdng', 'Exterior1st_WdShing', 'Exterior2nd_AsbShng', 'Exterior2nd_AsphShn', 'Exterior2nd_Brk Cmn', 'Exterior2nd_BrkFace', 'Exterior2nd_CBlock', 'Exterior2nd_CmentBd', 'Exterior2nd_HdBoard', 'Exterior2nd_ImStucc', 'Exterior2nd_MetalSd', 'Exterior2nd_Other', 'Exterior2nd_Plywood', 'Exterior2nd_Stone', 'Exterior2nd_Stucco', 'Exterior2nd_VinylSd', 'Exterior2nd_Wd Sdng', 'Exterior2nd_Wd Shng', 'MasVnrType_BrkCmn', 'MasVnrType_BrkFace', 'MasVnrType_None', 'MasVnrType_Stone', 'ExterQual_Ex', 'ExterQual_Fa', 'ExterQual_Gd', 'ExterQual_TA', 'ExterCond_Ex', 'ExterCond_Fa', 'ExterCond_Gd', 'ExterCond_Po', 'ExterCond_TA', 'Foundation_BrkTil', 'Foundation_CBlock', 'Foundation_PConc', 'Foundation_Slab', 'Foundation_Stone', 'Foundation_Wood', 'BsmtQual_Ex', 'BsmtQual_Fa', 'BsmtQual_Gd', 'BsmtQual_None', 'BsmtQual_TA', 'BsmtCond_Fa', 'BsmtCond_Gd', 'BsmtCond_None', 'BsmtCond_Po', 'BsmtCond_TA', 'BsmtExposure_Av', 'BsmtExposure_Gd', 'BsmtExposure_Mn', 'BsmtExposure_No', 'BsmtExposure_None', 'BsmtFinType1_ALQ', 'BsmtFinType1_BLQ', 'BsmtFinType1_GLQ', 'BsmtFinType1_LwQ', 'BsmtFinType1_None', 'BsmtFinType1_Rec', 'BsmtFinType1_Unf', 'BsmtFinType2_ALQ', 'BsmtFinType2_BLQ', 'BsmtFinType2_GLQ', 'BsmtFinType2_LwQ', 'BsmtFinType2_None', 'BsmtFinType2_Rec', 'BsmtFinType2_Unf', 'Heating_Floor', 'Heating_GasA', 'Heating_GasW', 'Heating_Grav', 'Heating_OthW', 'Heating_Wall', 'HeatingQC_Ex', 'HeatingQC_Fa', 'HeatingQC_Gd', 'HeatingQC_Po', 'HeatingQC_TA', 'CentralAir_N', 'CentralAir_Y', 'Electrical_0', 'Electrical_FuseA', 'Electrical_FuseF', 'Electrical_FuseP', 'Electrical_Mix', 'Electrical_SBrkr', 'KitchenQual_Ex', 'KitchenQual_Fa', 'KitchenQual_Gd', 'KitchenQual_TA', 'Functional_Maj1', 'Functional_Maj2', 'Functional_Min1', 'Functional_Min2', 'Functional_Mod', 'Functional_Sev', 'Functional_Typ', 'FireplaceQu_Ex', 'FireplaceQu_Fa', 'FireplaceQu_Gd', 'FireplaceQu_None', 'FireplaceQu_Po', 'FireplaceQu_TA', 'GarageType_2Types', 'GarageType_Attchd', 'GarageType_Basment', 'GarageType_BuiltIn', 'GarageType_CarPort', 'GarageType_Detchd', 'GarageType_None', 'GarageFinish_Fin', 'GarageFinish_None', 'GarageFinish_RFn', 'GarageFinish_Unf', 'GarageQual_Ex', 'GarageQual_Fa', 'GarageQual_Gd', 'GarageQual_None', 'GarageQual_Po', 'GarageQual_TA', 'GarageCond_Ex', 'GarageCond_Fa', 'GarageCond_Gd', 'GarageCond_None', 'GarageCond_Po', 'GarageCond_TA', 'PavedDrive_N', 'PavedDrive_P', 'PavedDrive_Y', 'PoolQC_Ex', 'PoolQC_Fa', 'PoolQC_Gd', 'PoolQC_None', 'Fence_GdPrv', 'Fence_GdWo', 'Fence_MnPrv', 'Fence_MnWw', 'Fence_None', 'MiscFeature_Gar2', 'MiscFeature_None', 'MiscFeature_Othr', 'MiscFeature_Shed', 'MiscFeature_TenC', 'SaleType_COD', 'SaleType_CWD', 'SaleType_Con', 'SaleType_ConLD', 'SaleType_ConLI', 'SaleType_ConLw', 'SaleType_New', 'SaleType_Oth', 'SaleType_WD', 'SaleCondition_Abnorml', 'SaleCondition_AdjLand', 'SaleCondition_Alloca', 'SaleCondition_Family', 'SaleCondition_Normal', 'SaleCondition_Partial']\n"
     ]
    }
   ],
   "source": [
    "#Checking now....\n",
    "print(list(train.columns))"
   ]
  },
  {
   "cell_type": "code",
   "execution_count": 249,
   "metadata": {},
   "outputs": [
    {
     "name": "stdout",
     "output_type": "stream",
     "text": [
      "['Id', 'MSSubClass', 'MSZoning', 'LotFrontage', 'LotArea', 'Street', 'Alley', 'LotShape', 'LandContour', 'Utilities', 'LotConfig', 'LandSlope', 'Neighborhood', 'Condition1', 'Condition2', 'BldgType', 'HouseStyle', 'OverallQual', 'OverallCond', 'YearBuilt', 'YearRemodAdd', 'RoofStyle', 'RoofMatl', 'Exterior1st', 'Exterior2nd', 'MasVnrType', 'MasVnrArea', 'ExterQual', 'ExterCond', 'Foundation', 'BsmtQual', 'BsmtCond', 'BsmtExposure', 'BsmtFinType1', 'BsmtFinSF1', 'BsmtFinType2', 'BsmtFinSF2', 'BsmtUnfSF', 'TotalBsmtSF', 'Heating', 'HeatingQC', 'CentralAir', 'Electrical', '1stFlrSF', '2ndFlrSF', 'LowQualFinSF', 'GrLivArea', 'BsmtFullBath', 'BsmtHalfBath', 'FullBath', 'HalfBath', 'BedroomAbvGr', 'KitchenAbvGr', 'KitchenQual', 'TotRmsAbvGrd', 'Functional', 'Fireplaces', 'FireplaceQu', 'GarageType', 'GarageYrBlt', 'GarageFinish', 'GarageCars', 'GarageArea', 'GarageQual', 'GarageCond', 'PavedDrive', 'WoodDeckSF', 'OpenPorchSF', 'EnclosedPorch', '3SsnPorch', 'ScreenPorch', 'PoolArea', 'PoolQC', 'Fence', 'MiscFeature', 'MiscVal', 'MoSold', 'YrSold', 'SaleType', 'SaleCondition', 'MSZoning_FV', 'MSZoning_RL', 'MSZoning_RM', 'Street_Pave', 'Alley_None', 'Alley_Pave', 'LotShape_IR1', 'LotShape_Reg', 'LandContour_Lvl', 'Utilities_AllPub', 'LotConfig_CulDSac', 'LotConfig_FR2', 'LotConfig_Inside', 'LandSlope_Gtl', 'Neighborhood_BrkSide', 'Neighborhood_CollgCr', 'Neighborhood_Crawfor', 'Neighborhood_Edwards', 'Neighborhood_Gilbert', 'Neighborhood_MeadowV', 'Neighborhood_Mitchel', 'Neighborhood_NAmes', 'Neighborhood_NWAmes', 'Neighborhood_Sawyer', 'Neighborhood_Somerst', 'Condition1_Norm', 'Condition2_Norm', 'BldgType_1Fam', 'BldgType_Duplex', 'BldgType_Twnhs', 'BldgType_TwnhsE', 'HouseStyle_1.5Unf', 'HouseStyle_1Story', 'HouseStyle_2Story', 'HouseStyle_SFoyer', 'HouseStyle_SLvl', 'RoofStyle_Gable', 'RoofStyle_Hip', 'RoofMatl_CompShg', 'Exterior1st_CemntBd', 'Exterior1st_HdBoard', 'Exterior1st_MetalSd', 'Exterior1st_Plywood', 'Exterior1st_VinylSd', 'Exterior1st_Wd Sdng', 'Exterior2nd_CmentBd', 'Exterior2nd_HdBoard', 'Exterior2nd_MetalSd', 'Exterior2nd_Plywood', 'Exterior2nd_VinylSd', 'Exterior2nd_Wd Sdng', 'MasVnrType_BrkFace', 'MasVnrType_None', 'MasVnrType_Stone', 'ExterQual_Ex', 'ExterQual_Gd', 'ExterQual_TA', 'ExterCond_Gd', 'ExterCond_TA', 'Foundation_BrkTil', 'Foundation_CBlock', 'Foundation_PConc', 'Foundation_Stone', 'BsmtQual_Fa', 'BsmtQual_Gd', 'BsmtQual_TA', 'BsmtCond_Gd', 'BsmtCond_TA', 'BsmtExposure_Av', 'BsmtExposure_Gd', 'BsmtExposure_Mn', 'BsmtExposure_No', 'BsmtFinType1_ALQ', 'BsmtFinType1_BLQ', 'BsmtFinType1_GLQ', 'BsmtFinType1_LwQ', 'BsmtFinType1_Rec', 'BsmtFinType1_Unf', 'BsmtFinType2_LwQ', 'BsmtFinType2_Rec', 'BsmtFinType2_Unf', 'Heating_GasA', 'Heating_Grav', 'HeatingQC_Ex', 'HeatingQC_Fa', 'HeatingQC_Gd', 'HeatingQC_TA', 'CentralAir_N', 'CentralAir_Y', 'Electrical_FuseA', 'Electrical_FuseF', 'Electrical_SBrkr', 'KitchenQual_Ex', 'KitchenQual_Fa', 'KitchenQual_Gd', 'KitchenQual_TA', 'Functional_Min1', 'Functional_Min2', 'Functional_Typ', 'FireplaceQu_Gd', 'FireplaceQu_None', 'FireplaceQu_TA', 'GarageType_Attchd', 'GarageType_Basment', 'GarageType_Detchd', 'GarageType_None', 'GarageFinish_Fin', 'GarageFinish_None', 'GarageFinish_RFn', 'GarageFinish_Unf', 'GarageQual_Fa', 'GarageQual_None', 'GarageQual_TA', 'GarageCond_None', 'GarageCond_Po', 'GarageCond_TA', 'PavedDrive_P', 'PavedDrive_Y', 'PoolQC_None', 'Fence_GdPrv', 'Fence_GdWo', 'Fence_MnPrv', 'Fence_None', 'MiscFeature_None', 'MiscFeature_Shed', 'SaleType_New', 'SaleType_WD', 'SaleCondition_Abnorml', 'SaleCondition_Normal', 'SaleCondition_Partial']\n"
     ]
    }
   ],
   "source": [
    "print(list(test.columns))"
   ]
  },
  {
   "cell_type": "code",
   "execution_count": 154,
   "metadata": {},
   "outputs": [
    {
     "data": {
      "text/html": [
       "<div>\n",
       "<style scoped>\n",
       "    .dataframe tbody tr th:only-of-type {\n",
       "        vertical-align: middle;\n",
       "    }\n",
       "\n",
       "    .dataframe tbody tr th {\n",
       "        vertical-align: top;\n",
       "    }\n",
       "\n",
       "    .dataframe thead th {\n",
       "        text-align: right;\n",
       "    }\n",
       "</style>\n",
       "<table border=\"1\" class=\"dataframe\">\n",
       "  <thead>\n",
       "    <tr style=\"text-align: right;\">\n",
       "      <th></th>\n",
       "      <th>Id</th>\n",
       "      <th>MSSubClass</th>\n",
       "      <th>MSZoning</th>\n",
       "      <th>LotFrontage</th>\n",
       "      <th>LotArea</th>\n",
       "      <th>Street</th>\n",
       "      <th>Alley</th>\n",
       "      <th>LotShape</th>\n",
       "      <th>LandContour</th>\n",
       "      <th>Utilities</th>\n",
       "      <th>...</th>\n",
       "      <th>SaleType_ConLw</th>\n",
       "      <th>SaleType_New</th>\n",
       "      <th>SaleType_Oth</th>\n",
       "      <th>SaleType_WD</th>\n",
       "      <th>SaleCondition_Abnorml</th>\n",
       "      <th>SaleCondition_AdjLand</th>\n",
       "      <th>SaleCondition_Alloca</th>\n",
       "      <th>SaleCondition_Family</th>\n",
       "      <th>SaleCondition_Normal</th>\n",
       "      <th>SaleCondition_Partial</th>\n",
       "    </tr>\n",
       "  </thead>\n",
       "  <tbody>\n",
       "    <tr>\n",
       "      <th>0</th>\n",
       "      <td>1</td>\n",
       "      <td>60</td>\n",
       "      <td>RL</td>\n",
       "      <td>65.0</td>\n",
       "      <td>8450</td>\n",
       "      <td>Pave</td>\n",
       "      <td>None</td>\n",
       "      <td>Reg</td>\n",
       "      <td>Lvl</td>\n",
       "      <td>AllPub</td>\n",
       "      <td>...</td>\n",
       "      <td>0</td>\n",
       "      <td>0</td>\n",
       "      <td>0</td>\n",
       "      <td>1</td>\n",
       "      <td>0</td>\n",
       "      <td>0</td>\n",
       "      <td>0</td>\n",
       "      <td>0</td>\n",
       "      <td>1</td>\n",
       "      <td>0</td>\n",
       "    </tr>\n",
       "    <tr>\n",
       "      <th>1</th>\n",
       "      <td>2</td>\n",
       "      <td>20</td>\n",
       "      <td>RL</td>\n",
       "      <td>80.0</td>\n",
       "      <td>9600</td>\n",
       "      <td>Pave</td>\n",
       "      <td>None</td>\n",
       "      <td>Reg</td>\n",
       "      <td>Lvl</td>\n",
       "      <td>AllPub</td>\n",
       "      <td>...</td>\n",
       "      <td>0</td>\n",
       "      <td>0</td>\n",
       "      <td>0</td>\n",
       "      <td>1</td>\n",
       "      <td>0</td>\n",
       "      <td>0</td>\n",
       "      <td>0</td>\n",
       "      <td>0</td>\n",
       "      <td>1</td>\n",
       "      <td>0</td>\n",
       "    </tr>\n",
       "    <tr>\n",
       "      <th>2</th>\n",
       "      <td>3</td>\n",
       "      <td>60</td>\n",
       "      <td>RL</td>\n",
       "      <td>68.0</td>\n",
       "      <td>11250</td>\n",
       "      <td>Pave</td>\n",
       "      <td>None</td>\n",
       "      <td>IR1</td>\n",
       "      <td>Lvl</td>\n",
       "      <td>AllPub</td>\n",
       "      <td>...</td>\n",
       "      <td>0</td>\n",
       "      <td>0</td>\n",
       "      <td>0</td>\n",
       "      <td>1</td>\n",
       "      <td>0</td>\n",
       "      <td>0</td>\n",
       "      <td>0</td>\n",
       "      <td>0</td>\n",
       "      <td>1</td>\n",
       "      <td>0</td>\n",
       "    </tr>\n",
       "    <tr>\n",
       "      <th>3</th>\n",
       "      <td>4</td>\n",
       "      <td>70</td>\n",
       "      <td>RL</td>\n",
       "      <td>60.0</td>\n",
       "      <td>9550</td>\n",
       "      <td>Pave</td>\n",
       "      <td>None</td>\n",
       "      <td>IR1</td>\n",
       "      <td>Lvl</td>\n",
       "      <td>AllPub</td>\n",
       "      <td>...</td>\n",
       "      <td>0</td>\n",
       "      <td>0</td>\n",
       "      <td>0</td>\n",
       "      <td>1</td>\n",
       "      <td>1</td>\n",
       "      <td>0</td>\n",
       "      <td>0</td>\n",
       "      <td>0</td>\n",
       "      <td>0</td>\n",
       "      <td>0</td>\n",
       "    </tr>\n",
       "    <tr>\n",
       "      <th>4</th>\n",
       "      <td>5</td>\n",
       "      <td>60</td>\n",
       "      <td>RL</td>\n",
       "      <td>84.0</td>\n",
       "      <td>14260</td>\n",
       "      <td>Pave</td>\n",
       "      <td>None</td>\n",
       "      <td>IR1</td>\n",
       "      <td>Lvl</td>\n",
       "      <td>AllPub</td>\n",
       "      <td>...</td>\n",
       "      <td>0</td>\n",
       "      <td>0</td>\n",
       "      <td>0</td>\n",
       "      <td>1</td>\n",
       "      <td>0</td>\n",
       "      <td>0</td>\n",
       "      <td>0</td>\n",
       "      <td>0</td>\n",
       "      <td>1</td>\n",
       "      <td>0</td>\n",
       "    </tr>\n",
       "    <tr>\n",
       "      <th>5</th>\n",
       "      <td>6</td>\n",
       "      <td>50</td>\n",
       "      <td>RL</td>\n",
       "      <td>85.0</td>\n",
       "      <td>14115</td>\n",
       "      <td>Pave</td>\n",
       "      <td>None</td>\n",
       "      <td>IR1</td>\n",
       "      <td>Lvl</td>\n",
       "      <td>AllPub</td>\n",
       "      <td>...</td>\n",
       "      <td>0</td>\n",
       "      <td>0</td>\n",
       "      <td>0</td>\n",
       "      <td>1</td>\n",
       "      <td>0</td>\n",
       "      <td>0</td>\n",
       "      <td>0</td>\n",
       "      <td>0</td>\n",
       "      <td>1</td>\n",
       "      <td>0</td>\n",
       "    </tr>\n",
       "    <tr>\n",
       "      <th>6</th>\n",
       "      <td>7</td>\n",
       "      <td>20</td>\n",
       "      <td>RL</td>\n",
       "      <td>75.0</td>\n",
       "      <td>10084</td>\n",
       "      <td>Pave</td>\n",
       "      <td>None</td>\n",
       "      <td>Reg</td>\n",
       "      <td>Lvl</td>\n",
       "      <td>AllPub</td>\n",
       "      <td>...</td>\n",
       "      <td>0</td>\n",
       "      <td>0</td>\n",
       "      <td>0</td>\n",
       "      <td>1</td>\n",
       "      <td>0</td>\n",
       "      <td>0</td>\n",
       "      <td>0</td>\n",
       "      <td>0</td>\n",
       "      <td>1</td>\n",
       "      <td>0</td>\n",
       "    </tr>\n",
       "    <tr>\n",
       "      <th>7</th>\n",
       "      <td>8</td>\n",
       "      <td>60</td>\n",
       "      <td>RL</td>\n",
       "      <td>0.0</td>\n",
       "      <td>10382</td>\n",
       "      <td>Pave</td>\n",
       "      <td>None</td>\n",
       "      <td>IR1</td>\n",
       "      <td>Lvl</td>\n",
       "      <td>AllPub</td>\n",
       "      <td>...</td>\n",
       "      <td>0</td>\n",
       "      <td>0</td>\n",
       "      <td>0</td>\n",
       "      <td>1</td>\n",
       "      <td>0</td>\n",
       "      <td>0</td>\n",
       "      <td>0</td>\n",
       "      <td>0</td>\n",
       "      <td>1</td>\n",
       "      <td>0</td>\n",
       "    </tr>\n",
       "    <tr>\n",
       "      <th>8</th>\n",
       "      <td>9</td>\n",
       "      <td>50</td>\n",
       "      <td>RM</td>\n",
       "      <td>51.0</td>\n",
       "      <td>6120</td>\n",
       "      <td>Pave</td>\n",
       "      <td>None</td>\n",
       "      <td>Reg</td>\n",
       "      <td>Lvl</td>\n",
       "      <td>AllPub</td>\n",
       "      <td>...</td>\n",
       "      <td>0</td>\n",
       "      <td>0</td>\n",
       "      <td>0</td>\n",
       "      <td>1</td>\n",
       "      <td>1</td>\n",
       "      <td>0</td>\n",
       "      <td>0</td>\n",
       "      <td>0</td>\n",
       "      <td>0</td>\n",
       "      <td>0</td>\n",
       "    </tr>\n",
       "    <tr>\n",
       "      <th>9</th>\n",
       "      <td>10</td>\n",
       "      <td>190</td>\n",
       "      <td>RL</td>\n",
       "      <td>50.0</td>\n",
       "      <td>7420</td>\n",
       "      <td>Pave</td>\n",
       "      <td>None</td>\n",
       "      <td>Reg</td>\n",
       "      <td>Lvl</td>\n",
       "      <td>AllPub</td>\n",
       "      <td>...</td>\n",
       "      <td>0</td>\n",
       "      <td>0</td>\n",
       "      <td>0</td>\n",
       "      <td>1</td>\n",
       "      <td>0</td>\n",
       "      <td>0</td>\n",
       "      <td>0</td>\n",
       "      <td>0</td>\n",
       "      <td>1</td>\n",
       "      <td>0</td>\n",
       "    </tr>\n",
       "    <tr>\n",
       "      <th>10</th>\n",
       "      <td>11</td>\n",
       "      <td>20</td>\n",
       "      <td>RL</td>\n",
       "      <td>70.0</td>\n",
       "      <td>11200</td>\n",
       "      <td>Pave</td>\n",
       "      <td>None</td>\n",
       "      <td>Reg</td>\n",
       "      <td>Lvl</td>\n",
       "      <td>AllPub</td>\n",
       "      <td>...</td>\n",
       "      <td>0</td>\n",
       "      <td>0</td>\n",
       "      <td>0</td>\n",
       "      <td>1</td>\n",
       "      <td>0</td>\n",
       "      <td>0</td>\n",
       "      <td>0</td>\n",
       "      <td>0</td>\n",
       "      <td>1</td>\n",
       "      <td>0</td>\n",
       "    </tr>\n",
       "    <tr>\n",
       "      <th>11</th>\n",
       "      <td>12</td>\n",
       "      <td>60</td>\n",
       "      <td>RL</td>\n",
       "      <td>85.0</td>\n",
       "      <td>11924</td>\n",
       "      <td>Pave</td>\n",
       "      <td>None</td>\n",
       "      <td>IR1</td>\n",
       "      <td>Lvl</td>\n",
       "      <td>AllPub</td>\n",
       "      <td>...</td>\n",
       "      <td>0</td>\n",
       "      <td>1</td>\n",
       "      <td>0</td>\n",
       "      <td>0</td>\n",
       "      <td>0</td>\n",
       "      <td>0</td>\n",
       "      <td>0</td>\n",
       "      <td>0</td>\n",
       "      <td>0</td>\n",
       "      <td>1</td>\n",
       "    </tr>\n",
       "    <tr>\n",
       "      <th>12</th>\n",
       "      <td>13</td>\n",
       "      <td>20</td>\n",
       "      <td>RL</td>\n",
       "      <td>0.0</td>\n",
       "      <td>12968</td>\n",
       "      <td>Pave</td>\n",
       "      <td>None</td>\n",
       "      <td>IR2</td>\n",
       "      <td>Lvl</td>\n",
       "      <td>AllPub</td>\n",
       "      <td>...</td>\n",
       "      <td>0</td>\n",
       "      <td>0</td>\n",
       "      <td>0</td>\n",
       "      <td>1</td>\n",
       "      <td>0</td>\n",
       "      <td>0</td>\n",
       "      <td>0</td>\n",
       "      <td>0</td>\n",
       "      <td>1</td>\n",
       "      <td>0</td>\n",
       "    </tr>\n",
       "    <tr>\n",
       "      <th>13</th>\n",
       "      <td>14</td>\n",
       "      <td>20</td>\n",
       "      <td>RL</td>\n",
       "      <td>91.0</td>\n",
       "      <td>10652</td>\n",
       "      <td>Pave</td>\n",
       "      <td>None</td>\n",
       "      <td>IR1</td>\n",
       "      <td>Lvl</td>\n",
       "      <td>AllPub</td>\n",
       "      <td>...</td>\n",
       "      <td>0</td>\n",
       "      <td>1</td>\n",
       "      <td>0</td>\n",
       "      <td>0</td>\n",
       "      <td>0</td>\n",
       "      <td>0</td>\n",
       "      <td>0</td>\n",
       "      <td>0</td>\n",
       "      <td>0</td>\n",
       "      <td>1</td>\n",
       "    </tr>\n",
       "    <tr>\n",
       "      <th>14</th>\n",
       "      <td>15</td>\n",
       "      <td>20</td>\n",
       "      <td>RL</td>\n",
       "      <td>0.0</td>\n",
       "      <td>10920</td>\n",
       "      <td>Pave</td>\n",
       "      <td>None</td>\n",
       "      <td>IR1</td>\n",
       "      <td>Lvl</td>\n",
       "      <td>AllPub</td>\n",
       "      <td>...</td>\n",
       "      <td>0</td>\n",
       "      <td>0</td>\n",
       "      <td>0</td>\n",
       "      <td>1</td>\n",
       "      <td>0</td>\n",
       "      <td>0</td>\n",
       "      <td>0</td>\n",
       "      <td>0</td>\n",
       "      <td>1</td>\n",
       "      <td>0</td>\n",
       "    </tr>\n",
       "    <tr>\n",
       "      <th>15</th>\n",
       "      <td>16</td>\n",
       "      <td>45</td>\n",
       "      <td>RM</td>\n",
       "      <td>51.0</td>\n",
       "      <td>6120</td>\n",
       "      <td>Pave</td>\n",
       "      <td>None</td>\n",
       "      <td>Reg</td>\n",
       "      <td>Lvl</td>\n",
       "      <td>AllPub</td>\n",
       "      <td>...</td>\n",
       "      <td>0</td>\n",
       "      <td>0</td>\n",
       "      <td>0</td>\n",
       "      <td>1</td>\n",
       "      <td>0</td>\n",
       "      <td>0</td>\n",
       "      <td>0</td>\n",
       "      <td>0</td>\n",
       "      <td>1</td>\n",
       "      <td>0</td>\n",
       "    </tr>\n",
       "    <tr>\n",
       "      <th>16</th>\n",
       "      <td>17</td>\n",
       "      <td>20</td>\n",
       "      <td>RL</td>\n",
       "      <td>0.0</td>\n",
       "      <td>11241</td>\n",
       "      <td>Pave</td>\n",
       "      <td>None</td>\n",
       "      <td>IR1</td>\n",
       "      <td>Lvl</td>\n",
       "      <td>AllPub</td>\n",
       "      <td>...</td>\n",
       "      <td>0</td>\n",
       "      <td>0</td>\n",
       "      <td>0</td>\n",
       "      <td>1</td>\n",
       "      <td>0</td>\n",
       "      <td>0</td>\n",
       "      <td>0</td>\n",
       "      <td>0</td>\n",
       "      <td>1</td>\n",
       "      <td>0</td>\n",
       "    </tr>\n",
       "    <tr>\n",
       "      <th>17</th>\n",
       "      <td>18</td>\n",
       "      <td>90</td>\n",
       "      <td>RL</td>\n",
       "      <td>72.0</td>\n",
       "      <td>10791</td>\n",
       "      <td>Pave</td>\n",
       "      <td>None</td>\n",
       "      <td>Reg</td>\n",
       "      <td>Lvl</td>\n",
       "      <td>AllPub</td>\n",
       "      <td>...</td>\n",
       "      <td>0</td>\n",
       "      <td>0</td>\n",
       "      <td>0</td>\n",
       "      <td>1</td>\n",
       "      <td>0</td>\n",
       "      <td>0</td>\n",
       "      <td>0</td>\n",
       "      <td>0</td>\n",
       "      <td>1</td>\n",
       "      <td>0</td>\n",
       "    </tr>\n",
       "    <tr>\n",
       "      <th>18</th>\n",
       "      <td>19</td>\n",
       "      <td>20</td>\n",
       "      <td>RL</td>\n",
       "      <td>66.0</td>\n",
       "      <td>13695</td>\n",
       "      <td>Pave</td>\n",
       "      <td>None</td>\n",
       "      <td>Reg</td>\n",
       "      <td>Lvl</td>\n",
       "      <td>AllPub</td>\n",
       "      <td>...</td>\n",
       "      <td>0</td>\n",
       "      <td>0</td>\n",
       "      <td>0</td>\n",
       "      <td>1</td>\n",
       "      <td>0</td>\n",
       "      <td>0</td>\n",
       "      <td>0</td>\n",
       "      <td>0</td>\n",
       "      <td>1</td>\n",
       "      <td>0</td>\n",
       "    </tr>\n",
       "    <tr>\n",
       "      <th>19</th>\n",
       "      <td>20</td>\n",
       "      <td>20</td>\n",
       "      <td>RL</td>\n",
       "      <td>70.0</td>\n",
       "      <td>7560</td>\n",
       "      <td>Pave</td>\n",
       "      <td>None</td>\n",
       "      <td>Reg</td>\n",
       "      <td>Lvl</td>\n",
       "      <td>AllPub</td>\n",
       "      <td>...</td>\n",
       "      <td>0</td>\n",
       "      <td>0</td>\n",
       "      <td>0</td>\n",
       "      <td>0</td>\n",
       "      <td>1</td>\n",
       "      <td>0</td>\n",
       "      <td>0</td>\n",
       "      <td>0</td>\n",
       "      <td>0</td>\n",
       "      <td>0</td>\n",
       "    </tr>\n",
       "  </tbody>\n",
       "</table>\n",
       "<p>20 rows × 348 columns</p>\n",
       "</div>"
      ],
      "text/plain": [
       "    Id  MSSubClass MSZoning  LotFrontage  LotArea Street Alley LotShape  \\\n",
       "0    1          60       RL         65.0     8450   Pave  None      Reg   \n",
       "1    2          20       RL         80.0     9600   Pave  None      Reg   \n",
       "2    3          60       RL         68.0    11250   Pave  None      IR1   \n",
       "3    4          70       RL         60.0     9550   Pave  None      IR1   \n",
       "4    5          60       RL         84.0    14260   Pave  None      IR1   \n",
       "5    6          50       RL         85.0    14115   Pave  None      IR1   \n",
       "6    7          20       RL         75.0    10084   Pave  None      Reg   \n",
       "7    8          60       RL          0.0    10382   Pave  None      IR1   \n",
       "8    9          50       RM         51.0     6120   Pave  None      Reg   \n",
       "9   10         190       RL         50.0     7420   Pave  None      Reg   \n",
       "10  11          20       RL         70.0    11200   Pave  None      Reg   \n",
       "11  12          60       RL         85.0    11924   Pave  None      IR1   \n",
       "12  13          20       RL          0.0    12968   Pave  None      IR2   \n",
       "13  14          20       RL         91.0    10652   Pave  None      IR1   \n",
       "14  15          20       RL          0.0    10920   Pave  None      IR1   \n",
       "15  16          45       RM         51.0     6120   Pave  None      Reg   \n",
       "16  17          20       RL          0.0    11241   Pave  None      IR1   \n",
       "17  18          90       RL         72.0    10791   Pave  None      Reg   \n",
       "18  19          20       RL         66.0    13695   Pave  None      Reg   \n",
       "19  20          20       RL         70.0     7560   Pave  None      Reg   \n",
       "\n",
       "   LandContour Utilities          ...           SaleType_ConLw SaleType_New  \\\n",
       "0          Lvl    AllPub          ...                        0            0   \n",
       "1          Lvl    AllPub          ...                        0            0   \n",
       "2          Lvl    AllPub          ...                        0            0   \n",
       "3          Lvl    AllPub          ...                        0            0   \n",
       "4          Lvl    AllPub          ...                        0            0   \n",
       "5          Lvl    AllPub          ...                        0            0   \n",
       "6          Lvl    AllPub          ...                        0            0   \n",
       "7          Lvl    AllPub          ...                        0            0   \n",
       "8          Lvl    AllPub          ...                        0            0   \n",
       "9          Lvl    AllPub          ...                        0            0   \n",
       "10         Lvl    AllPub          ...                        0            0   \n",
       "11         Lvl    AllPub          ...                        0            1   \n",
       "12         Lvl    AllPub          ...                        0            0   \n",
       "13         Lvl    AllPub          ...                        0            1   \n",
       "14         Lvl    AllPub          ...                        0            0   \n",
       "15         Lvl    AllPub          ...                        0            0   \n",
       "16         Lvl    AllPub          ...                        0            0   \n",
       "17         Lvl    AllPub          ...                        0            0   \n",
       "18         Lvl    AllPub          ...                        0            0   \n",
       "19         Lvl    AllPub          ...                        0            0   \n",
       "\n",
       "   SaleType_Oth SaleType_WD SaleCondition_Abnorml SaleCondition_AdjLand  \\\n",
       "0             0           1                     0                     0   \n",
       "1             0           1                     0                     0   \n",
       "2             0           1                     0                     0   \n",
       "3             0           1                     1                     0   \n",
       "4             0           1                     0                     0   \n",
       "5             0           1                     0                     0   \n",
       "6             0           1                     0                     0   \n",
       "7             0           1                     0                     0   \n",
       "8             0           1                     1                     0   \n",
       "9             0           1                     0                     0   \n",
       "10            0           1                     0                     0   \n",
       "11            0           0                     0                     0   \n",
       "12            0           1                     0                     0   \n",
       "13            0           0                     0                     0   \n",
       "14            0           1                     0                     0   \n",
       "15            0           1                     0                     0   \n",
       "16            0           1                     0                     0   \n",
       "17            0           1                     0                     0   \n",
       "18            0           1                     0                     0   \n",
       "19            0           0                     1                     0   \n",
       "\n",
       "   SaleCondition_Alloca  SaleCondition_Family  SaleCondition_Normal  \\\n",
       "0                     0                     0                     1   \n",
       "1                     0                     0                     1   \n",
       "2                     0                     0                     1   \n",
       "3                     0                     0                     0   \n",
       "4                     0                     0                     1   \n",
       "5                     0                     0                     1   \n",
       "6                     0                     0                     1   \n",
       "7                     0                     0                     1   \n",
       "8                     0                     0                     0   \n",
       "9                     0                     0                     1   \n",
       "10                    0                     0                     1   \n",
       "11                    0                     0                     0   \n",
       "12                    0                     0                     1   \n",
       "13                    0                     0                     0   \n",
       "14                    0                     0                     1   \n",
       "15                    0                     0                     1   \n",
       "16                    0                     0                     1   \n",
       "17                    0                     0                     1   \n",
       "18                    0                     0                     1   \n",
       "19                    0                     0                     0   \n",
       "\n",
       "    SaleCondition_Partial  \n",
       "0                       0  \n",
       "1                       0  \n",
       "2                       0  \n",
       "3                       0  \n",
       "4                       0  \n",
       "5                       0  \n",
       "6                       0  \n",
       "7                       0  \n",
       "8                       0  \n",
       "9                       0  \n",
       "10                      0  \n",
       "11                      1  \n",
       "12                      0  \n",
       "13                      1  \n",
       "14                      0  \n",
       "15                      0  \n",
       "16                      0  \n",
       "17                      0  \n",
       "18                      0  \n",
       "19                      0  \n",
       "\n",
       "[20 rows x 348 columns]"
      ]
     },
     "execution_count": 154,
     "metadata": {},
     "output_type": "execute_result"
    }
   ],
   "source": [
    "#Just checking.....\n",
    "train.head(20)"
   ]
  },
  {
   "cell_type": "code",
   "execution_count": 155,
   "metadata": {},
   "outputs": [],
   "source": [
    "train.to_csv('C:/Users/rvaish/Documents/Python Scripts/MachineLearningPython-HousePriceCompetition/SP/train.csv');\n",
    "test.to_csv('C:/Users/rvaish/Documents/Python Scripts/MachineLearningPython-HousePriceCompetition/SP/test.csv');\n",
    "\n"
   ]
  },
  {
   "cell_type": "code",
   "execution_count": 156,
   "metadata": {},
   "outputs": [],
   "source": [
    "#CO-RELATION BETWEEN NUMERICS IS FOUND\n",
    "#NULL FILLED\n",
    "#NON-NUMERIC IS CONVERTED\n",
    "#TIME TO APPLY MODEL"
   ]
  },
  {
   "cell_type": "code",
   "execution_count": 157,
   "metadata": {},
   "outputs": [],
   "source": [
    "from sklearn import linear_model\n",
    "from sklearn.cross_validation import train_test_split\n",
    "from sklearn.model_selection import cross_val_score"
   ]
  },
  {
   "cell_type": "code",
   "execution_count": 158,
   "metadata": {},
   "outputs": [],
   "source": [
    "model = linear_model.LinearRegression()"
   ]
  },
  {
   "cell_type": "code",
   "execution_count": 159,
   "metadata": {},
   "outputs": [],
   "source": [
    "#I picked up quality + Co-realation variables.\n",
    "selectdColumns =  ['OverallQual','OverallCond','ExterQual_Ex', 'ExterQual_Fa', 'ExterQual_Gd', 'ExterQual_TA', 'ExterCond_Ex','ExterCond_Fa', 'ExterCond_Gd', 'ExterCond_Po', 'ExterCond_TA','BsmtQual_TA','BsmtQual_Ex', 'BsmtQual_Fa', 'BsmtQual_Gd', 'BsmtQual_None', 'BsmtQual_TA','BsmtCond_Fa', 'BsmtCond_Gd', 'BsmtCond_None', 'BsmtCond_Po', 'BsmtCond_TA','BsmtFinType1_ALQ', 'BsmtFinType1_BLQ', 'BsmtFinType1_GLQ', 'BsmtFinType1_LwQ', 'BsmtFinType1_None', 'BsmtFinType1_Rec', 'BsmtFinType1_Unf','BsmtFinType2_ALQ', 'BsmtFinType2_BLQ', 'BsmtFinType2_GLQ', 'BsmtFinType2_LwQ', 'BsmtFinType2_None', 'BsmtFinType2_Rec', 'BsmtFinType2_Unf', 'HeatingQC_Ex', 'HeatingQC_Fa', 'HeatingQC_Gd', 'HeatingQC_Po', 'HeatingQC_TA','LowQualFinSF',\n",
    "                 'KitchenQual_Ex', 'KitchenQual_Fa', 'KitchenQual_Gd', 'KitchenQual_TA','FireplaceQu_Ex', 'FireplaceQu_Fa', 'FireplaceQu_Gd', 'FireplaceQu_None', 'FireplaceQu_Po', 'FireplaceQu_TA','GarageQual_Ex', 'GarageQual_Fa', 'GarageQual_Gd', 'GarageQual_None', 'GarageQual_Po', 'GarageQual_TA','GarageCond_Ex', 'GarageCond_Fa', 'GarageCond_Gd', 'GarageCond_None', 'GarageCond_Po', 'GarageCond_TA', 'PoolQC_Ex', 'PoolQC_Fa', 'PoolQC_Gd', 'PoolQC_None', 'Fence_GdPrv', 'Fence_GdWo', 'Fence_MnPrv', 'Fence_MnWw', 'Fence_None','MiscFeature_Gar2', 'MiscFeature_None', 'MiscFeature_Othr', 'MiscFeature_Shed', 'MiscFeature_TenC','MoSold','YrSold','SaleType_COD', 'SaleType_CWD', 'SaleType_Con', 'SaleType_ConLD', 'SaleType_ConLI', 'SaleType_ConLw', 'SaleType_New', 'SaleType_Oth', 'SaleType_WD','SaleCondition_Abnorml', 'SaleCondition_AdjLand', 'SaleCondition_Alloca', 'SaleCondition_Family', 'SaleCondition_Normal', 'SaleCondition_Partial',\n",
    "                 'OverallQual','GrLivArea','GarageCars','GarageArea']"
   ]
  },
  {
   "cell_type": "code",
   "execution_count": 160,
   "metadata": {},
   "outputs": [
    {
     "data": {
      "text/plain": [
       "LinearRegression(copy_X=True, fit_intercept=True, n_jobs=1, normalize=False)"
      ]
     },
     "execution_count": 160,
     "metadata": {},
     "output_type": "execute_result"
    }
   ],
   "source": [
    "model.fit(train[selectdColumns], train[\"SalePrice\"])"
   ]
  },
  {
   "cell_type": "code",
   "execution_count": 161,
   "metadata": {},
   "outputs": [
    {
     "name": "stdout",
     "output_type": "stream",
     "text": [
      "[11.67350385 12.71512943 11.78958672 12.26745257 12.66736856 11.58325377\n",
      " 12.07515196 11.25316639 12.13312755 12.22590478 12.32857975 12.57003212\n",
      " 11.21154035 11.6390215  11.82513684 11.49521893 12.20848904 11.68083631\n",
      " 11.89234515 11.53082545 12.55787337 12.44898496 11.85121331 11.90313321\n",
      " 11.36856001 11.82740615 11.68214226 12.12201211 12.36013529 12.02179738\n",
      " 12.2964249  12.12660982 11.69264015 11.68096322 11.55748451 12.35683699\n",
      " 11.92403922 12.82168252 11.85239224 12.03753232 11.96103921 11.88594119\n",
      " 11.96325391 11.63023133 12.59323685 12.0055695  12.09089961 11.90880164\n",
      " 11.69533869 12.48340582 11.82503145 12.10792663 12.94356316 12.18972661\n",
      " 12.2357299  11.98114968 12.30721878 12.21098855 12.41789158 11.82298529\n",
      " 11.75326733 12.49010203 11.76693711 10.65052555 11.97818834 11.75133743\n",
      " 11.99882153 11.96855325 11.74431203 12.33594931 12.05451777 11.80426594\n",
      " 12.28676797 12.11385195 12.16342816 12.11400061 12.11882722 11.65332869\n",
      " 11.72964145 11.98885743 12.31447409 11.89060772 12.00070892 11.82655846\n",
      " 11.88987493 12.11805953 12.56885727 12.18564136 11.74776567 11.3509618\n",
      " 12.10589578 11.76934847 12.17728705 11.75324255 12.26842507 11.78456489\n",
      " 12.25931946 12.19703401 11.91455233 11.8711119  12.0814259  12.15743032\n",
      " 11.74102044 12.45272228 12.11307766 11.75894719 11.78519905 11.56773187\n",
      " 11.69742118 11.53215639 12.37036539 12.80979434 12.41808873 12.44116967\n",
      " 11.88039288 11.92088554 12.33433245 11.87371341 11.91816828 11.4129941\n",
      " 12.17867122 11.93749545 12.15745195 12.12527502 12.05662363 12.09314698\n",
      " 12.0226547  12.31503308 11.86590652 12.59994071 11.75542047 12.0074027\n",
      " 11.77746652 12.12750176 12.49610813 12.33451633 12.23364767 11.86033679\n",
      " 12.6752625  12.74482713 12.93821699 11.86911022 11.83536304 12.37325798\n",
      " 12.75790129 11.60594075 11.27094006 12.20479477 11.94923266 11.71897815\n",
      " 12.18917894 11.84229461 12.17911867 12.27555858 12.0468254  12.16956678\n",
      " 11.98930329 11.79245016 11.72940803 11.77168884 12.55089447 12.36078165\n",
      " 11.97278182 12.09275168 12.75829608 11.73354085 11.93938237 12.74554689\n",
      " 12.14278122 12.20973137 12.07845982 12.17837142 11.93264712 11.78735362\n",
      " 11.74368226 11.58424498 12.52273821 12.40728847 12.11926825 11.57950833\n",
      " 11.76264488 11.75696257 12.2143872  12.30898938 11.8537122  12.77238499\n",
      " 12.03861543 12.65109698 12.31250794 12.19713826 12.3943999  12.03215425\n",
      " 11.73915453 11.7279988  12.09440975 12.83520531 12.22483708 12.11443317\n",
      " 12.01538425 12.65015251 11.97687563 11.35846033 11.89238032 11.65881235\n",
      " 12.51599574 12.23570622 11.38085763 11.95158976 11.73689619 11.27228766\n",
      " 12.51624854 12.33316287 12.17883244 11.72684984 12.49071742 11.6309954\n",
      " 12.1797313  11.82112779 12.19057625 12.34868259 12.91601595 11.8764738\n",
      " 12.44959754 11.77422799 11.78715759 12.70871271 12.30666718 12.1691311\n",
      " 11.64410333 11.73033059 11.54250618 12.25348095 12.02151081 12.20248998\n",
      " 11.94044839 11.75594749 11.74257627 11.20797753 12.96534199 11.29440707\n",
      " 11.84631379 11.90357887 11.95264848 11.78484413 11.89891808 12.59454167\n",
      " 11.66740409 12.21139712 12.26360226 12.10012489 11.77187229 12.46571208\n",
      " 11.88691864 11.66928002 12.51822371 11.66079972 12.39418807 11.35514978\n",
      " 12.30142835 12.2231311  12.29423368 11.65459439 12.18541388 12.04927038\n",
      " 12.21554486 12.35011848 12.45872066 11.86785983 11.81170789 11.90132805\n",
      " 11.58895647 12.15252395 11.67879891 11.89802266 11.44820394 11.65574144\n",
      " 11.94692321 11.82532944 12.38426391 11.61262436 11.57646664 11.76108141\n",
      " 12.32905853 11.91591113 12.20519417 12.1688742  11.74893017 12.08375813\n",
      " 11.6701128 ]\n"
     ]
    }
   ],
   "source": [
    "all_X = train[selectdColumns]\n",
    "all_y = train['SalePrice']\n",
    "\n",
    "train_X, test_X, train_y, test_y = train_test_split(\n",
    "    all_X, all_y, test_size=0.20,random_state=0)\n",
    "\n",
    "model.fit(train_X, train_y)\n",
    "predictions = model.predict(test_X)\n",
    "print(predictions)"
   ]
  },
  {
   "cell_type": "code",
   "execution_count": 162,
   "metadata": {},
   "outputs": [
    {
     "name": "stdout",
     "output_type": "stream",
     "text": [
      "[0.56763825 0.77354514 0.81670739 0.83086195 0.83091288 0.83464843\n",
      " 0.85059735 0.85837683 0.87701115 0.88269929]\n",
      "----\n",
      "0.8122998661431126\n"
     ]
    }
   ],
   "source": [
    "scores = cross_val_score(model, all_X, all_y, cv=10)\n",
    "scores.sort()\n",
    "accuracy = scores.mean()\n",
    "\n",
    "print(scores)\n",
    "print('----')\n",
    "print(accuracy)"
   ]
  },
  {
   "cell_type": "code",
   "execution_count": 163,
   "metadata": {},
   "outputs": [],
   "source": [
    "############  NOW TIME TO USE UNSEEN DATA #################"
   ]
  },
  {
   "cell_type": "code",
   "execution_count": 172,
   "metadata": {},
   "outputs": [
    {
     "name": "stdout",
     "output_type": "stream",
     "text": [
      "99\n"
     ]
    }
   ],
   "source": [
    "print(len(selectdColumns))"
   ]
  },
  {
   "cell_type": "code",
   "execution_count": 173,
   "metadata": {},
   "outputs": [
    {
     "name": "stdout",
     "output_type": "stream",
     "text": [
      "348\n"
     ]
    }
   ],
   "source": [
    "print(len(list(train.columns)))"
   ]
  },
  {
   "cell_type": "code",
   "execution_count": null,
   "metadata": {},
   "outputs": [],
   "source": []
  },
  {
   "cell_type": "code",
   "execution_count": 165,
   "metadata": {},
   "outputs": [
    {
     "ename": "KeyError",
     "evalue": "\"['ExterQual_Fa' 'ExterCond_Ex' 'ExterCond_Fa' 'ExterCond_Po' 'BsmtQual_Ex'\\n 'BsmtQual_None' 'BsmtCond_Fa' 'BsmtCond_None' 'BsmtCond_Po'\\n 'BsmtFinType1_None' 'BsmtFinType2_ALQ' 'BsmtFinType2_BLQ'\\n 'BsmtFinType2_GLQ' 'BsmtFinType2_None' 'HeatingQC_Po' 'FireplaceQu_Ex'\\n 'FireplaceQu_Fa' 'FireplaceQu_Po' 'GarageQual_Ex' 'GarageQual_Gd'\\n 'GarageQual_Po' 'GarageCond_Ex' 'GarageCond_Fa' 'GarageCond_Gd'\\n 'PoolQC_Ex' 'PoolQC_Fa' 'PoolQC_Gd' 'Fence_MnWw' 'MiscFeature_Gar2'\\n 'MiscFeature_Othr' 'MiscFeature_TenC' 'SaleType_COD' 'SaleType_CWD'\\n 'SaleType_Con' 'SaleType_ConLD' 'SaleType_ConLI' 'SaleType_ConLw'\\n 'SaleType_Oth' 'SaleCondition_AdjLand' 'SaleCondition_Alloca'\\n 'SaleCondition_Family'] not in index\"",
     "output_type": "error",
     "traceback": [
      "\u001b[1;31m---------------------------------------------------------------------------\u001b[0m",
      "\u001b[1;31mKeyError\u001b[0m                                  Traceback (most recent call last)",
      "\u001b[1;32m<ipython-input-165-e5ee9f3f7b5b>\u001b[0m in \u001b[0;36m<module>\u001b[1;34m()\u001b[0m\n\u001b[1;32m----> 1\u001b[1;33m \u001b[0mprint\u001b[0m\u001b[1;33m(\u001b[0m\u001b[0mlen\u001b[0m\u001b[1;33m(\u001b[0m\u001b[0mtest\u001b[0m\u001b[1;33m[\u001b[0m\u001b[0mselectdColumns\u001b[0m\u001b[1;33m]\u001b[0m\u001b[1;33m)\u001b[0m\u001b[1;33m)\u001b[0m\u001b[1;33m\u001b[0m\u001b[0m\n\u001b[0m",
      "\u001b[1;32m~\\AppData\\Local\\Continuum\\anaconda3\\lib\\site-packages\\pandas\\core\\frame.py\u001b[0m in \u001b[0;36m__getitem__\u001b[1;34m(self, key)\u001b[0m\n\u001b[0;32m   2677\u001b[0m         \u001b[1;32mif\u001b[0m \u001b[0misinstance\u001b[0m\u001b[1;33m(\u001b[0m\u001b[0mkey\u001b[0m\u001b[1;33m,\u001b[0m \u001b[1;33m(\u001b[0m\u001b[0mSeries\u001b[0m\u001b[1;33m,\u001b[0m \u001b[0mnp\u001b[0m\u001b[1;33m.\u001b[0m\u001b[0mndarray\u001b[0m\u001b[1;33m,\u001b[0m \u001b[0mIndex\u001b[0m\u001b[1;33m,\u001b[0m \u001b[0mlist\u001b[0m\u001b[1;33m)\u001b[0m\u001b[1;33m)\u001b[0m\u001b[1;33m:\u001b[0m\u001b[1;33m\u001b[0m\u001b[0m\n\u001b[0;32m   2678\u001b[0m             \u001b[1;31m# either boolean or fancy integer index\u001b[0m\u001b[1;33m\u001b[0m\u001b[1;33m\u001b[0m\u001b[0m\n\u001b[1;32m-> 2679\u001b[1;33m             \u001b[1;32mreturn\u001b[0m \u001b[0mself\u001b[0m\u001b[1;33m.\u001b[0m\u001b[0m_getitem_array\u001b[0m\u001b[1;33m(\u001b[0m\u001b[0mkey\u001b[0m\u001b[1;33m)\u001b[0m\u001b[1;33m\u001b[0m\u001b[0m\n\u001b[0m\u001b[0;32m   2680\u001b[0m         \u001b[1;32melif\u001b[0m \u001b[0misinstance\u001b[0m\u001b[1;33m(\u001b[0m\u001b[0mkey\u001b[0m\u001b[1;33m,\u001b[0m \u001b[0mDataFrame\u001b[0m\u001b[1;33m)\u001b[0m\u001b[1;33m:\u001b[0m\u001b[1;33m\u001b[0m\u001b[0m\n\u001b[0;32m   2681\u001b[0m             \u001b[1;32mreturn\u001b[0m \u001b[0mself\u001b[0m\u001b[1;33m.\u001b[0m\u001b[0m_getitem_frame\u001b[0m\u001b[1;33m(\u001b[0m\u001b[0mkey\u001b[0m\u001b[1;33m)\u001b[0m\u001b[1;33m\u001b[0m\u001b[0m\n",
      "\u001b[1;32m~\\AppData\\Local\\Continuum\\anaconda3\\lib\\site-packages\\pandas\\core\\frame.py\u001b[0m in \u001b[0;36m_getitem_array\u001b[1;34m(self, key)\u001b[0m\n\u001b[0;32m   2721\u001b[0m             \u001b[1;32mreturn\u001b[0m \u001b[0mself\u001b[0m\u001b[1;33m.\u001b[0m\u001b[0m_take\u001b[0m\u001b[1;33m(\u001b[0m\u001b[0mindexer\u001b[0m\u001b[1;33m,\u001b[0m \u001b[0maxis\u001b[0m\u001b[1;33m=\u001b[0m\u001b[1;36m0\u001b[0m\u001b[1;33m)\u001b[0m\u001b[1;33m\u001b[0m\u001b[0m\n\u001b[0;32m   2722\u001b[0m         \u001b[1;32melse\u001b[0m\u001b[1;33m:\u001b[0m\u001b[1;33m\u001b[0m\u001b[0m\n\u001b[1;32m-> 2723\u001b[1;33m             \u001b[0mindexer\u001b[0m \u001b[1;33m=\u001b[0m \u001b[0mself\u001b[0m\u001b[1;33m.\u001b[0m\u001b[0mloc\u001b[0m\u001b[1;33m.\u001b[0m\u001b[0m_convert_to_indexer\u001b[0m\u001b[1;33m(\u001b[0m\u001b[0mkey\u001b[0m\u001b[1;33m,\u001b[0m \u001b[0maxis\u001b[0m\u001b[1;33m=\u001b[0m\u001b[1;36m1\u001b[0m\u001b[1;33m)\u001b[0m\u001b[1;33m\u001b[0m\u001b[0m\n\u001b[0m\u001b[0;32m   2724\u001b[0m             \u001b[1;32mreturn\u001b[0m \u001b[0mself\u001b[0m\u001b[1;33m.\u001b[0m\u001b[0m_take\u001b[0m\u001b[1;33m(\u001b[0m\u001b[0mindexer\u001b[0m\u001b[1;33m,\u001b[0m \u001b[0maxis\u001b[0m\u001b[1;33m=\u001b[0m\u001b[1;36m1\u001b[0m\u001b[1;33m)\u001b[0m\u001b[1;33m\u001b[0m\u001b[0m\n\u001b[0;32m   2725\u001b[0m \u001b[1;33m\u001b[0m\u001b[0m\n",
      "\u001b[1;32m~\\AppData\\Local\\Continuum\\anaconda3\\lib\\site-packages\\pandas\\core\\indexing.py\u001b[0m in \u001b[0;36m_convert_to_indexer\u001b[1;34m(self, obj, axis, is_setter)\u001b[0m\n\u001b[0;32m   1325\u001b[0m                 \u001b[1;32mif\u001b[0m \u001b[0mmask\u001b[0m\u001b[1;33m.\u001b[0m\u001b[0many\u001b[0m\u001b[1;33m(\u001b[0m\u001b[1;33m)\u001b[0m\u001b[1;33m:\u001b[0m\u001b[1;33m\u001b[0m\u001b[0m\n\u001b[0;32m   1326\u001b[0m                     raise KeyError('{mask} not in index'\n\u001b[1;32m-> 1327\u001b[1;33m                                    .format(mask=objarr[mask]))\n\u001b[0m\u001b[0;32m   1328\u001b[0m \u001b[1;33m\u001b[0m\u001b[0m\n\u001b[0;32m   1329\u001b[0m                 \u001b[1;32mreturn\u001b[0m \u001b[0mcom\u001b[0m\u001b[1;33m.\u001b[0m\u001b[0m_values_from_object\u001b[0m\u001b[1;33m(\u001b[0m\u001b[0mindexer\u001b[0m\u001b[1;33m)\u001b[0m\u001b[1;33m\u001b[0m\u001b[0m\n",
      "\u001b[1;31mKeyError\u001b[0m: \"['ExterQual_Fa' 'ExterCond_Ex' 'ExterCond_Fa' 'ExterCond_Po' 'BsmtQual_Ex'\\n 'BsmtQual_None' 'BsmtCond_Fa' 'BsmtCond_None' 'BsmtCond_Po'\\n 'BsmtFinType1_None' 'BsmtFinType2_ALQ' 'BsmtFinType2_BLQ'\\n 'BsmtFinType2_GLQ' 'BsmtFinType2_None' 'HeatingQC_Po' 'FireplaceQu_Ex'\\n 'FireplaceQu_Fa' 'FireplaceQu_Po' 'GarageQual_Ex' 'GarageQual_Gd'\\n 'GarageQual_Po' 'GarageCond_Ex' 'GarageCond_Fa' 'GarageCond_Gd'\\n 'PoolQC_Ex' 'PoolQC_Fa' 'PoolQC_Gd' 'Fence_MnWw' 'MiscFeature_Gar2'\\n 'MiscFeature_Othr' 'MiscFeature_TenC' 'SaleType_COD' 'SaleType_CWD'\\n 'SaleType_Con' 'SaleType_ConLD' 'SaleType_ConLI' 'SaleType_ConLw'\\n 'SaleType_Oth' 'SaleCondition_AdjLand' 'SaleCondition_Alloca'\\n 'SaleCondition_Family'] not in index\""
     ]
    }
   ],
   "source": [
    "print(len(test[selectdColumns]))"
   ]
  },
  {
   "cell_type": "code",
   "execution_count": null,
   "metadata": {},
   "outputs": [],
   "source": []
  },
  {
   "cell_type": "code",
   "execution_count": 112,
   "metadata": {},
   "outputs": [
    {
     "ename": "KeyError",
     "evalue": "\"['ExterQual_Fa' 'ExterCond_Ex' 'ExterCond_Fa' 'ExterCond_Po' 'BsmtQual_Ex'\\n 'BsmtQual_None' 'BsmtCond_Fa' 'BsmtCond_None' 'BsmtCond_Po'\\n 'BsmtFinType1_None' 'BsmtFinType2_ALQ' 'BsmtFinType2_BLQ'\\n 'BsmtFinType2_GLQ' 'BsmtFinType2_None' 'HeatingQC_Po' 'FireplaceQu_Ex'\\n 'FireplaceQu_Fa' 'FireplaceQu_Po' 'GarageQual_Ex' 'GarageQual_Gd'\\n 'GarageQual_Po' 'GarageCond_Ex' 'GarageCond_Fa' 'GarageCond_Gd'\\n 'PoolQC_Ex' 'PoolQC_Fa' 'PoolQC_Gd' 'Fence_MnWw' 'MiscFeature_Gar2'\\n 'MiscFeature_Othr' 'MiscFeature_TenC' 'SaleType_COD' 'SaleType_CWD'\\n 'SaleType_Con' 'SaleType_ConLD' 'SaleType_ConLI' 'SaleType_ConLw'\\n 'SaleType_Oth' 'SaleCondition_AdjLand' 'SaleCondition_Alloca'\\n 'SaleCondition_Family'] not in index\"",
     "output_type": "error",
     "traceback": [
      "\u001b[1;31m---------------------------------------------------------------------------\u001b[0m",
      "\u001b[1;31mKeyError\u001b[0m                                  Traceback (most recent call last)",
      "\u001b[1;32m<ipython-input-112-40352eadc5f9>\u001b[0m in \u001b[0;36m<module>\u001b[1;34m()\u001b[0m\n\u001b[1;32m----> 1\u001b[1;33m \u001b[0mpredictions\u001b[0m \u001b[1;33m=\u001b[0m\u001b[0mmodel\u001b[0m\u001b[1;33m.\u001b[0m\u001b[0mpredict\u001b[0m\u001b[1;33m(\u001b[0m\u001b[0mtest\u001b[0m\u001b[1;33m[\u001b[0m\u001b[0mselectdColumns\u001b[0m\u001b[1;33m]\u001b[0m\u001b[1;33m)\u001b[0m\u001b[1;33m\u001b[0m\u001b[0m\n\u001b[0m",
      "\u001b[1;32m~\\AppData\\Local\\Continuum\\anaconda3\\lib\\site-packages\\pandas\\core\\frame.py\u001b[0m in \u001b[0;36m__getitem__\u001b[1;34m(self, key)\u001b[0m\n\u001b[0;32m   2677\u001b[0m         \u001b[1;32mif\u001b[0m \u001b[0misinstance\u001b[0m\u001b[1;33m(\u001b[0m\u001b[0mkey\u001b[0m\u001b[1;33m,\u001b[0m \u001b[1;33m(\u001b[0m\u001b[0mSeries\u001b[0m\u001b[1;33m,\u001b[0m \u001b[0mnp\u001b[0m\u001b[1;33m.\u001b[0m\u001b[0mndarray\u001b[0m\u001b[1;33m,\u001b[0m \u001b[0mIndex\u001b[0m\u001b[1;33m,\u001b[0m \u001b[0mlist\u001b[0m\u001b[1;33m)\u001b[0m\u001b[1;33m)\u001b[0m\u001b[1;33m:\u001b[0m\u001b[1;33m\u001b[0m\u001b[0m\n\u001b[0;32m   2678\u001b[0m             \u001b[1;31m# either boolean or fancy integer index\u001b[0m\u001b[1;33m\u001b[0m\u001b[1;33m\u001b[0m\u001b[0m\n\u001b[1;32m-> 2679\u001b[1;33m             \u001b[1;32mreturn\u001b[0m \u001b[0mself\u001b[0m\u001b[1;33m.\u001b[0m\u001b[0m_getitem_array\u001b[0m\u001b[1;33m(\u001b[0m\u001b[0mkey\u001b[0m\u001b[1;33m)\u001b[0m\u001b[1;33m\u001b[0m\u001b[0m\n\u001b[0m\u001b[0;32m   2680\u001b[0m         \u001b[1;32melif\u001b[0m \u001b[0misinstance\u001b[0m\u001b[1;33m(\u001b[0m\u001b[0mkey\u001b[0m\u001b[1;33m,\u001b[0m \u001b[0mDataFrame\u001b[0m\u001b[1;33m)\u001b[0m\u001b[1;33m:\u001b[0m\u001b[1;33m\u001b[0m\u001b[0m\n\u001b[0;32m   2681\u001b[0m             \u001b[1;32mreturn\u001b[0m \u001b[0mself\u001b[0m\u001b[1;33m.\u001b[0m\u001b[0m_getitem_frame\u001b[0m\u001b[1;33m(\u001b[0m\u001b[0mkey\u001b[0m\u001b[1;33m)\u001b[0m\u001b[1;33m\u001b[0m\u001b[0m\n",
      "\u001b[1;32m~\\AppData\\Local\\Continuum\\anaconda3\\lib\\site-packages\\pandas\\core\\frame.py\u001b[0m in \u001b[0;36m_getitem_array\u001b[1;34m(self, key)\u001b[0m\n\u001b[0;32m   2721\u001b[0m             \u001b[1;32mreturn\u001b[0m \u001b[0mself\u001b[0m\u001b[1;33m.\u001b[0m\u001b[0m_take\u001b[0m\u001b[1;33m(\u001b[0m\u001b[0mindexer\u001b[0m\u001b[1;33m,\u001b[0m \u001b[0maxis\u001b[0m\u001b[1;33m=\u001b[0m\u001b[1;36m0\u001b[0m\u001b[1;33m)\u001b[0m\u001b[1;33m\u001b[0m\u001b[0m\n\u001b[0;32m   2722\u001b[0m         \u001b[1;32melse\u001b[0m\u001b[1;33m:\u001b[0m\u001b[1;33m\u001b[0m\u001b[0m\n\u001b[1;32m-> 2723\u001b[1;33m             \u001b[0mindexer\u001b[0m \u001b[1;33m=\u001b[0m \u001b[0mself\u001b[0m\u001b[1;33m.\u001b[0m\u001b[0mloc\u001b[0m\u001b[1;33m.\u001b[0m\u001b[0m_convert_to_indexer\u001b[0m\u001b[1;33m(\u001b[0m\u001b[0mkey\u001b[0m\u001b[1;33m,\u001b[0m \u001b[0maxis\u001b[0m\u001b[1;33m=\u001b[0m\u001b[1;36m1\u001b[0m\u001b[1;33m)\u001b[0m\u001b[1;33m\u001b[0m\u001b[0m\n\u001b[0m\u001b[0;32m   2724\u001b[0m             \u001b[1;32mreturn\u001b[0m \u001b[0mself\u001b[0m\u001b[1;33m.\u001b[0m\u001b[0m_take\u001b[0m\u001b[1;33m(\u001b[0m\u001b[0mindexer\u001b[0m\u001b[1;33m,\u001b[0m \u001b[0maxis\u001b[0m\u001b[1;33m=\u001b[0m\u001b[1;36m1\u001b[0m\u001b[1;33m)\u001b[0m\u001b[1;33m\u001b[0m\u001b[0m\n\u001b[0;32m   2725\u001b[0m \u001b[1;33m\u001b[0m\u001b[0m\n",
      "\u001b[1;32m~\\AppData\\Local\\Continuum\\anaconda3\\lib\\site-packages\\pandas\\core\\indexing.py\u001b[0m in \u001b[0;36m_convert_to_indexer\u001b[1;34m(self, obj, axis, is_setter)\u001b[0m\n\u001b[0;32m   1325\u001b[0m                 \u001b[1;32mif\u001b[0m \u001b[0mmask\u001b[0m\u001b[1;33m.\u001b[0m\u001b[0many\u001b[0m\u001b[1;33m(\u001b[0m\u001b[1;33m)\u001b[0m\u001b[1;33m:\u001b[0m\u001b[1;33m\u001b[0m\u001b[0m\n\u001b[0;32m   1326\u001b[0m                     raise KeyError('{mask} not in index'\n\u001b[1;32m-> 1327\u001b[1;33m                                    .format(mask=objarr[mask]))\n\u001b[0m\u001b[0;32m   1328\u001b[0m \u001b[1;33m\u001b[0m\u001b[0m\n\u001b[0;32m   1329\u001b[0m                 \u001b[1;32mreturn\u001b[0m \u001b[0mcom\u001b[0m\u001b[1;33m.\u001b[0m\u001b[0m_values_from_object\u001b[0m\u001b[1;33m(\u001b[0m\u001b[0mindexer\u001b[0m\u001b[1;33m)\u001b[0m\u001b[1;33m\u001b[0m\u001b[0m\n",
      "\u001b[1;31mKeyError\u001b[0m: \"['ExterQual_Fa' 'ExterCond_Ex' 'ExterCond_Fa' 'ExterCond_Po' 'BsmtQual_Ex'\\n 'BsmtQual_None' 'BsmtCond_Fa' 'BsmtCond_None' 'BsmtCond_Po'\\n 'BsmtFinType1_None' 'BsmtFinType2_ALQ' 'BsmtFinType2_BLQ'\\n 'BsmtFinType2_GLQ' 'BsmtFinType2_None' 'HeatingQC_Po' 'FireplaceQu_Ex'\\n 'FireplaceQu_Fa' 'FireplaceQu_Po' 'GarageQual_Ex' 'GarageQual_Gd'\\n 'GarageQual_Po' 'GarageCond_Ex' 'GarageCond_Fa' 'GarageCond_Gd'\\n 'PoolQC_Ex' 'PoolQC_Fa' 'PoolQC_Gd' 'Fence_MnWw' 'MiscFeature_Gar2'\\n 'MiscFeature_Othr' 'MiscFeature_TenC' 'SaleType_COD' 'SaleType_CWD'\\n 'SaleType_Con' 'SaleType_ConLD' 'SaleType_ConLI' 'SaleType_ConLw'\\n 'SaleType_Oth' 'SaleCondition_AdjLand' 'SaleCondition_Alloca'\\n 'SaleCondition_Family'] not in index\""
     ]
    }
   ],
   "source": [
    "predictions =model.predict(test[selectdColumns])"
   ]
  },
  {
   "cell_type": "code",
   "execution_count": 45,
   "metadata": {},
   "outputs": [
    {
     "name": "stdout",
     "output_type": "stream",
     "text": [
      "[12.25615335 12.156142   12.34909368]\n"
     ]
    }
   ],
   "source": [
    "print(predictions)"
   ]
  },
  {
   "cell_type": "code",
   "execution_count": 46,
   "metadata": {},
   "outputs": [],
   "source": [
    "# The above value means in $ as:"
   ]
  },
  {
   "cell_type": "code",
   "execution_count": 47,
   "metadata": {},
   "outputs": [
    {
     "name": "stdout",
     "output_type": "stream",
     "text": [
      "[210270.18738659 190258.07907214 230749.81299098]\n"
     ]
    }
   ],
   "source": [
    "realvalues = np.expm1(predictions)\n",
    "print(realvalues)"
   ]
  },
  {
   "cell_type": "code",
   "execution_count": 124,
   "metadata": {},
   "outputs": [],
   "source": [
    "#The 'actual cost' versus the 'predicted value's':"
   ]
  },
  {
   "cell_type": "code",
   "execution_count": 125,
   "metadata": {},
   "outputs": [],
   "source": [
    "#ACTUAL = 208500\n",
    "#DUMMY = 210270\n",
    "#ENCODER = 213273.94110526\n",
    "\n",
    "#PREDICTED = 213273.94110526\n",
    "\n",
    "\n",
    "#ACTUAL = 147500\n",
    "#PREDICTED = 132910.96344037"
   ]
  },
  {
   "cell_type": "code",
   "execution_count": null,
   "metadata": {},
   "outputs": [],
   "source": []
  },
  {
   "cell_type": "code",
   "execution_count": 126,
   "metadata": {},
   "outputs": [],
   "source": [
    "#THE END"
   ]
  },
  {
   "cell_type": "code",
   "execution_count": null,
   "metadata": {},
   "outputs": [],
   "source": []
  }
 ],
 "metadata": {
  "kernelspec": {
   "display_name": "Python 3",
   "language": "python",
   "name": "python3"
  },
  "language_info": {
   "codemirror_mode": {
    "name": "ipython",
    "version": 3
   },
   "file_extension": ".py",
   "mimetype": "text/x-python",
   "name": "python",
   "nbconvert_exporter": "python",
   "pygments_lexer": "ipython3",
   "version": "3.6.5"
  }
 },
 "nbformat": 4,
 "nbformat_minor": 2
}
