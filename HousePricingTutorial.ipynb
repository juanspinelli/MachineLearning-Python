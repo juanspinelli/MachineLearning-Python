{
 "cells": [
  {
   "cell_type": "code",
   "execution_count": 1,
   "metadata": {},
   "outputs": [],
   "source": [
    "import numpy as np\n",
    "import seaborn as sns\n",
    "import pandas as pd\n",
    "import matplotlib.pyplot as plt\n",
    "from scipy import stats"
   ]
  },
  {
   "cell_type": "code",
   "execution_count": 2,
   "metadata": {},
   "outputs": [],
   "source": [
    "#Loading training Dataset\n",
    "data = pd.read_csv('C:/Users/Lenovo/Desktop/IPY/home/MachineLearningPython-HousePriceCompetition/Data/HousePricingTutorial.csv')"
   ]
  },
  {
   "cell_type": "code",
   "execution_count": 3,
   "metadata": {},
   "outputs": [],
   "source": [
    "##The meaning of all the columns are...\n",
    "\n",
    "\n",
    "\n",
    "##SalePrice - the property's sale price in dollars. This is the target variable that you're trying to predict.\n",
    "##MSSubClass: The building class\n",
    "##MSZoning: The general zoning classification\n",
    "##LotFrontage: Linear feet of street connected to property\n",
    "##LotArea: Lot size in square feet\n",
    "##Street: Type of road access\n",
    "##Alley: Type of alley access\n",
    "##LotShape: General shape of property\n",
    "##LandContour: Flatness of the property\n",
    "##Utilities: Type of utilities available\n",
    "##LotConfig: Lot configuration\n",
    "##LandSlope: Slope of property\n",
    "##Neighborhood: Physical locations within Ames city limits\n",
    "##Condition1: Proximity to main road or railroad\n",
    "##Condition2: Proximity to main road or railroad (if a second is present)\n",
    "##BldgType: Type of dwelling\n",
    "##HouseStyle: Style of dwelling\n",
    "##OverallQual: Overall material and finish quality\n",
    "##OverallCond: Overall condition rating\n",
    "##YearBuilt: Original construction date\n",
    "##YearRemodAdd: Remodel date\n",
    "##RoofStyle: Type of roof\n",
    "##RoofMatl: Roof material\n",
    "##Exterior1st: Exterior covering on house\n",
    "##Exterior2nd: Exterior covering on house (if more than one material)\n",
    "##MasVnrType: Masonry veneer type\n",
    "##MasVnrArea: Masonry veneer area in square feet\n",
    "##ExterQual: Exterior material quality\n",
    "##ExterCond: Present condition of the material on the exterior\n",
    "##Foundation: Type of foundation\n",
    "##BsmtQual: Height of the basement\n",
    "##BsmtCond: General condition of the basement\n",
    "##BsmtExposure: Walkout or garden level basement walls\n",
    "##BsmtFinType1: Quality of basement finished area\n",
    "##BsmtFinSF1: Type 1 finished square feet\n",
    "##BsmtFinType2: Quality of second finished area (if present)\n",
    "##BsmtFinSF2: Type 2 finished square feet\n",
    "##BsmtUnfSF: Unfinished square feet of basement area\n",
    "##TotalBsmtSF: Total square feet of basement area\n",
    "##Heating: Type of heating\n",
    "##HeatingQC: Heating quality and condition\n",
    "##CentralAir: Central air conditioning\n",
    "##Electrical: Electrical system\n",
    "##1stFlrSF: First Floor square feet\n",
    "##2ndFlrSF: Second floor square feet\n",
    "##LowQualFinSF: Low quality finished square feet (all floors)\n",
    "##GrLivArea: Above grade (ground) living area square feet\n",
    "##BsmtFullBath: Basement full bathrooms\n",
    "##BsmtHalfBath: Basement half bathrooms\n",
    "##FullBath: Full bathrooms above grade\n",
    "##HalfBath: Half baths above grade\n",
    "##Bedroom: Number of bedrooms above basement level\n",
    "##Kitchen: Number of kitchens\n",
    "##KitchenQual: Kitchen quality\n",
    "##TotRmsAbvGrd: Total rooms above grade (does not include bathrooms)\n",
    "##Functional: Home functionality rating\n",
    "##Fireplaces: Number of fireplaces\n",
    "##FireplaceQu: Fireplace quality\n",
    "##GarageType: Garage location\n",
    "##GarageYrBlt: Year garage was built\n",
    "##GarageFinish: Interior finish of the garage\n",
    "##GarageCars: Size of garage in car capacity\n",
    "##GarageArea: Size of garage in square feet\n",
    "##GarageQual: Garage quality\n",
    "##GarageCond: Garage condition\n",
    "##PavedDrive: Paved driveway\n",
    "##WoodDeckSF: Wood deck area in square feet\n",
    "##OpenPorchSF: Open porch area in square feet\n",
    "##EnclosedPorch: Enclosed porch area in square feet\n",
    "##3SsnPorch: Three season porch area in square feet\n",
    "##ScreenPorch: Screen porch area in square feet\n",
    "##PoolArea: Pool area in square feet\n",
    "##PoolQC: Pool quality\n",
    "##Fence: Fence quality\n",
    "##MiscFeature: Miscellaneous feature not covered in other categories\n",
    "##MiscVal: $Value of miscellaneous feature\n",
    "##MoSold: Month Sold\n",
    "##YrSold: Year Sold\n",
    "##SaleType: Type of sale\n",
    "##SaleCondition: Condition of sale"
   ]
  },
  {
   "cell_type": "code",
   "execution_count": 4,
   "metadata": {},
   "outputs": [
    {
     "name": "stdout",
     "output_type": "stream",
     "text": [
      "(1460, 81)\n"
     ]
    }
   ],
   "source": [
    "#Shape of the data\n",
    "print(data.shape)"
   ]
  },
  {
   "cell_type": "code",
   "execution_count": 5,
   "metadata": {},
   "outputs": [
    {
     "name": "stdout",
     "output_type": "stream",
     "text": [
      "Skew is: 0.12134661989685333\n"
     ]
    },
    {
     "data": {
      "image/png": "[encoded data removed]",
      "text/plain": [
       "<Figure size 432x288 with 1 Axes>"
      ]
     },
     "metadata": {},
     "output_type": "display_data"
    }
   ],
   "source": [
    "data['SalePrice'] = np.log1p(data['SalePrice'])\n",
    "\n",
    "target = data['SalePrice']\n",
    "print (\"Skew is:\", target.skew())\n",
    "plt.hist(target, color='green')\n",
    "plt.show()"
   ]
  },
  {
   "cell_type": "code",
   "execution_count": 6,
   "metadata": {},
   "outputs": [],
   "source": [
    "#Finding all the Numerical columns\n",
    "numeric_features = data.select_dtypes(include=[np.number])"
   ]
  },
  {
   "cell_type": "code",
   "execution_count": 7,
   "metadata": {},
   "outputs": [
    {
     "name": "stdout",
     "output_type": "stream",
     "text": [
      "SalePrice      1.000000\n",
      "OverallQual    0.817185\n",
      "GrLivArea      0.700927\n",
      "GarageCars     0.680625\n",
      "GarageArea     0.650888\n",
      "Name: SalePrice, dtype: float64 \n",
      "\n"
     ]
    }
   ],
   "source": [
    "#Finding the first five features that are most positively correlated with SalePrice\n",
    "corr = numeric_features.corr()\n",
    "print (corr['SalePrice'].sort_values(ascending=False)[:5], '\\n')"
   ]
  },
  {
   "cell_type": "code",
   "execution_count": 8,
   "metadata": {},
   "outputs": [
    {
     "name": "stdout",
     "output_type": "stream",
     "text": [
      "PoolQC           1453\n",
      "MiscFeature      1406\n",
      "Alley            1369\n",
      "Fence            1179\n",
      "FireplaceQu       690\n",
      "LotFrontage       259\n",
      "GarageCond         81\n",
      "GarageType         81\n",
      "GarageYrBlt        81\n",
      "GarageFinish       81\n",
      "GarageQual         81\n",
      "BsmtExposure       38\n",
      "BsmtFinType2       38\n",
      "BsmtFinType1       37\n",
      "BsmtCond           37\n",
      "BsmtQual           37\n",
      "MasVnrArea          8\n",
      "MasVnrType          8\n",
      "Electrical          1\n",
      "Utilities           0\n",
      "YearRemodAdd        0\n",
      "MSSubClass          0\n",
      "Foundation          0\n",
      "ExterCond           0\n",
      "ExterQual           0\n",
      "Exterior2nd         0\n",
      "Exterior1st         0\n",
      "RoofMatl            0\n",
      "RoofStyle           0\n",
      "YearBuilt           0\n",
      "                 ... \n",
      "GarageArea          0\n",
      "PavedDrive          0\n",
      "WoodDeckSF          0\n",
      "OpenPorchSF         0\n",
      "3SsnPorch           0\n",
      "BsmtUnfSF           0\n",
      "ScreenPorch         0\n",
      "PoolArea            0\n",
      "MiscVal             0\n",
      "MoSold              0\n",
      "YrSold              0\n",
      "SaleType            0\n",
      "Functional          0\n",
      "TotRmsAbvGrd        0\n",
      "KitchenQual         0\n",
      "KitchenAbvGr        0\n",
      "BedroomAbvGr        0\n",
      "HalfBath            0\n",
      "FullBath            0\n",
      "BsmtHalfBath        0\n",
      "BsmtFullBath        0\n",
      "GrLivArea           0\n",
      "LowQualFinSF        0\n",
      "2ndFlrSF            0\n",
      "1stFlrSF            0\n",
      "CentralAir          0\n",
      "SaleCondition       0\n",
      "Heating             0\n",
      "TotalBsmtSF         0\n",
      "Id                  0\n",
      "Length: 81, dtype: int64\n"
     ]
    }
   ],
   "source": [
    "#Understanding NULL values and sorting them !\n",
    "Isnull=data.isnull().sum()\n",
    "Isnull.sort_values(inplace=True, ascending=False)\n",
    "print(Isnull)"
   ]
  },
  {
   "cell_type": "code",
   "execution_count": 9,
   "metadata": {},
   "outputs": [],
   "source": [
    "#Examining the NULL values and filling with appropriate values:\n",
    "#There are 19 columns with NULLs.\n",
    "\n",
    "# PoolQC           1453\n",
    "# MiscFeature      1406\n",
    "# Alley            1369\n",
    "# Fence            1179\n",
    "# FireplaceQu       690\n",
    "# LotFrontage       259\n",
    "# GarageCond         81\n",
    "# GarageType         81\n",
    "# GarageYrBlt        81\n",
    "# GarageFinish       81\n",
    "# GarageQual         81\n",
    "# BsmtExposure       38\n",
    "# BsmtFinType2       38\n",
    "# BsmtFinType1       37\n",
    "# BsmtCond           37\n",
    "# BsmtQual           37\n",
    "# MasVnrArea          8\n",
    "# MasVnrType          8\n",
    "# Electrical          1\n",
    "\n",
    "\n",
    "data['PoolQC'] = data['PoolQC'].fillna('None')\n",
    "data['MiscFeature'] = data['MiscFeature'].fillna('None')\n",
    "data['Alley'] = data['Alley'].fillna('None')\n",
    "data['Fence'] = data['Fence'].fillna('None')\n",
    "data['FireplaceQu'] = data['FireplaceQu'].fillna('None')\n",
    "data['GarageType'] = data['GarageType'].fillna('None')\n",
    "data['GarageFinish'] = data['GarageFinish'].fillna('None')\n",
    "data['GarageCond'] = data['GarageCond'].fillna('None')\n",
    "data['BsmtFinType2'] = data['BsmtFinType2'].fillna('None')\n",
    "data['BsmtExposure'] = data['BsmtExposure'].fillna('None')\n",
    "data['BsmtFinType1'] = data['BsmtFinType1'].fillna('None')\n",
    "data['BsmtCond'] = data['BsmtCond'].fillna('None')\n",
    "data['BsmtQual'] = data['BsmtQual'].fillna('None')\n",
    "data['GarageQual'] = data['GarageQual'].fillna('None')\n",
    "data['MasVnrType'] = data['MasVnrType'].fillna('None')\n",
    "\n"
   ]
  },
  {
   "cell_type": "code",
   "execution_count": 10,
   "metadata": {},
   "outputs": [],
   "source": [
    "data['GarageYrBlt'] = data['GarageYrBlt'].fillna(int(0))\n",
    "data['GarageArea'] = data['GarageArea'].fillna(int(0))\n",
    "data['GarageCars'] = data['GarageCars'].fillna(int(0))\n",
    "data['MasVnrArea'] = data['MasVnrArea'].fillna(int(0))\n"
   ]
  },
  {
   "cell_type": "code",
   "execution_count": 11,
   "metadata": {},
   "outputs": [],
   "source": [
    "#########################################################################################################"
   ]
  },
  {
   "cell_type": "code",
   "execution_count": 12,
   "metadata": {},
   "outputs": [],
   "source": [
    "#Can Experiment-\n",
    "#Group by neighborhood and fill in missing value by the median LotFrontage of all the neighborhood\n",
    "#train['LotFrontage'] = train.groupby(\"Neighborhood\")[\"LotFrontage\"].transform(lambda x: x.fillna(x.median()))"
   ]
  },
  {
   "cell_type": "code",
   "execution_count": 13,
   "metadata": {},
   "outputs": [],
   "source": [
    "#Can Experiment-\n",
    "#train['Electrical'] = train['Electrical'].fillna(train['Electrical']).mode()[0]"
   ]
  },
  {
   "cell_type": "code",
   "execution_count": 14,
   "metadata": {},
   "outputs": [],
   "source": [
    "data['LotFrontage'] = data['LotFrontage'].fillna(int(0))\n",
    "data['Electrical'] = data['Electrical'].fillna(int (0))\n"
   ]
  },
  {
   "cell_type": "code",
   "execution_count": 15,
   "metadata": {},
   "outputs": [],
   "source": [
    "#########################################################################################################"
   ]
  },
  {
   "cell_type": "code",
   "execution_count": 16,
   "metadata": {},
   "outputs": [
    {
     "data": {
      "text/plain": [
       "Index(['Id', 'MSSubClass', 'MSZoning', 'LotFrontage', 'LotArea', 'Street',\n",
       "       'Alley', 'LotShape', 'LandContour', 'Utilities', 'LotConfig',\n",
       "       'LandSlope', 'Neighborhood', 'Condition1', 'Condition2', 'BldgType',\n",
       "       'HouseStyle', 'OverallQual', 'OverallCond', 'YearBuilt', 'YearRemodAdd',\n",
       "       'RoofStyle', 'RoofMatl', 'Exterior1st', 'Exterior2nd', 'MasVnrType',\n",
       "       'MasVnrArea', 'ExterQual', 'ExterCond', 'Foundation', 'BsmtQual',\n",
       "       'BsmtCond', 'BsmtExposure', 'BsmtFinType1', 'BsmtFinSF1',\n",
       "       'BsmtFinType2', 'BsmtFinSF2', 'BsmtUnfSF', 'TotalBsmtSF', 'Heating',\n",
       "       'HeatingQC', 'CentralAir', 'Electrical', '1stFlrSF', '2ndFlrSF',\n",
       "       'LowQualFinSF', 'GrLivArea', 'BsmtFullBath', 'BsmtHalfBath', 'FullBath',\n",
       "       'HalfBath', 'BedroomAbvGr', 'KitchenAbvGr', 'KitchenQual',\n",
       "       'TotRmsAbvGrd', 'Functional', 'Fireplaces', 'FireplaceQu', 'GarageType',\n",
       "       'GarageYrBlt', 'GarageFinish', 'GarageCars', 'GarageArea', 'GarageQual',\n",
       "       'GarageCond', 'PavedDrive', 'WoodDeckSF', 'OpenPorchSF',\n",
       "       'EnclosedPorch', '3SsnPorch', 'ScreenPorch', 'PoolArea', 'PoolQC',\n",
       "       'Fence', 'MiscFeature', 'MiscVal', 'MoSold', 'YrSold', 'SaleType',\n",
       "       'SaleCondition', 'SalePrice'],\n",
       "      dtype='object')"
      ]
     },
     "execution_count": 16,
     "metadata": {},
     "output_type": "execute_result"
    }
   ],
   "source": [
    "#The total number of columns = 81\n",
    "data.columns"
   ]
  },
  {
   "cell_type": "code",
   "execution_count": 17,
   "metadata": {},
   "outputs": [
    {
     "name": "stdout",
     "output_type": "stream",
     "text": [
      "81\n"
     ]
    }
   ],
   "source": [
    "#Total columns in data:\n",
    "print(len(data.columns))\n"
   ]
  },
  {
   "cell_type": "code",
   "execution_count": 18,
   "metadata": {},
   "outputs": [
    {
     "name": "stdout",
     "output_type": "stream",
     "text": [
      "38\n"
     ]
    }
   ],
   "source": [
    "#Numerical Columns in data = 38\n",
    "print(len(data.select_dtypes(include=[np.number]).columns.tolist()))"
   ]
  },
  {
   "cell_type": "code",
   "execution_count": 19,
   "metadata": {},
   "outputs": [
    {
     "name": "stdout",
     "output_type": "stream",
     "text": [
      "43\n"
     ]
    }
   ],
   "source": [
    "#Non-Numerical Columns in data = 43\n",
    "print(len(data.select_dtypes(exclude=[np.number]).columns.tolist()))"
   ]
  },
  {
   "cell_type": "code",
   "execution_count": 20,
   "metadata": {},
   "outputs": [],
   "source": [
    "#data = 43+38 = 81"
   ]
  },
  {
   "cell_type": "code",
   "execution_count": 21,
   "metadata": {},
   "outputs": [],
   "source": [
    "nonNumColumns = data.select_dtypes(exclude=[np.number]).columns.tolist();"
   ]
  },
  {
   "cell_type": "code",
   "execution_count": 22,
   "metadata": {},
   "outputs": [],
   "source": [
    "#Converting  Dataframe  ---> Numerical + NonNumerical + Sparse\n",
    "def create_dummies(df,column_name):\n",
    "    dummies = pd.get_dummies(df[column_name],prefix=column_name)\n",
    "    df = pd.concat([df,dummies],axis=1)\n",
    "    return df\n",
    "\n",
    "for column in nonNumColumns:\n",
    "    data = create_dummies(data,column)"
   ]
  },
  {
   "cell_type": "code",
   "execution_count": 23,
   "metadata": {},
   "outputs": [
    {
     "name": "stdout",
     "output_type": "stream",
     "text": [
      "348\n"
     ]
    }
   ],
   "source": [
    "#Now, total columns in data:\n",
    "print(len(data.columns))"
   ]
  },
  {
   "cell_type": "code",
   "execution_count": 24,
   "metadata": {},
   "outputs": [],
   "source": [
    "train= data.tail(1450)\n",
    "test=data.head(10)"
   ]
  },
  {
   "cell_type": "code",
   "execution_count": 25,
   "metadata": {},
   "outputs": [],
   "source": [
    "#CO-RELATION BETWEEN NUMERICS IS FOUND\n",
    "#NULL FILLED\n",
    "#NON-NUMERIC IS CONVERTED\n",
    "#TRAIN-TEST IS DIVIDED\n",
    "#TIME TO APPLY MODEL"
   ]
  },
  {
   "cell_type": "code",
   "execution_count": 26,
   "metadata": {},
   "outputs": [
    {
     "name": "stderr",
     "output_type": "stream",
     "text": [
      "C:\\Users\\Lenovo\\Anaconda3\\lib\\site-packages\\sklearn\\cross_validation.py:41: DeprecationWarning: This module was deprecated in version 0.18 in favor of the model_selection module into which all the refactored classes and functions are moved. Also note that the interface of the new CV iterators are different from that of this module. This module will be removed in 0.20.\n",
      "  \"This module will be removed in 0.20.\", DeprecationWarning)\n"
     ]
    }
   ],
   "source": [
    "from sklearn import linear_model\n",
    "from sklearn.cross_validation import train_test_split\n",
    "from sklearn.model_selection import cross_val_score"
   ]
  },
  {
   "cell_type": "code",
   "execution_count": 27,
   "metadata": {},
   "outputs": [],
   "source": [
    "model = linear_model.LinearRegression()"
   ]
  },
  {
   "cell_type": "code",
   "execution_count": 28,
   "metadata": {},
   "outputs": [],
   "source": [
    "#I picked up quality + Co-realation variables.\n",
    "selectdColumns =  ['OverallQual','OverallCond','ExterQual_Ex', 'ExterQual_Fa', 'ExterQual_Gd', 'ExterQual_TA', 'ExterCond_Ex','ExterCond_Fa', 'ExterCond_Gd', 'ExterCond_Po', 'ExterCond_TA','BsmtQual_TA','BsmtQual_Ex', 'BsmtQual_Fa', 'BsmtQual_Gd', 'BsmtQual_None', 'BsmtQual_TA','BsmtCond_Fa', 'BsmtCond_Gd', 'BsmtCond_None', 'BsmtCond_Po', 'BsmtCond_TA','BsmtFinType1_ALQ', 'BsmtFinType1_BLQ', 'BsmtFinType1_GLQ', 'BsmtFinType1_LwQ', 'BsmtFinType1_None', 'BsmtFinType1_Rec', 'BsmtFinType1_Unf','BsmtFinType2_ALQ', 'BsmtFinType2_BLQ', 'BsmtFinType2_GLQ', 'BsmtFinType2_LwQ', 'BsmtFinType2_None', 'BsmtFinType2_Rec', 'BsmtFinType2_Unf', 'HeatingQC_Ex', 'HeatingQC_Fa', 'HeatingQC_Gd', 'HeatingQC_Po', 'HeatingQC_TA','LowQualFinSF',\n",
    "                 'KitchenQual_Ex', 'KitchenQual_Fa', 'KitchenQual_Gd', 'KitchenQual_TA','FireplaceQu_Ex', 'FireplaceQu_Fa', 'FireplaceQu_Gd', 'FireplaceQu_None', 'FireplaceQu_Po', 'FireplaceQu_TA','GarageQual_Ex', 'GarageQual_Fa', 'GarageQual_Gd', 'GarageQual_None', 'GarageQual_Po', 'GarageQual_TA','GarageCond_Ex', 'GarageCond_Fa', 'GarageCond_Gd', 'GarageCond_None', 'GarageCond_Po', 'GarageCond_TA', 'PoolQC_Ex', 'PoolQC_Fa', 'PoolQC_Gd', 'PoolQC_None', 'Fence_GdPrv', 'Fence_GdWo', 'Fence_MnPrv', 'Fence_MnWw', 'Fence_None','MiscFeature_Gar2', 'MiscFeature_None', 'MiscFeature_Othr', 'MiscFeature_Shed', 'MiscFeature_TenC','MoSold','YrSold','SaleType_COD', 'SaleType_CWD', 'SaleType_Con', 'SaleType_ConLD', 'SaleType_ConLI', 'SaleType_ConLw', 'SaleType_New', 'SaleType_Oth', 'SaleType_WD','SaleCondition_Abnorml', 'SaleCondition_AdjLand', 'SaleCondition_Alloca', 'SaleCondition_Family', 'SaleCondition_Normal', 'SaleCondition_Partial',\n",
    "                 'OverallQual','GrLivArea','GarageCars','GarageArea']"
   ]
  },
  {
   "cell_type": "code",
   "execution_count": 29,
   "metadata": {},
   "outputs": [
    {
     "data": {
      "text/plain": [
       "LinearRegression(copy_X=True, fit_intercept=True, n_jobs=1, normalize=False)"
      ]
     },
     "execution_count": 29,
     "metadata": {},
     "output_type": "execute_result"
    }
   ],
   "source": [
    "model.fit(train[selectdColumns], train[\"SalePrice\"])"
   ]
  },
  {
   "cell_type": "code",
   "execution_count": 30,
   "metadata": {},
   "outputs": [
    {
     "name": "stdout",
     "output_type": "stream",
     "text": [
      "[11.88829936 11.9787489  12.37951682 12.38428796 11.56682001 10.93358912\n",
      " 11.85578819 12.34680304 11.68182171 11.32976365 12.68973808 11.82090026\n",
      " 12.30581311 11.49317743 11.75637943 12.00351234 12.44669983 12.35020429\n",
      " 11.93069907 11.56820355 12.19725331 12.21264544 12.12216102 12.3703009\n",
      " 12.42070554 11.83536134 11.86526804 12.06926184 12.12085892 12.2210236\n",
      " 11.85795086 12.3287111  11.7914721  11.97403494 11.82947864 11.46092624\n",
      " 11.47143916 12.28417228 11.45864696 12.30232115 12.21830851 11.74711009\n",
      " 12.2494356  11.62843143 12.04197273 11.69080903 11.49741221 11.85006116\n",
      " 12.00913968 11.49087946 12.11519519 12.47894871 11.88983626 11.58206818\n",
      " 12.17351921 11.67154337 12.05688642 12.39287801 12.00656383 11.6754238\n",
      " 12.07068153 11.63819625 11.82838374 11.90955482 12.74814389 11.78991303\n",
      " 12.07867186 11.88886183 12.20633687 12.05227534 12.17985489 11.70287754\n",
      " 12.47290281 12.32417781 12.21511821 11.58178811 11.94909614 11.47846976\n",
      " 11.87026469 11.84228874 12.23518127 11.51409698 11.79611769 11.89026998\n",
      " 11.76727268 11.8160902  12.1808246  12.05795399 11.50022369 11.72193429\n",
      " 11.89085204 12.94457848 12.10239684 12.11827136 11.94398488 12.48586177\n",
      " 11.85616805 11.77899661 11.48799883 11.67346093 11.6196546  12.12962964\n",
      " 11.72079487 11.36884349 12.73127857 11.65770761 11.92494224 11.64513628\n",
      " 11.89662979 12.15801117 11.67074199 12.75447541 11.78156377 12.24624099\n",
      " 11.70580941 12.11669517 11.43310393 11.85773988 12.02955548 12.26263992\n",
      " 12.47773975 12.74154218 12.68020952 11.46540321 12.14506073 11.78159969\n",
      " 12.73534343 12.1433236  11.35613511 11.54714437 12.19962868 12.61738228\n",
      " 11.79964142 11.99950131 11.99157473 12.27938579 12.63314895 12.0984834\n",
      " 12.38699161 12.59756902 12.5379047  12.03191291 12.0108013  11.87088533\n",
      " 12.38023895 12.2343962  11.56679562 11.65039184 11.91589423 11.97927743\n",
      " 12.68072117 12.29812762 12.02207348 11.39437888 11.52545959 12.11620345\n",
      " 11.65556615 12.12343385 11.42319919 12.37017053 11.82349201 12.03339503\n",
      " 11.3138603  12.66315139 11.42192829 11.90481046 11.63091308 11.674659\n",
      " 11.85201909 11.57595175 12.49323329 12.1789814  11.58983616 11.99880434\n",
      " 12.36167524 12.0792422  11.82881444 12.34686451 12.26209405 12.117554\n",
      " 11.1969846  11.28222571 12.18817257 11.70961443 11.7130828  11.65910594\n",
      " 12.23525721 12.98093198 12.16889811 12.61401183 11.89268553 11.66737469\n",
      " 12.12180141 11.96133644 11.83909542 12.2717936  12.14659191 12.12686607\n",
      " 11.95365852 11.67129872 12.00716068 11.9931743  12.78073539 11.78886396\n",
      " 11.54412914 11.98108463 12.14568903 12.29526385 11.73815133 12.38086354\n",
      " 11.81850578 11.96337363 11.7543822  12.37818971 11.74923423 12.23561596\n",
      " 11.96968435 11.81771184 12.1307835  11.64837078 12.90246379 12.02469749\n",
      " 11.67055014 12.62450103 11.75023948 12.23097184 11.54353247 12.44934344\n",
      " 11.39387595 11.94111365 11.25751647 12.43951809 12.20632794 12.91312955\n",
      " 12.01302579 12.29793419 12.46941251 11.7825248  11.39905623 12.42636698\n",
      " 11.50414423 12.35059741 12.13545842 12.24342822 12.18545841 12.23271002\n",
      " 11.57201218 12.66910983 11.40791977 11.96595504 11.77351843 11.57606084\n",
      " 11.67028137 12.17233942 11.68687965 12.01401021 12.27427059 11.58091011\n",
      " 12.00792148 12.35740954 12.12888407 11.49013155 12.53683382 11.72262971\n",
      " 11.74312916 11.50657251 12.07585128 12.3321717  12.8986047  12.25748675\n",
      " 11.77782085 11.77151838 12.1673232  11.88592859 12.73388281 11.64296769\n",
      " 11.99976455 11.67540381 11.6604874  12.15152191 12.2445314  12.10331776\n",
      " 12.02598875 12.00709143 12.45663594 12.20233873 12.19120356 12.72374119\n",
      " 12.18386376 11.72027929]\n"
     ]
    }
   ],
   "source": [
    "all_X = train[selectdColumns]\n",
    "all_y = train['SalePrice']\n",
    "\n",
    "train_X, test_X, train_y, test_y = train_test_split(\n",
    "    all_X, all_y, test_size=0.20,random_state=0)\n",
    "\n",
    "model.fit(train_X, train_y)\n",
    "predictions = model.predict(test_X)\n",
    "print(predictions)"
   ]
  },
  {
   "cell_type": "code",
   "execution_count": 31,
   "metadata": {},
   "outputs": [
    {
     "name": "stdout",
     "output_type": "stream",
     "text": [
      "[0.56190995 0.76491739 0.81288168 0.83172308 0.83290705 0.83488089\n",
      " 0.85819274 0.86582375 0.87760383 0.87849556]\n",
      "----\n",
      "0.8119335919507596\n"
     ]
    }
   ],
   "source": [
    "scores = cross_val_score(model, all_X, all_y, cv=10)\n",
    "scores.sort()\n",
    "accuracy = scores.mean()\n",
    "\n",
    "print(scores)\n",
    "print('----')\n",
    "print(accuracy)"
   ]
  },
  {
   "cell_type": "code",
   "execution_count": 32,
   "metadata": {},
   "outputs": [],
   "source": [
    "############  NOW TIME TO USE UNSEEN DATA #################"
   ]
  },
  {
   "cell_type": "code",
   "execution_count": 33,
   "metadata": {},
   "outputs": [
    {
     "data": {
      "text/html": [
       "<div>\n",
       "<style scoped>\n",
       "    .dataframe tbody tr th:only-of-type {\n",
       "        vertical-align: middle;\n",
       "    }\n",
       "\n",
       "    .dataframe tbody tr th {\n",
       "        vertical-align: top;\n",
       "    }\n",
       "\n",
       "    .dataframe thead th {\n",
       "        text-align: right;\n",
       "    }\n",
       "</style>\n",
       "<table border=\"1\" class=\"dataframe\">\n",
       "  <thead>\n",
       "    <tr style=\"text-align: right;\">\n",
       "      <th></th>\n",
       "      <th>OverallQual</th>\n",
       "      <th>OverallCond</th>\n",
       "      <th>ExterQual_Ex</th>\n",
       "      <th>ExterQual_Fa</th>\n",
       "      <th>ExterQual_Gd</th>\n",
       "      <th>ExterQual_TA</th>\n",
       "      <th>ExterCond_Ex</th>\n",
       "      <th>ExterCond_Fa</th>\n",
       "      <th>ExterCond_Gd</th>\n",
       "      <th>ExterCond_Po</th>\n",
       "      <th>...</th>\n",
       "      <th>SaleCondition_Abnorml</th>\n",
       "      <th>SaleCondition_AdjLand</th>\n",
       "      <th>SaleCondition_Alloca</th>\n",
       "      <th>SaleCondition_Family</th>\n",
       "      <th>SaleCondition_Normal</th>\n",
       "      <th>SaleCondition_Partial</th>\n",
       "      <th>OverallQual</th>\n",
       "      <th>GrLivArea</th>\n",
       "      <th>GarageCars</th>\n",
       "      <th>GarageArea</th>\n",
       "    </tr>\n",
       "  </thead>\n",
       "  <tbody>\n",
       "    <tr>\n",
       "      <th>0</th>\n",
       "      <td>7</td>\n",
       "      <td>5</td>\n",
       "      <td>0</td>\n",
       "      <td>0</td>\n",
       "      <td>1</td>\n",
       "      <td>0</td>\n",
       "      <td>0</td>\n",
       "      <td>0</td>\n",
       "      <td>0</td>\n",
       "      <td>0</td>\n",
       "      <td>...</td>\n",
       "      <td>0</td>\n",
       "      <td>0</td>\n",
       "      <td>0</td>\n",
       "      <td>0</td>\n",
       "      <td>1</td>\n",
       "      <td>0</td>\n",
       "      <td>7</td>\n",
       "      <td>1710</td>\n",
       "      <td>2</td>\n",
       "      <td>548</td>\n",
       "    </tr>\n",
       "    <tr>\n",
       "      <th>1</th>\n",
       "      <td>6</td>\n",
       "      <td>8</td>\n",
       "      <td>0</td>\n",
       "      <td>0</td>\n",
       "      <td>0</td>\n",
       "      <td>1</td>\n",
       "      <td>0</td>\n",
       "      <td>0</td>\n",
       "      <td>0</td>\n",
       "      <td>0</td>\n",
       "      <td>...</td>\n",
       "      <td>0</td>\n",
       "      <td>0</td>\n",
       "      <td>0</td>\n",
       "      <td>0</td>\n",
       "      <td>1</td>\n",
       "      <td>0</td>\n",
       "      <td>6</td>\n",
       "      <td>1262</td>\n",
       "      <td>2</td>\n",
       "      <td>460</td>\n",
       "    </tr>\n",
       "    <tr>\n",
       "      <th>2</th>\n",
       "      <td>7</td>\n",
       "      <td>5</td>\n",
       "      <td>0</td>\n",
       "      <td>0</td>\n",
       "      <td>1</td>\n",
       "      <td>0</td>\n",
       "      <td>0</td>\n",
       "      <td>0</td>\n",
       "      <td>0</td>\n",
       "      <td>0</td>\n",
       "      <td>...</td>\n",
       "      <td>0</td>\n",
       "      <td>0</td>\n",
       "      <td>0</td>\n",
       "      <td>0</td>\n",
       "      <td>1</td>\n",
       "      <td>0</td>\n",
       "      <td>7</td>\n",
       "      <td>1786</td>\n",
       "      <td>2</td>\n",
       "      <td>608</td>\n",
       "    </tr>\n",
       "    <tr>\n",
       "      <th>3</th>\n",
       "      <td>7</td>\n",
       "      <td>5</td>\n",
       "      <td>0</td>\n",
       "      <td>0</td>\n",
       "      <td>0</td>\n",
       "      <td>1</td>\n",
       "      <td>0</td>\n",
       "      <td>0</td>\n",
       "      <td>0</td>\n",
       "      <td>0</td>\n",
       "      <td>...</td>\n",
       "      <td>1</td>\n",
       "      <td>0</td>\n",
       "      <td>0</td>\n",
       "      <td>0</td>\n",
       "      <td>0</td>\n",
       "      <td>0</td>\n",
       "      <td>7</td>\n",
       "      <td>1717</td>\n",
       "      <td>3</td>\n",
       "      <td>642</td>\n",
       "    </tr>\n",
       "    <tr>\n",
       "      <th>4</th>\n",
       "      <td>8</td>\n",
       "      <td>5</td>\n",
       "      <td>0</td>\n",
       "      <td>0</td>\n",
       "      <td>1</td>\n",
       "      <td>0</td>\n",
       "      <td>0</td>\n",
       "      <td>0</td>\n",
       "      <td>0</td>\n",
       "      <td>0</td>\n",
       "      <td>...</td>\n",
       "      <td>0</td>\n",
       "      <td>0</td>\n",
       "      <td>0</td>\n",
       "      <td>0</td>\n",
       "      <td>1</td>\n",
       "      <td>0</td>\n",
       "      <td>8</td>\n",
       "      <td>2198</td>\n",
       "      <td>3</td>\n",
       "      <td>836</td>\n",
       "    </tr>\n",
       "    <tr>\n",
       "      <th>5</th>\n",
       "      <td>5</td>\n",
       "      <td>5</td>\n",
       "      <td>0</td>\n",
       "      <td>0</td>\n",
       "      <td>0</td>\n",
       "      <td>1</td>\n",
       "      <td>0</td>\n",
       "      <td>0</td>\n",
       "      <td>0</td>\n",
       "      <td>0</td>\n",
       "      <td>...</td>\n",
       "      <td>0</td>\n",
       "      <td>0</td>\n",
       "      <td>0</td>\n",
       "      <td>0</td>\n",
       "      <td>1</td>\n",
       "      <td>0</td>\n",
       "      <td>5</td>\n",
       "      <td>1362</td>\n",
       "      <td>2</td>\n",
       "      <td>480</td>\n",
       "    </tr>\n",
       "    <tr>\n",
       "      <th>6</th>\n",
       "      <td>8</td>\n",
       "      <td>5</td>\n",
       "      <td>0</td>\n",
       "      <td>0</td>\n",
       "      <td>1</td>\n",
       "      <td>0</td>\n",
       "      <td>0</td>\n",
       "      <td>0</td>\n",
       "      <td>0</td>\n",
       "      <td>0</td>\n",
       "      <td>...</td>\n",
       "      <td>0</td>\n",
       "      <td>0</td>\n",
       "      <td>0</td>\n",
       "      <td>0</td>\n",
       "      <td>1</td>\n",
       "      <td>0</td>\n",
       "      <td>8</td>\n",
       "      <td>1694</td>\n",
       "      <td>2</td>\n",
       "      <td>636</td>\n",
       "    </tr>\n",
       "    <tr>\n",
       "      <th>7</th>\n",
       "      <td>7</td>\n",
       "      <td>6</td>\n",
       "      <td>0</td>\n",
       "      <td>0</td>\n",
       "      <td>0</td>\n",
       "      <td>1</td>\n",
       "      <td>0</td>\n",
       "      <td>0</td>\n",
       "      <td>0</td>\n",
       "      <td>0</td>\n",
       "      <td>...</td>\n",
       "      <td>0</td>\n",
       "      <td>0</td>\n",
       "      <td>0</td>\n",
       "      <td>0</td>\n",
       "      <td>1</td>\n",
       "      <td>0</td>\n",
       "      <td>7</td>\n",
       "      <td>2090</td>\n",
       "      <td>2</td>\n",
       "      <td>484</td>\n",
       "    </tr>\n",
       "    <tr>\n",
       "      <th>8</th>\n",
       "      <td>7</td>\n",
       "      <td>5</td>\n",
       "      <td>0</td>\n",
       "      <td>0</td>\n",
       "      <td>0</td>\n",
       "      <td>1</td>\n",
       "      <td>0</td>\n",
       "      <td>0</td>\n",
       "      <td>0</td>\n",
       "      <td>0</td>\n",
       "      <td>...</td>\n",
       "      <td>1</td>\n",
       "      <td>0</td>\n",
       "      <td>0</td>\n",
       "      <td>0</td>\n",
       "      <td>0</td>\n",
       "      <td>0</td>\n",
       "      <td>7</td>\n",
       "      <td>1774</td>\n",
       "      <td>2</td>\n",
       "      <td>468</td>\n",
       "    </tr>\n",
       "    <tr>\n",
       "      <th>9</th>\n",
       "      <td>5</td>\n",
       "      <td>6</td>\n",
       "      <td>0</td>\n",
       "      <td>0</td>\n",
       "      <td>0</td>\n",
       "      <td>1</td>\n",
       "      <td>0</td>\n",
       "      <td>0</td>\n",
       "      <td>0</td>\n",
       "      <td>0</td>\n",
       "      <td>...</td>\n",
       "      <td>0</td>\n",
       "      <td>0</td>\n",
       "      <td>0</td>\n",
       "      <td>0</td>\n",
       "      <td>1</td>\n",
       "      <td>0</td>\n",
       "      <td>5</td>\n",
       "      <td>1077</td>\n",
       "      <td>1</td>\n",
       "      <td>205</td>\n",
       "    </tr>\n",
       "  </tbody>\n",
       "</table>\n",
       "<p>10 rows × 99 columns</p>\n",
       "</div>"
      ],
      "text/plain": [
       "   OverallQual  OverallCond  ExterQual_Ex  ExterQual_Fa  ExterQual_Gd  \\\n",
       "0            7            5             0             0             1   \n",
       "1            6            8             0             0             0   \n",
       "2            7            5             0             0             1   \n",
       "3            7            5             0             0             0   \n",
       "4            8            5             0             0             1   \n",
       "5            5            5             0             0             0   \n",
       "6            8            5             0             0             1   \n",
       "7            7            6             0             0             0   \n",
       "8            7            5             0             0             0   \n",
       "9            5            6             0             0             0   \n",
       "\n",
       "   ExterQual_TA  ExterCond_Ex  ExterCond_Fa  ExterCond_Gd  ExterCond_Po  \\\n",
       "0             0             0             0             0             0   \n",
       "1             1             0             0             0             0   \n",
       "2             0             0             0             0             0   \n",
       "3             1             0             0             0             0   \n",
       "4             0             0             0             0             0   \n",
       "5             1             0             0             0             0   \n",
       "6             0             0             0             0             0   \n",
       "7             1             0             0             0             0   \n",
       "8             1             0             0             0             0   \n",
       "9             1             0             0             0             0   \n",
       "\n",
       "      ...      SaleCondition_Abnorml  SaleCondition_AdjLand  \\\n",
       "0     ...                          0                      0   \n",
       "1     ...                          0                      0   \n",
       "2     ...                          0                      0   \n",
       "3     ...                          1                      0   \n",
       "4     ...                          0                      0   \n",
       "5     ...                          0                      0   \n",
       "6     ...                          0                      0   \n",
       "7     ...                          0                      0   \n",
       "8     ...                          1                      0   \n",
       "9     ...                          0                      0   \n",
       "\n",
       "   SaleCondition_Alloca  SaleCondition_Family  SaleCondition_Normal  \\\n",
       "0                     0                     0                     1   \n",
       "1                     0                     0                     1   \n",
       "2                     0                     0                     1   \n",
       "3                     0                     0                     0   \n",
       "4                     0                     0                     1   \n",
       "5                     0                     0                     1   \n",
       "6                     0                     0                     1   \n",
       "7                     0                     0                     1   \n",
       "8                     0                     0                     0   \n",
       "9                     0                     0                     1   \n",
       "\n",
       "   SaleCondition_Partial  OverallQual  GrLivArea  GarageCars  GarageArea  \n",
       "0                      0            7       1710           2         548  \n",
       "1                      0            6       1262           2         460  \n",
       "2                      0            7       1786           2         608  \n",
       "3                      0            7       1717           3         642  \n",
       "4                      0            8       2198           3         836  \n",
       "5                      0            5       1362           2         480  \n",
       "6                      0            8       1694           2         636  \n",
       "7                      0            7       2090           2         484  \n",
       "8                      0            7       1774           2         468  \n",
       "9                      0            5       1077           1         205  \n",
       "\n",
       "[10 rows x 99 columns]"
      ]
     },
     "execution_count": 33,
     "metadata": {},
     "output_type": "execute_result"
    }
   ],
   "source": [
    "test[selectdColumns]"
   ]
  },
  {
   "cell_type": "code",
   "execution_count": 34,
   "metadata": {},
   "outputs": [
    {
     "data": {
      "text/html": [
       "<div>\n",
       "<style scoped>\n",
       "    .dataframe tbody tr th:only-of-type {\n",
       "        vertical-align: middle;\n",
       "    }\n",
       "\n",
       "    .dataframe tbody tr th {\n",
       "        vertical-align: top;\n",
       "    }\n",
       "\n",
       "    .dataframe thead th {\n",
       "        text-align: right;\n",
       "    }\n",
       "</style>\n",
       "<table border=\"1\" class=\"dataframe\">\n",
       "  <thead>\n",
       "    <tr style=\"text-align: right;\">\n",
       "      <th></th>\n",
       "      <th>OverallQual</th>\n",
       "      <th>OverallCond</th>\n",
       "      <th>ExterQual_Ex</th>\n",
       "      <th>ExterQual_Fa</th>\n",
       "      <th>ExterQual_Gd</th>\n",
       "      <th>ExterQual_TA</th>\n",
       "      <th>ExterCond_Ex</th>\n",
       "      <th>ExterCond_Fa</th>\n",
       "      <th>ExterCond_Gd</th>\n",
       "      <th>ExterCond_Po</th>\n",
       "      <th>...</th>\n",
       "      <th>SaleCondition_Abnorml</th>\n",
       "      <th>SaleCondition_AdjLand</th>\n",
       "      <th>SaleCondition_Alloca</th>\n",
       "      <th>SaleCondition_Family</th>\n",
       "      <th>SaleCondition_Normal</th>\n",
       "      <th>SaleCondition_Partial</th>\n",
       "      <th>OverallQual</th>\n",
       "      <th>GrLivArea</th>\n",
       "      <th>GarageCars</th>\n",
       "      <th>GarageArea</th>\n",
       "    </tr>\n",
       "  </thead>\n",
       "  <tbody>\n",
       "    <tr>\n",
       "      <th>0</th>\n",
       "      <td>7</td>\n",
       "      <td>5</td>\n",
       "      <td>0</td>\n",
       "      <td>0</td>\n",
       "      <td>1</td>\n",
       "      <td>0</td>\n",
       "      <td>0</td>\n",
       "      <td>0</td>\n",
       "      <td>0</td>\n",
       "      <td>0</td>\n",
       "      <td>...</td>\n",
       "      <td>0</td>\n",
       "      <td>0</td>\n",
       "      <td>0</td>\n",
       "      <td>0</td>\n",
       "      <td>1</td>\n",
       "      <td>0</td>\n",
       "      <td>7</td>\n",
       "      <td>1710</td>\n",
       "      <td>2</td>\n",
       "      <td>548</td>\n",
       "    </tr>\n",
       "  </tbody>\n",
       "</table>\n",
       "<p>1 rows × 99 columns</p>\n",
       "</div>"
      ],
      "text/plain": [
       "   OverallQual  OverallCond  ExterQual_Ex  ExterQual_Fa  ExterQual_Gd  \\\n",
       "0            7            5             0             0             1   \n",
       "\n",
       "   ExterQual_TA  ExterCond_Ex  ExterCond_Fa  ExterCond_Gd  ExterCond_Po  \\\n",
       "0             0             0             0             0             0   \n",
       "\n",
       "      ...      SaleCondition_Abnorml  SaleCondition_AdjLand  \\\n",
       "0     ...                          0                      0   \n",
       "\n",
       "   SaleCondition_Alloca  SaleCondition_Family  SaleCondition_Normal  \\\n",
       "0                     0                     0                     1   \n",
       "\n",
       "   SaleCondition_Partial  OverallQual  GrLivArea  GarageCars  GarageArea  \n",
       "0                      0            7       1710           2         548  \n",
       "\n",
       "[1 rows x 99 columns]"
      ]
     },
     "execution_count": 34,
     "metadata": {},
     "output_type": "execute_result"
    }
   ],
   "source": [
    "test[selectdColumns].iloc[0:1,:]"
   ]
  },
  {
   "cell_type": "code",
   "execution_count": null,
   "metadata": {},
   "outputs": [],
   "source": []
  },
  {
   "cell_type": "code",
   "execution_count": 35,
   "metadata": {
    "scrolled": true
   },
   "outputs": [],
   "source": [
    "prediction = model.predict(test[selectdColumns].iloc[0:1,:])"
   ]
  },
  {
   "cell_type": "code",
   "execution_count": 36,
   "metadata": {},
   "outputs": [
    {
     "name": "stdout",
     "output_type": "stream",
     "text": [
      "[12.24053823]\n"
     ]
    }
   ],
   "source": [
    "print(prediction)"
   ]
  },
  {
   "cell_type": "code",
   "execution_count": 37,
   "metadata": {},
   "outputs": [
    {
     "name": "stdout",
     "output_type": "stream",
     "text": [
      "[207012.28169318]\n"
     ]
    }
   ],
   "source": [
    "print(np.expm1(prediction))\n"
   ]
  },
  {
   "cell_type": "code",
   "execution_count": 38,
   "metadata": {},
   "outputs": [],
   "source": [
    "#The 'actual cost' versus the 'predicted value's':"
   ]
  },
  {
   "cell_type": "code",
   "execution_count": 39,
   "metadata": {},
   "outputs": [],
   "source": [
    "#ACTUAL = 208500\n",
    "#PREDICTED = 207012.28169318\n",
    "\n"
   ]
  },
  {
   "cell_type": "code",
   "execution_count": null,
   "metadata": {},
   "outputs": [],
   "source": []
  },
  {
   "cell_type": "code",
   "execution_count": 40,
   "metadata": {},
   "outputs": [],
   "source": [
    "#THE END"
   ]
  },
  {
   "cell_type": "code",
   "execution_count": null,
   "metadata": {},
   "outputs": [],
   "source": []
  }
 ],
 "metadata": {
  "kernelspec": {
   "display_name": "Python 3",
   "language": "python",
   "name": "python3"
  },
  "language_info": {
   "codemirror_mode": {
    "name": "ipython",
    "version": 3
   },
   "file_extension": ".py",
   "mimetype": "text/x-python",
   "name": "python",
   "nbconvert_exporter": "python",
   "pygments_lexer": "ipython3",
   "version": "3.6.4"
  }
 },
 "nbformat": 4,
 "nbformat_minor": 2
}
