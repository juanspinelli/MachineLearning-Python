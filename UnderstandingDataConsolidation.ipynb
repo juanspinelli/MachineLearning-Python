{
 "cells": [
  {
   "cell_type": "code",
   "execution_count": 41,
   "metadata": {},
   "outputs": [],
   "source": [
    "import pandas as pd"
   ]
  },
  {
   "cell_type": "code",
   "execution_count": 42,
   "metadata": {},
   "outputs": [],
   "source": [
    "boys = pd.read_csv(\"C:/Users/rvaish/Documents/Python Scripts/MachineLearningPython-DataWrangling/MachineLearningPython-DataWrangling/Data/schools_with_btoilet.csv\")"
   ]
  },
  {
   "cell_type": "code",
   "execution_count": 43,
   "metadata": {},
   "outputs": [],
   "source": [
    "girls = pd.read_csv(\"C:/Users/rvaish/Documents/Python Scripts/MachineLearningPython-DataWrangling/MachineLearningPython-DataWrangling/Data/schools_with_gtoilet.csv\")"
   ]
  },
  {
   "cell_type": "code",
   "execution_count": 44,
   "metadata": {},
   "outputs": [
    {
     "name": "stdout",
     "output_type": "stream",
     "text": [
      "(110, 13)\n",
      "(110, 13)\n"
     ]
    }
   ],
   "source": [
    "print(boys.shape)\n",
    "print(girls.shape)"
   ]
  },
  {
   "cell_type": "markdown",
   "metadata": {},
   "source": [
    "# [1] CONCAT"
   ]
  },
  {
   "cell_type": "markdown",
   "metadata": {},
   "source": [
    "### AXIS"
   ]
  },
  {
   "cell_type": "code",
   "execution_count": 45,
   "metadata": {},
   "outputs": [
    {
     "name": "stdout",
     "output_type": "stream",
     "text": [
      "(220, 13)\n"
     ]
    }
   ],
   "source": [
    "result = pd.concat([boys,girls], axis=0)\n",
    "print(result.shape)"
   ]
  },
  {
   "cell_type": "code",
   "execution_count": 46,
   "metadata": {},
   "outputs": [
    {
     "data": {
      "text/html": [
       "<div>\n",
       "<style scoped>\n",
       "    .dataframe tbody tr th:only-of-type {\n",
       "        vertical-align: middle;\n",
       "    }\n",
       "\n",
       "    .dataframe tbody tr th {\n",
       "        vertical-align: top;\n",
       "    }\n",
       "\n",
       "    .dataframe thead th {\n",
       "        text-align: right;\n",
       "    }\n",
       "</style>\n",
       "<table border=\"1\" class=\"dataframe\">\n",
       "  <thead>\n",
       "    <tr style=\"text-align: right;\">\n",
       "      <th></th>\n",
       "      <th>State_UT</th>\n",
       "      <th>year</th>\n",
       "      <th>Primary_Only</th>\n",
       "      <th>Primary_with_U_Primary</th>\n",
       "      <th>Primary_with_U_Primary_Sec_HrSec</th>\n",
       "      <th>U_Primary_Only</th>\n",
       "      <th>U_Primary_With_Sec_HrSec</th>\n",
       "      <th>Primary_with_U_Primary_Sec</th>\n",
       "      <th>U_Primary_With_Sec</th>\n",
       "      <th>Sec_Only</th>\n",
       "      <th>Sec_with_HrSec.</th>\n",
       "      <th>HrSec_Only</th>\n",
       "      <th>All Schools</th>\n",
       "    </tr>\n",
       "  </thead>\n",
       "  <tbody>\n",
       "    <tr>\n",
       "      <th>0</th>\n",
       "      <td>Andaman &amp; Nicobar Islands</td>\n",
       "      <td>2013-14</td>\n",
       "      <td>91.58</td>\n",
       "      <td>97.37</td>\n",
       "      <td>100.0</td>\n",
       "      <td>0.0</td>\n",
       "      <td>100.0</td>\n",
       "      <td>100.0</td>\n",
       "      <td>0.0</td>\n",
       "      <td>0.0</td>\n",
       "      <td>100.0</td>\n",
       "      <td>0.0</td>\n",
       "      <td>94.52</td>\n",
       "    </tr>\n",
       "    <tr>\n",
       "      <th>1</th>\n",
       "      <td>Andaman &amp; Nicobar Islands</td>\n",
       "      <td>2014-15</td>\n",
       "      <td>100.00</td>\n",
       "      <td>100.00</td>\n",
       "      <td>100.0</td>\n",
       "      <td>100.0</td>\n",
       "      <td>100.0</td>\n",
       "      <td>100.0</td>\n",
       "      <td>0.0</td>\n",
       "      <td>0.0</td>\n",
       "      <td>100.0</td>\n",
       "      <td>0.0</td>\n",
       "      <td>100.00</td>\n",
       "    </tr>\n",
       "    <tr>\n",
       "      <th>2</th>\n",
       "      <td>Andaman &amp; Nicobar Islands</td>\n",
       "      <td>2015-16</td>\n",
       "      <td>100.00</td>\n",
       "      <td>100.00</td>\n",
       "      <td>100.0</td>\n",
       "      <td>0.0</td>\n",
       "      <td>100.0</td>\n",
       "      <td>100.0</td>\n",
       "      <td>0.0</td>\n",
       "      <td>0.0</td>\n",
       "      <td>100.0</td>\n",
       "      <td>0.0</td>\n",
       "      <td>100.00</td>\n",
       "    </tr>\n",
       "  </tbody>\n",
       "</table>\n",
       "</div>"
      ],
      "text/plain": [
       "                    State_UT     year  Primary_Only  Primary_with_U_Primary  \\\n",
       "0  Andaman & Nicobar Islands  2013-14         91.58                   97.37   \n",
       "1  Andaman & Nicobar Islands  2014-15        100.00                  100.00   \n",
       "2  Andaman & Nicobar Islands  2015-16        100.00                  100.00   \n",
       "\n",
       "   Primary_with_U_Primary_Sec_HrSec  U_Primary_Only  U_Primary_With_Sec_HrSec  \\\n",
       "0                             100.0             0.0                     100.0   \n",
       "1                             100.0           100.0                     100.0   \n",
       "2                             100.0             0.0                     100.0   \n",
       "\n",
       "   Primary_with_U_Primary_Sec  U_Primary_With_Sec  Sec_Only  Sec_with_HrSec.  \\\n",
       "0                       100.0                 0.0       0.0            100.0   \n",
       "1                       100.0                 0.0       0.0            100.0   \n",
       "2                       100.0                 0.0       0.0            100.0   \n",
       "\n",
       "   HrSec_Only  All Schools  \n",
       "0         0.0        94.52  \n",
       "1         0.0       100.00  \n",
       "2         0.0       100.00  "
      ]
     },
     "execution_count": 46,
     "metadata": {},
     "output_type": "execute_result"
    }
   ],
   "source": [
    "result.head(3)"
   ]
  },
  {
   "cell_type": "code",
   "execution_count": 47,
   "metadata": {},
   "outputs": [
    {
     "name": "stdout",
     "output_type": "stream",
     "text": [
      "(110, 26)\n"
     ]
    }
   ],
   "source": [
    "result = pd.concat([boys,girls], axis=1)\n",
    "print(result.shape)"
   ]
  },
  {
   "cell_type": "code",
   "execution_count": 48,
   "metadata": {},
   "outputs": [
    {
     "data": {
      "text/html": [
       "<div>\n",
       "<style scoped>\n",
       "    .dataframe tbody tr th:only-of-type {\n",
       "        vertical-align: middle;\n",
       "    }\n",
       "\n",
       "    .dataframe tbody tr th {\n",
       "        vertical-align: top;\n",
       "    }\n",
       "\n",
       "    .dataframe thead th {\n",
       "        text-align: right;\n",
       "    }\n",
       "</style>\n",
       "<table border=\"1\" class=\"dataframe\">\n",
       "  <thead>\n",
       "    <tr style=\"text-align: right;\">\n",
       "      <th></th>\n",
       "      <th>State_UT</th>\n",
       "      <th>year</th>\n",
       "      <th>Primary_Only</th>\n",
       "      <th>Primary_with_U_Primary</th>\n",
       "      <th>Primary_with_U_Primary_Sec_HrSec</th>\n",
       "      <th>U_Primary_Only</th>\n",
       "      <th>U_Primary_With_Sec_HrSec</th>\n",
       "      <th>Primary_with_U_Primary_Sec</th>\n",
       "      <th>U_Primary_With_Sec</th>\n",
       "      <th>Sec_Only</th>\n",
       "      <th>...</th>\n",
       "      <th>Primary_with_U_Primary</th>\n",
       "      <th>Primary_with_U_Primary_Sec_HrSec</th>\n",
       "      <th>U_Primary_Only</th>\n",
       "      <th>U_Primary_With_Sec_HrSec</th>\n",
       "      <th>Primary_with_U_Primary_Sec</th>\n",
       "      <th>U_Primary_With_Sec</th>\n",
       "      <th>Sec_Only</th>\n",
       "      <th>Sec_with_HrSec.</th>\n",
       "      <th>HrSec_Only</th>\n",
       "      <th>All Schools</th>\n",
       "    </tr>\n",
       "  </thead>\n",
       "  <tbody>\n",
       "    <tr>\n",
       "      <th>0</th>\n",
       "      <td>Andaman &amp; Nicobar Islands</td>\n",
       "      <td>2013-14</td>\n",
       "      <td>91.58</td>\n",
       "      <td>97.37</td>\n",
       "      <td>100.0</td>\n",
       "      <td>0.0</td>\n",
       "      <td>100.0</td>\n",
       "      <td>100.0</td>\n",
       "      <td>0.0</td>\n",
       "      <td>0.0</td>\n",
       "      <td>...</td>\n",
       "      <td>95.98</td>\n",
       "      <td>98.81</td>\n",
       "      <td>91.39</td>\n",
       "      <td>98.25</td>\n",
       "      <td>97.33</td>\n",
       "      <td>94.40</td>\n",
       "      <td>99.06</td>\n",
       "      <td>98.36</td>\n",
       "      <td>76.14</td>\n",
       "      <td>91.23</td>\n",
       "    </tr>\n",
       "    <tr>\n",
       "      <th>1</th>\n",
       "      <td>Andaman &amp; Nicobar Islands</td>\n",
       "      <td>2014-15</td>\n",
       "      <td>100.00</td>\n",
       "      <td>100.00</td>\n",
       "      <td>100.0</td>\n",
       "      <td>100.0</td>\n",
       "      <td>100.0</td>\n",
       "      <td>100.0</td>\n",
       "      <td>0.0</td>\n",
       "      <td>0.0</td>\n",
       "      <td>...</td>\n",
       "      <td>96.92</td>\n",
       "      <td>99.48</td>\n",
       "      <td>91.39</td>\n",
       "      <td>99.23</td>\n",
       "      <td>98.19</td>\n",
       "      <td>96.61</td>\n",
       "      <td>90.26</td>\n",
       "      <td>94.05</td>\n",
       "      <td>90.94</td>\n",
       "      <td>93.08</td>\n",
       "    </tr>\n",
       "    <tr>\n",
       "      <th>2</th>\n",
       "      <td>Andaman &amp; Nicobar Islands</td>\n",
       "      <td>2015-16</td>\n",
       "      <td>100.00</td>\n",
       "      <td>100.00</td>\n",
       "      <td>100.0</td>\n",
       "      <td>0.0</td>\n",
       "      <td>100.0</td>\n",
       "      <td>100.0</td>\n",
       "      <td>0.0</td>\n",
       "      <td>0.0</td>\n",
       "      <td>...</td>\n",
       "      <td>99.03</td>\n",
       "      <td>99.72</td>\n",
       "      <td>96.32</td>\n",
       "      <td>99.60</td>\n",
       "      <td>99.31</td>\n",
       "      <td>98.82</td>\n",
       "      <td>95.18</td>\n",
       "      <td>98.31</td>\n",
       "      <td>96.22</td>\n",
       "      <td>97.52</td>\n",
       "    </tr>\n",
       "  </tbody>\n",
       "</table>\n",
       "<p>3 rows × 26 columns</p>\n",
       "</div>"
      ],
      "text/plain": [
       "                    State_UT     year  Primary_Only  Primary_with_U_Primary  \\\n",
       "0  Andaman & Nicobar Islands  2013-14         91.58                   97.37   \n",
       "1  Andaman & Nicobar Islands  2014-15        100.00                  100.00   \n",
       "2  Andaman & Nicobar Islands  2015-16        100.00                  100.00   \n",
       "\n",
       "   Primary_with_U_Primary_Sec_HrSec  U_Primary_Only U_Primary_With_Sec_HrSec  \\\n",
       "0                             100.0             0.0                    100.0   \n",
       "1                             100.0           100.0                    100.0   \n",
       "2                             100.0             0.0                    100.0   \n",
       "\n",
       "  Primary_with_U_Primary_Sec  U_Primary_With_Sec  Sec_Only     ...       \\\n",
       "0                      100.0                 0.0       0.0     ...        \n",
       "1                      100.0                 0.0       0.0     ...        \n",
       "2                      100.0                 0.0       0.0     ...        \n",
       "\n",
       "   Primary_with_U_Primary  Primary_with_U_Primary_Sec_HrSec  U_Primary_Only  \\\n",
       "0                   95.98                             98.81           91.39   \n",
       "1                   96.92                             99.48           91.39   \n",
       "2                   99.03                             99.72           96.32   \n",
       "\n",
       "  U_Primary_With_Sec_HrSec Primary_with_U_Primary_Sec  U_Primary_With_Sec  \\\n",
       "0                    98.25                      97.33               94.40   \n",
       "1                    99.23                      98.19               96.61   \n",
       "2                    99.60                      99.31               98.82   \n",
       "\n",
       "   Sec_Only  Sec_with_HrSec.  HrSec_Only  All Schools  \n",
       "0     99.06            98.36       76.14        91.23  \n",
       "1     90.26            94.05       90.94        93.08  \n",
       "2     95.18            98.31       96.22        97.52  \n",
       "\n",
       "[3 rows x 26 columns]"
      ]
     },
     "execution_count": 48,
     "metadata": {},
     "output_type": "execute_result"
    }
   ],
   "source": [
    "result.head(3)"
   ]
  },
  {
   "cell_type": "markdown",
   "metadata": {},
   "source": [
    "### IGNORE INDEX"
   ]
  },
  {
   "cell_type": "code",
   "execution_count": 49,
   "metadata": {},
   "outputs": [
    {
     "name": "stdout",
     "output_type": "stream",
     "text": [
      "(220, 13)\n",
      "                      State_UT     year\n",
      "108                  All India  2014-15\n",
      "109                  All India  2015-16\n",
      "0                    All India  2013-14\n",
      "1                    All India  2014-15\n",
      "2                    All India  2015-16\n",
      "3    Andaman & Nicobar Islands  2013-14\n"
     ]
    }
   ],
   "source": [
    "result = pd.concat([boys,girls], axis=0, ignore_index=False)\n",
    "print(result.shape)\n",
    "result=result.iloc[108:114,0:2]\n",
    "print(result)"
   ]
  },
  {
   "cell_type": "code",
   "execution_count": 61,
   "metadata": {},
   "outputs": [
    {
     "name": "stdout",
     "output_type": "stream",
     "text": [
      "(220, 13)\n",
      "                      State_UT     year\n",
      "108                  All India  2014-15\n",
      "109                  All India  2015-16\n",
      "110                  All India  2013-14\n",
      "111                  All India  2014-15\n",
      "112                  All India  2015-16\n",
      "113  Andaman & Nicobar Islands  2013-14\n"
     ]
    }
   ],
   "source": [
    "result = pd.concat([boys,girls], axis=0,ignore_index=True)\n",
    "print(result.shape)\n",
    "result=result.iloc[108:114,0:2]\n",
    "print(result)"
   ]
  },
  {
   "cell_type": "code",
   "execution_count": 62,
   "metadata": {},
   "outputs": [],
   "source": [
    "#------------------------------------------------EXAMPLE#2-------------------------------------------------------------"
   ]
  },
  {
   "cell_type": "code",
   "execution_count": 77,
   "metadata": {},
   "outputs": [],
   "source": [
    "df11 = pd.DataFrame({'A': ['A0', 'A1', 'A2', 'A3'],\n",
    "                       'B': ['B0', 'B1', 'B2', 'B3'],\n",
    "                       'C': ['C0', 'C1', 'C2', 'C3'],\n",
    "                       'D': ['D0', 'D1', 'D2', 'D3']},\n",
    "                       index=[0, 1, 2, 3])\n",
    "\n",
    "\n",
    "df22 = pd.DataFrame({\n",
    "                     'F': ['B4', 'B5', 'B6', 'B7'],\n",
    "                     'E': ['C4', 'C5', 'C6', 'C7']},\n",
    "                      index=[4, 5, 6, 7])"
   ]
  },
  {
   "cell_type": "code",
   "execution_count": 78,
   "metadata": {},
   "outputs": [
    {
     "name": "stdout",
     "output_type": "stream",
     "text": [
      "     A    B    C    D    E    F\n",
      "0   A0   B0   C0   D0  NaN  NaN\n",
      "1   A1   B1   C1   D1  NaN  NaN\n",
      "2   A2   B2   C2   D2  NaN  NaN\n",
      "3   A3   B3   C3   D3  NaN  NaN\n",
      "4  NaN  NaN  NaN  NaN   C4   B4\n",
      "5  NaN  NaN  NaN  NaN   C5   B5\n",
      "6  NaN  NaN  NaN  NaN   C6   B6\n",
      "7  NaN  NaN  NaN  NaN   C7   B7\n"
     ]
    }
   ],
   "source": [
    "result = pd.concat([df1,df2], axis=0,ignore_index=True, sort=True)\n",
    "print(result)​ignore_index=True"
   ]
  },
  {
   "cell_type": "code",
   "execution_count": 79,
   "metadata": {},
   "outputs": [
    {
     "name": "stdout",
     "output_type": "stream",
     "text": [
      "     0    1    2    3    4    5\n",
      "0   A0   B0   C0   D0  NaN  NaN\n",
      "1   A1   B1   C1   D1  NaN  NaN\n",
      "2   A2   B2   C2   D2  NaN  NaN\n",
      "3   A3   B3   C3   D3  NaN  NaN\n",
      "4  NaN  NaN  NaN  NaN   B4   C4\n",
      "5  NaN  NaN  NaN  NaN   B5   C5\n",
      "6  NaN  NaN  NaN  NaN   B6   C6\n",
      "7  NaN  NaN  NaN  NaN   B7   C7\n"
     ]
    }
   ],
   "source": [
    "result = pd.concat([df1,df2], axis=1,ignore_index=True, sort=True)\n",
    "print(result)"
   ]
  },
  {
   "cell_type": "markdown",
   "metadata": {},
   "source": [
    "# [2] APPEND"
   ]
  },
  {
   "cell_type": "code",
   "execution_count": 80,
   "metadata": {},
   "outputs": [],
   "source": [
    "boysgirls = boys.append(girls)"
   ]
  },
  {
   "cell_type": "code",
   "execution_count": 81,
   "metadata": {},
   "outputs": [
    {
     "name": "stdout",
     "output_type": "stream",
     "text": [
      "(220, 13)\n"
     ]
    }
   ],
   "source": [
    "print(boysgirls.shape)"
   ]
  },
  {
   "cell_type": "code",
   "execution_count": 82,
   "metadata": {},
   "outputs": [
    {
     "name": "stdout",
     "output_type": "stream",
     "text": [
      "                      State_UT     year\n",
      "108                  All India  2014-15\n",
      "109                  All India  2015-16\n",
      "0                    All India  2013-14\n",
      "1                    All India  2014-15\n",
      "2                    All India  2015-16\n",
      "3    Andaman & Nicobar Islands  2013-14\n"
     ]
    }
   ],
   "source": [
    "boysgirls=boysgirls.iloc[108:114,0:2]\n",
    "print(boysgirls)"
   ]
  },
  {
   "cell_type": "code",
   "execution_count": 84,
   "metadata": {},
   "outputs": [
    {
     "name": "stdout",
     "output_type": "stream",
     "text": [
      "                      State_UT     year\n",
      "108                  All India  2014-15\n",
      "109                  All India  2015-16\n",
      "0                    All India  2013-14\n",
      "1                    All India  2014-15\n",
      "2                    All India  2015-16\n",
      "3    Andaman & Nicobar Islands  2013-14\n"
     ]
    }
   ],
   "source": [
    "#We can append multi dataframes\n",
    "result = boys.append([girls])\n",
    "\n",
    "\n",
    "result=result.iloc[108:114,0:2]\n",
    "print(result)"
   ]
  },
  {
   "cell_type": "code",
   "execution_count": 88,
   "metadata": {},
   "outputs": [
    {
     "name": "stdout",
     "output_type": "stream",
     "text": [
      "     A    B    C    D    F    E\n",
      "0   A0   B0   C0   D0  NaN  NaN\n",
      "1   A1   B1   C1   D1  NaN  NaN\n",
      "2   A2   B2   C2   D2  NaN  NaN\n",
      "3   A3   B3   C3   D3  NaN  NaN\n",
      "4  NaN  NaN  NaN  NaN   B4   C4\n",
      "5  NaN  NaN  NaN  NaN   B5   C5\n",
      "6  NaN  NaN  NaN  NaN   B6   C6\n",
      "7  NaN  NaN  NaN  NaN   B7   C7\n"
     ]
    }
   ],
   "source": [
    "result = df11.append(df22, ignore_index=True, sort=False)\n",
    "print(result)"
   ]
  },
  {
   "cell_type": "markdown",
   "metadata": {},
   "source": [
    "# [3] JOIN"
   ]
  },
  {
   "cell_type": "code",
   "execution_count": 55,
   "metadata": {},
   "outputs": [],
   "source": [
    "df1 = pd.DataFrame({'A': ['A0', 'A1', 'A2', 'A3'],\n",
    "                       'B': ['B0', 'B1', 'B2', 'B3'],\n",
    "                       'C': ['C0', 'C1', 'C2', 'C3'],\n",
    "                       'D': ['D0', 'D1', 'D2', 'D3']},\n",
    "                       index=[0, 1, 2, 3])\n",
    "\n",
    "\n",
    "df2 = pd.DataFrame({'A': ['A4', 'A5', 'A6', 'A7'],\n",
    "                     'B': ['B4', 'B5', 'B6', 'B7'],\n",
    "                     'C': ['C4', 'C5', 'C6', 'C7'],\n",
    "                     'D': ['D4', 'D5', 'D6', 'D7']},\n",
    "                      index=[4, 5, 6, 7])\n",
    "                   \n",
    "                   \n",
    "                   \n",
    "df3 = pd.DataFrame({'A': ['A8', 'A9', 'A10', 'A11'],\n",
    "                     'B': ['B8', 'B9', 'B10', 'B11'],\n",
    "                     'C': ['C8', 'C9', 'C10', 'C11'],\n",
    "                     'D': ['D8', 'D9', 'D10', 'D11']},\n",
    "                     index=[8, 9, 10, 11])                 "
   ]
  },
  {
   "cell_type": "code",
   "execution_count": 56,
   "metadata": {},
   "outputs": [
    {
     "data": {
      "text/html": [
       "<div>\n",
       "<style scoped>\n",
       "    .dataframe tbody tr th:only-of-type {\n",
       "        vertical-align: middle;\n",
       "    }\n",
       "\n",
       "    .dataframe tbody tr th {\n",
       "        vertical-align: top;\n",
       "    }\n",
       "\n",
       "    .dataframe thead th {\n",
       "        text-align: right;\n",
       "    }\n",
       "</style>\n",
       "<table border=\"1\" class=\"dataframe\">\n",
       "  <thead>\n",
       "    <tr style=\"text-align: right;\">\n",
       "      <th></th>\n",
       "      <th>A</th>\n",
       "      <th>B</th>\n",
       "      <th>C</th>\n",
       "      <th>D</th>\n",
       "    </tr>\n",
       "  </thead>\n",
       "  <tbody>\n",
       "    <tr>\n",
       "      <th>0</th>\n",
       "      <td>A0</td>\n",
       "      <td>B0</td>\n",
       "      <td>C0</td>\n",
       "      <td>D0</td>\n",
       "    </tr>\n",
       "    <tr>\n",
       "      <th>1</th>\n",
       "      <td>A1</td>\n",
       "      <td>B1</td>\n",
       "      <td>C1</td>\n",
       "      <td>D1</td>\n",
       "    </tr>\n",
       "    <tr>\n",
       "      <th>2</th>\n",
       "      <td>A2</td>\n",
       "      <td>B2</td>\n",
       "      <td>C2</td>\n",
       "      <td>D2</td>\n",
       "    </tr>\n",
       "    <tr>\n",
       "      <th>3</th>\n",
       "      <td>A3</td>\n",
       "      <td>B3</td>\n",
       "      <td>C3</td>\n",
       "      <td>D3</td>\n",
       "    </tr>\n",
       "  </tbody>\n",
       "</table>\n",
       "</div>"
      ],
      "text/plain": [
       "    A   B   C   D\n",
       "0  A0  B0  C0  D0\n",
       "1  A1  B1  C1  D1\n",
       "2  A2  B2  C2  D2\n",
       "3  A3  B3  C3  D3"
      ]
     },
     "execution_count": 56,
     "metadata": {},
     "output_type": "execute_result"
    }
   ],
   "source": [
    "df1.head()"
   ]
  },
  {
   "cell_type": "code",
   "execution_count": null,
   "metadata": {},
   "outputs": [],
   "source": []
  },
  {
   "cell_type": "code",
   "execution_count": null,
   "metadata": {},
   "outputs": [],
   "source": []
  }
 ],
 "metadata": {
  "kernelspec": {
   "display_name": "Python 3",
   "language": "python",
   "name": "python3"
  },
  "language_info": {
   "codemirror_mode": {
    "name": "ipython",
    "version": 3
   },
   "file_extension": ".py",
   "mimetype": "text/x-python",
   "name": "python",
   "nbconvert_exporter": "python",
   "pygments_lexer": "ipython3",
   "version": "3.6.5"
  }
 },
 "nbformat": 4,
 "nbformat_minor": 2
}
